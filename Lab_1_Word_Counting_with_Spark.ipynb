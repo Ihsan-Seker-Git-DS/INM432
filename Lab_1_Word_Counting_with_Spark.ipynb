{
  "nbformat": 4,
  "nbformat_minor": 0,
  "metadata": {
    "colab": {
      "name": "Lab 1 - Word Counting with Spark.ipynb",
      "provenance": [],
      "collapsed_sections": [],
      "toc_visible": true,
      "include_colab_link": true
    },
    "kernelspec": {
      "name": "python3",
      "display_name": "Python 3"
    }
  },
  "cells": [
    {
      "cell_type": "markdown",
      "metadata": {
        "id": "view-in-github",
        "colab_type": "text"
      },
      "source": [
        "<a href=\"https://colab.research.google.com/github/Ihsan-Seker-Git-DS/INM432/blob/main/Lab_1_Word_Counting_with_Spark.ipynb\" target=\"_parent\"><img src=\"https://colab.research.google.com/assets/colab-badge.svg\" alt=\"Open In Colab\"/></a>"
      ]
    },
    {
      "cell_type": "markdown",
      "metadata": {
        "id": "RKJWSvSKOl1c"
      },
      "source": [
        "# Lab Sheet 1: PySpark Demo and Word Counting with Spark\n",
        "\n",
        "To get you started, we'll walk you through a bit of Colab specific Python and some PySpark code, and then we'll do the classic word count example, followed by some tasks for you to try.\n",
        "\n",
        "**Please run through the notebook cell by cell (using 'run' above or 'shift-return' on the keyboard).**"
      ]
    },
    {
      "cell_type": "markdown",
      "metadata": {
        "id": "95B3FYvqPya6"
      },
      "source": [
        "##Preliminaries: Preparing Colab and Spark\n",
        "1.   When you open this notebook from the shared \"Big_Data\" folder, you **don't have write access**. When you save it, a **copy** will be created in the **folder \"Colab Notebooks\"**.\n",
        "2.   The code below will **mount Google Drive** as a **directory** in the file system (the machine is a virtual Linux box). You will need to **authorise** this in a pop-up window that is opened automatically."
      ]
    },
    {
      "cell_type": "code",
      "metadata": {
        "id": "8edGFcfkPx50",
        "colab": {
          "base_uri": "https://localhost:8080/"
        },
        "outputId": "f54e6304-1b7c-4e3f-e6a0-d41c37a8a4ae"
      },
      "source": [
        "# Load the Drive helper and mount\n",
        "from google.colab import drive\n",
        "\n",
        "# This will prompt for authorization.\n",
        "drive.mount('/content/drive')"
      ],
      "execution_count": 1,
      "outputs": [
        {
          "output_type": "stream",
          "name": "stdout",
          "text": [
            "Mounted at /content/drive\n"
          ]
        }
      ]
    },
    {
      "cell_type": "markdown",
      "metadata": {
        "id": "GpO-PaoGUID4"
      },
      "source": [
        "Next, we check if we can read the `Big_Data` folder. If the command below fails, go back to the shared [`Big_Data`]() folder and click on **\"Add to My Drive\"** in the folder menu."
      ]
    },
    {
      "cell_type": "code",
      "metadata": {
        "id": "_Bn28SFjUHC_",
        "colab": {
          "base_uri": "https://localhost:8080/"
        },
        "outputId": "a85a7c6a-33ee-4f8d-e70b-5fd6d956dc9a"
      },
      "source": [
        "%ls \"/content/drive/My Drive/Big_Data/data/\" "
      ],
      "execution_count": 2,
      "outputs": [
        {
          "output_type": "stream",
          "name": "stdout",
          "text": [
            "\u001b[0m\u001b[01;34m20_newsgroups\u001b[0m/  hamlet.txt  \u001b[01;34mlingspam_public\u001b[0m/  \u001b[01;34mspark\u001b[0m/\n",
            "\u001b[01;34mfoodhygiene\u001b[0m/    \u001b[01;34mlibrary\u001b[0m/    \u001b[01;34mmovielens-small\u001b[0m/  stopwords2.txt\n"
          ]
        }
      ]
    },
    {
      "cell_type": "markdown",
      "metadata": {
        "id": "fpUd_fHJRInX"
      },
      "source": [
        "Next, we **install Spark** (may take a minute or two). This will need to be done **every time a new machine is created**. \n"
      ]
    },
    {
      "cell_type": "code",
      "metadata": {
        "id": "2S9ShIHjSlDS",
        "colab": {
          "base_uri": "https://localhost:8080/"
        },
        "outputId": "9d4d2ad3-4754-4304-f5a2-f33d088d140e"
      },
      "source": [
        "%cd\n",
        "!apt-get install openjdk-8-jdk-headless -qq > /dev/null # installing java\n",
        "!tar -xzf \"/content/drive/My Drive/Big_Data/data/spark/spark-3.2.0-bin-hadoop2.7.tgz\" # unpacking \n",
        "import os # Python package for interaction with the operating system\n",
        "os.environ[\"JAVA_HOME\"] = \"/usr/lib/jvm/java-8-openjdk-amd64\" # tell the system where Java lives\n",
        "os.environ[\"SPARK_HOME\"] = \"/root/spark-3.2.0-bin-hadoop2.7\" # and where spark lives\n",
        "!pip install -q findspark # install helper package\n",
        "import findspark # use the helper package\n",
        "findspark.init() # to set up spark\n",
        "%cd \"/content/drive/My Drive/Big_Data\" "
      ],
      "execution_count": 3,
      "outputs": [
        {
          "output_type": "stream",
          "name": "stdout",
          "text": [
            "/root\n",
            "/content/drive/.shortcut-targets-by-id/10ijQ0eE11e3MwBmUKbK5TXTdvKIqsjXZ/Big_Data\n"
          ]
        }
      ]
    },
    {
      "cell_type": "markdown",
      "metadata": {
        "id": "rmJvtPxjOl1e"
      },
      "source": [
        "## Part 1 - Demo: Apache Spark API with PySpark\n",
        "\n",
        "Basically there are **2 APIs** available in Apache Spark - **RDD** (Resilient Distributed Datasets) and **DataFrame** (extended by Dataset in Scala and Java). In this lab we will look at RDDs and Dataframes in Python. \n",
        "\n",
        "For **more information** on the **Spark framework** - visit (https://spark.apache.org).\n",
        "For more information on the **Pyspark API** - visit (https://spark.apache.org/docs/latest/api/python/index.html)."
      ]
    },
    {
      "cell_type": "markdown",
      "metadata": {
        "id": "zmoNsdqQOl1f"
      },
      "source": [
        "### 1) Access to Spark\n",
        "\n",
        "We start by cretaing a **SparkContext**, normally called **`sc`**. \n",
        "We use that to create RDDs and a **SparkSession** object (for DataFrames), often just called **`spark`**. "
      ]
    },
    {
      "cell_type": "code",
      "metadata": {
        "id": "12aW4ncAOl1h",
        "colab": {
          "base_uri": "https://localhost:8080/"
        },
        "outputId": "fef64db4-e47d-4110-bee1-2554d59498b0"
      },
      "source": [
        "import pyspark\n",
        "# get a spark context\n",
        "sc = pyspark.SparkContext.getOrCreate() # What is spark context?\n",
        "print(sc)\n",
        "# get the context\n",
        "spark = pyspark.sql.SparkSession.builder.getOrCreate() # What is spark session?\n",
        "print(spark) "
      ],
      "execution_count": 4,
      "outputs": [
        {
          "output_type": "stream",
          "name": "stdout",
          "text": [
            "<SparkContext master=local[*] appName=pyspark-shell>\n",
            "<pyspark.sql.session.SparkSession object at 0x7f29ca8a5950>\n"
          ]
        }
      ]
    },
    {
      "cell_type": "markdown",
      "metadata": {
        "id": "ctb3qeAkOl1m"
      },
      "source": [
        "### 2) RDD Creation\n",
        "\n",
        "There are **multiple** ways to **create RDDs**. \n",
        "\n",
        "One is to **parallelise** a **Python object** that exists in your driver process (i.e. the process that runs this notebook), which we will do in the next cell. \n",
        "\n",
        "Anoter way is to create an **RDD** is by referencing an **external dataset** such as a shared filesystem, HDFS, HBase, or just data source offering a Hadoop InputFormat. This is what we will be using later in this lab (further down)."
      ]
    },
    {
      "cell_type": "code",
      "metadata": {
        "id": "phwtMBs2Ol1p",
        "colab": {
          "base_uri": "https://localhost:8080/"
        },
        "outputId": "1b682d82-1ab6-4338-9252-f56ddcd36025"
      },
      "source": [
        "# Create an RDD from a Python object in this process (the \"driver\").\n",
        "# The parallelize function  creating the \"numbers\" RDD\n",
        "data = [1,2,3,4,5]\n",
        "firstRDD = sc.parallelize(data) # Parallelize function allows Spark to distribute the data across multiple nodes (up to 100 linux vm's), instead of depending on a single node to process the data\n",
        "print(firstRDD)\n",
        "print(firstRDD.getStorageLevel())\n",
        "print(firstRDD.getNumPartitions())"
      ],
      "execution_count": 6,
      "outputs": [
        {
          "output_type": "stream",
          "name": "stdout",
          "text": [
            "ParallelCollectionRDD[0] at readRDDFromFile at PythonRDD.scala:274\n",
            "Serialized 1x Replicated\n",
            "2\n"
          ]
        }
      ]
    },
    {
      "cell_type": "markdown",
      "metadata": {
        "id": "sx75RI9mOl1s"
      },
      "source": [
        "This RDD lives now on as many worker machines as are available and as are deemed useful by Spark. \n",
        "\n",
        "We can see that **`firstRDD`** has only been replicated once, which is because we only have a single machine running Spark. There are 2 partitions, so we can have 2 parallel threads "
      ]
    },
    {
      "cell_type": "markdown",
      "metadata": {
        "id": "cDnZCdSTOl1t"
      },
      "source": [
        "### 3) RDD operations\n",
        "RDDs have two kinds of operations: ***Transformations*** and ***Actions***.\n",
        "\n",
        "***Transformations*** create a new RDD by applying a function to the items in the RDD. The function will be registered with the new RDD, but only be applied when needed. This is called ***lazy evaluation***.\n",
        "\n",
        "***Actions*** produce some output from the data. An *Action* will trigger the execution of all *Transformations* registered with the RDD.\n",
        "\n",
        "Here are some examples:"
      ]
    },
    {
      "cell_type": "code",
      "metadata": {
        "id": "Q25kDkt9Ol1v",
        "colab": {
          "base_uri": "https://localhost:8080/"
        },
        "outputId": "28d616af-9b15-43e6-faa0-0338b6b2793d"
      },
      "source": [
        "def myfun(x):\n",
        "  return x+3\n",
        "# lambda function: x -> x+3\n",
        "# RDD2 = firstRDD.map(lambda x:x+3)\n",
        "RDD2 = firstRDD.map(myfun)  \n",
        "print(RDD2)\n",
        "# nothing happened to far, as there is no action"
      ],
      "execution_count": 7,
      "outputs": [
        {
          "output_type": "stream",
          "name": "stdout",
          "text": [
            "PythonRDD[1] at RDD at PythonRDD.scala:53\n"
          ]
        }
      ]
    },
    {
      "cell_type": "markdown",
      "metadata": {
        "id": "QhIIytM9bSvm"
      },
      "source": [
        "If the functions are short (one expression, to be exact), it can be more convenient to write a **lambda** expression, that creates an **anonymous function**. "
      ]
    },
    {
      "cell_type": "code",
      "metadata": {
        "id": "IEtzNnm4bZfe",
        "colab": {
          "base_uri": "https://localhost:8080/"
        },
        "outputId": "c20a6c46-917b-448f-f314-bddea3d0e1be"
      },
      "source": [
        "RDD3 = firstRDD.map(lambda x:x+3) # this is the same as using myfun \n",
        "print(RDD3)\n",
        "# nothing happened to far, as there is no action"
      ],
      "execution_count": 8,
      "outputs": [
        {
          "output_type": "stream",
          "name": "stdout",
          "text": [
            "PythonRDD[2] at RDD at PythonRDD.scala:53\n"
          ]
        }
      ]
    },
    {
      "cell_type": "markdown",
      "metadata": {
        "id": "6xp2aTh8Ol15"
      },
      "source": [
        "So far, the function we created with the lambda has not actually been executed. \n",
        "\n",
        "Next we use **`collect`**, which is an **action** and therefore triggers the execution. \n",
        "**`collect`**returns the items in the RDD back into this local driver process in a Python array.](https://)"
      ]
    },
    {
      "cell_type": "code",
      "metadata": {
        "id": "tdaNRc0SOl15",
        "colab": {
          "base_uri": "https://localhost:8080/"
        },
        "outputId": "7bee05d5-632f-4a73-d1de-e276379d0fb9"
      },
      "source": [
        "a = RDD2.collect() \n",
        "print(a)\n",
        "\n",
        "b = RDD3.collect() \n",
        "print(b)"
      ],
      "execution_count": 9,
      "outputs": [
        {
          "output_type": "stream",
          "name": "stdout",
          "text": [
            "[4, 5, 6, 7, 8]\n",
            "[4, 5, 6, 7, 8]\n"
          ]
        }
      ]
    },
    {
      "cell_type": "markdown",
      "metadata": {
        "id": "FXmtXG0hOl19"
      },
      "source": [
        "As we can seee above, *myfun* (RDD2) and the *lambda x: x+3* (RDD3) have the same effect.\n",
        "\n",
        "Look here for more information about the functions provided by the RDD class: (https://spark.apache.org/docs/2.4.0/api/python/pyspark.html#pyspark.RDD). "
      ]
    },
    {
      "cell_type": "markdown",
      "metadata": {
        "id": "lUl3upk0Ol1-"
      },
      "source": [
        "### 4) Dataframes \n",
        "\n",
        "**Dataframes** are a **more structured** form of storage than RDDs and similar to Pandas dataframes.  \n",
        "\n",
        "Let us see how to create and use dataframes. There are three ways of **creating a dataframe**:\n",
        "1. from an existing RDD.\n",
        "2. form and external data source, e.g., loading the data from JSON or CSV files.\n",
        "3. programmatically specifying schema and data. \n",
        "\n",
        "Here is an example for option a). We use the *Row* class to create structured data rows."
      ]
    },
    {
      "cell_type": "code",
      "metadata": {
        "id": "hSIzFqAQOl1_",
        "colab": {
          "base_uri": "https://localhost:8080/"
        },
        "outputId": "35874d9d-0c6e-4b46-aeb6-431a7c892506"
      },
      "source": [
        "from pyspark.sql import Row\n",
        "\n",
        "dataList = [('Anne',21),('Bob',22),('Carl',29),('Daisy',36)] # our data as a list\n",
        "rdd = sc.parallelize(dataList) # RDD from the list\n",
        "peopleRDD = rdd.map(lambda x: Row(name=x[0], age=int(x[1]))) # RDD\n",
        "peopleDF = spark.createDataFrame(peopleRDD) \n",
        "print(peopleDF)\n",
        "peopleDF.show()"
      ],
      "execution_count": 10,
      "outputs": [
        {
          "output_type": "stream",
          "name": "stdout",
          "text": [
            "DataFrame[name: string, age: bigint]\n",
            "+-----+---+\n",
            "| name|age|\n",
            "+-----+---+\n",
            "| Anne| 21|\n",
            "|  Bob| 22|\n",
            "| Carl| 29|\n",
            "|Daisy| 36|\n",
            "+-----+---+\n",
            "\n"
          ]
        }
      ]
    },
    {
      "cell_type": "markdown",
      "metadata": {
        "id": "vsGAOxX2Ol2G"
      },
      "source": [
        "## Part 2: Classic Word Count\n",
        "\n",
        "We will now do the **classic word count example** for the MapReduce pattern.\n",
        "\n",
        "We will apply it to the text of Sheakespeare's play *Hamlet*. To access that, you should have added the `Big_Data` folder to your own Google Drive. Double check that this part of the **preliminaries** section above was executed correctly, otherwise go back and fix this first."
      ]
    },
    {
      "cell_type": "markdown",
      "metadata": {
        "id": "-eWjGlkbOl2H"
      },
      "source": [
        "### 1) Load the data\n",
        "First we need to load the **text into an RDD** (the second method of creating an RDD as mentioned above). \n",
        "\n",
        "We need to specify the path, and we can read directly from the shared Big_Data directory. "
      ]
    },
    {
      "cell_type": "code",
      "metadata": {
        "id": "kzdsuhxtOl2H"
      },
      "source": [
        "filepath = \"/content/drive/My Drive/Big_Data/data/hamlet.txt\""
      ],
      "execution_count": 11,
      "outputs": []
    },
    {
      "cell_type": "markdown",
      "metadata": {
        "id": "_5q8UiCtOl2J"
      },
      "source": [
        "You can read the file into an RDD with **`textFile`**. The RDD then contains as items the **lines of the text**. **`take(3)`** then gives us the first 3 lines.  "
      ]
    },
    {
      "cell_type": "code",
      "metadata": {
        "id": "OM_vQDsGOl2J",
        "colab": {
          "base_uri": "https://localhost:8080/"
        },
        "outputId": "8b4cf828-4c51-4d8e-ae76-b355d39efbe1"
      },
      "source": [
        "lineRDD = sc.textFile(filepath)\n",
        "lineRDD.take(3) # Take is an action which takes the n number of lines specified, 3 in this case. "
      ],
      "execution_count": 12,
      "outputs": [
        {
          "output_type": "execute_result",
          "data": {
            "text/plain": [
              "['Project Gutenberg Etext of Hamlet by Shakespeare',\n",
              " \"PG has multiple editions of William Shakespeare's Complete Works\",\n",
              " '']"
            ]
          },
          "metadata": {},
          "execution_count": 12
        }
      ]
    },
    {
      "cell_type": "markdown",
      "metadata": {
        "id": "ab6vKwgvOl2L"
      },
      "source": [
        "### 2) Split lines into words\n",
        "\n",
        "In order to count the words, we need to split the lines into words. We can do that using the **`split`** function of the Python String class to separate at each space. \n",
        "\n",
        "The map function replaces each item with a new one. In this case, our **`lambda`** returns an array of words (provided by `split(' ')`). However, we want to create one item per word. Therefore, we need to use a function called **`flatMap`** that creates a new RDD item for every item in the array returned by the lambda.  "
      ]
    },
    {
      "cell_type": "code",
      "metadata": {
        "id": "WwI2cDlSOl2L",
        "colab": {
          "base_uri": "https://localhost:8080/"
        },
        "outputId": "03cc8969-a54e-4514-c8d2-b39f4d71a8aa"
      },
      "source": [
        "wordRDD = lineRDD.flatMap(lambda x: x.split(' '))\n",
        "wordRDD.take(3)"
      ],
      "execution_count": 13,
      "outputs": [
        {
          "output_type": "execute_result",
          "data": {
            "text/plain": [
              "['Project', 'Gutenberg', 'Etext']"
            ]
          },
          "metadata": {},
          "execution_count": 13
        }
      ]
    },
    {
      "cell_type": "markdown",
      "metadata": {
        "id": "jDuHh_ocOl2N"
      },
      "source": [
        "We  then **map** the words to **tuples** of the form *(word, 1)*."
      ]
    },
    {
      "cell_type": "code",
      "metadata": {
        "id": "0PXZXAGpOl2O",
        "colab": {
          "base_uri": "https://localhost:8080/"
        },
        "outputId": "829b9261-1c58-414a-a39e-1be1cb1860e1"
      },
      "source": [
        "word1RDD = wordRDD.map(lambda x: (x, 1))\n",
        "word1RDD.take(3)"
      ],
      "execution_count": 14,
      "outputs": [
        {
          "output_type": "execute_result",
          "data": {
            "text/plain": [
              "[('Project', 1), ('Gutenberg', 1), ('Etext', 1)]"
            ]
          },
          "metadata": {},
          "execution_count": 14
        }
      ]
    },
    {
      "cell_type": "markdown",
      "metadata": {
        "id": "5BplN07GOl2P"
      },
      "source": [
        "### 3) Count by reducing\n",
        "For Spark, the first part in each tuple is the '**key**'. Now we can use **`reduceByKey()`** to add the 1s, giving the number of occurences per word."
      ]
    },
    {
      "cell_type": "code",
      "metadata": {
        "id": "HRFaQARsOl2Q",
        "colab": {
          "base_uri": "https://localhost:8080/"
        },
        "outputId": "a829f9a1-cf2a-406a-852a-09e624f9a481"
      },
      "source": [
        "wordCountRDD = word1RDD.reduceByKey(lambda x,y: x+y )\n",
        "wordCountRDD.take(3)"
      ],
      "execution_count": 15,
      "outputs": [
        {
          "output_type": "execute_result",
          "data": {
            "text/plain": [
              "[('Project', 21), ('Etext', 4), ('of', 679)]"
            ]
          },
          "metadata": {},
          "execution_count": 15
        }
      ]
    },
    {
      "cell_type": "markdown",
      "metadata": {
        "id": "G38rUrlVOl2S"
      },
      "source": [
        "### 4) Filtering \n",
        "\n",
        "There are many empty strings returned by the splitting. We can remove them by **filtering**.\n",
        "**`filter()`** keeps only the items where the test function (specified by our lambda) returns `true`."
      ]
    },
    {
      "cell_type": "code",
      "metadata": {
        "id": "ZQ9mBefpOl2S",
        "colab": {
          "base_uri": "https://localhost:8080/"
        },
        "outputId": "b21a43b6-cfcc-4606-9ddd-99dea2c9a8a8"
      },
      "source": [
        "wordFilteredRDD = wordRDD.filter(lambda x: len(x)>0)\n",
        "word1RDD = wordFilteredRDD.map(lambda x: (x, 1))\n",
        "wordCountRDD = word1RDD.reduceByKey(lambda x,y: x+y )\n",
        "wcList = wordCountRDD.collect()\n",
        "print(wcList[1:5])"
      ],
      "execution_count": 16,
      "outputs": [
        {
          "output_type": "stream",
          "name": "stdout",
          "text": [
            "[('Etext', 4), ('of', 679), ('Shakespeare', 5), ('multiple', 3)]\n"
          ]
        }
      ]
    },
    {
      "cell_type": "markdown",
      "metadata": {
        "id": "oyubLNalOl2W"
      },
      "source": [
        "## Part 3: Tasks for you to work on\n",
        "\n",
        "Based on the examples above, you can now try and write some code yourself.  Look for the lines starting with **>>>**. You neeed to fix them by writing your own code."
      ]
    },
    {
      "cell_type": "markdown",
      "metadata": {
        "id": "bubScba3vLNG"
      },
      "source": [
        "### 0) Warm-up: Take a shortcut\n",
        "\n",
        "We can take a shortcut and use a **ready-made function** **`countByValue()`**, which does the same as we did above without us specifying a lambda for addition (https://spark.apache.org/docs/latest/api/python/pyspark.html#pyspark.RDD.countByValue)."
      ]
    },
    {
      "cell_type": "code",
      "metadata": {
        "id": "bTJdSqcMveUt",
        "colab": {
          "base_uri": "https://localhost:8080/"
        },
        "outputId": "0ba50430-5e36-4df1-b617-4076890255d1"
      },
      "source": [
        "wordFilteredRDD = wordRDD.filter(lambda x: len(x)>0)\n",
        "wcList =  wordFilteredRDD.countByValue()# your code goes here, use countByValue on wordFilteredRDD to create wcList.\n",
        "print(wcList)"
      ],
      "execution_count": 21,
      "outputs": [
        {
          "output_type": "stream",
          "name": "stdout",
          "text": [
            "defaultdict(<class 'int'>, {'Project': 21, 'Gutenberg': 16, 'Etext': 4, 'of': 679, 'Hamlet': 31, 'by': 118, 'Shakespeare': 5, 'PG': 2, 'has': 17, 'multiple': 3, 'editions': 2, 'William': 4, \"Shakespeare's\": 2, 'Complete': 2, 'Works': 2, 'Copyright': 1, 'laws': 2, 'are': 127, 'changing': 1, 'all': 94, 'over': 4, 'the': 1044, 'world,': 3, 'be': 198, 'sure': 5, 'to': 648, 'check': 2, 'copyright': 8, 'for': 185, 'your': 235, 'country': 2, 'before': 14, 'posting': 1, 'these': 42, 'files!!': 1, 'Please': 2, 'take': 29, 'a': 478, 'look': 22, 'at': 85, 'important': 2, 'information': 4, 'in': 398, 'this': 230, 'header.': 1, 'We': 36, 'encourage': 1, 'you': 401, 'keep': 18, 'file': 4, 'on': 111, 'own': 36, 'disk,': 2, 'keeping': 1, 'an': 53, 'electronic': 1, 'path': 2, 'open': 3, 'next': 5, 'readers.': 2, 'Do': 23, 'not': 260, 'remove': 1, 'this.': 6, '**Welcome': 1, 'To': 121, 'The': 155, 'World': 1, 'Free': 2, 'Plain': 1, 'Vanilla': 1, 'Electronic': 1, 'Texts**': 1, '**Etexts': 1, 'Readable': 1, 'By': 21, 'Both': 5, 'Humans': 1, 'and': 730, 'Computers,': 1, 'Since': 9, '1971**': 1, '*These': 1, 'Etexts': 7, 'Prepared': 1, 'Hundreds': 1, 'Volunteers': 1, 'Donations*': 1, 'Information': 2, 'contacting': 1, 'get': 14, 'Etexts,': 1, 'further': 10, 'is': 315, 'included': 1, 'below.': 1, 'need': 5, 'donations.': 1, 'Hamlet,': 26, 'Prince': 2, 'Denmark': 9, '[Collins': 1, 'edition]': 1, 'November,': 1, '1998': 1, '[Etext': 1, '#1524]': 1, 'Most': 13, 'recently': 1, 'updated:': 1, 'January': 1, '26,': 1, '2009': 1, '******This': 1, 'should': 55, 'named': 1, '2ws2610.txt': 1, 'or': 110, '2ws2610.zip******': 1, 'Corrected': 1, 'EDITIONS': 1, 'our': 119, 'etexts': 2, 'new': 5, 'NUMBER,': 1, '2ws2611.txt': 1, 'VERSIONS': 1, 'based': 1, 'separate': 1, 'sources': 1, 'LETTER,': 1, '2ws2610a.txt': 1, 'This': 54, 'etext': 18, 'was': 69, 'prepared': 3, 'Dianne': 2, 'Bean.': 2, 'usually': 2, 'created': 1, 'from': 93, 'editions,': 1, 'which': 38, 'Public': 1, 'Domain': 1, 'United': 3, 'States,': 1, 'unless': 4, 'notice': 1, 'included.': 1, 'Therefore,': 2, 'we': 111, 'do': 113, 'NOT!': 1, 'books': 2, 'compliance': 1, 'with': 228, 'any': 24, 'particular': 8, 'paper': 1, 'edition.': 1, 'now': 36, 'trying': 1, 'release': 4, 'one': 37, 'month': 2, 'advance': 1, 'official': 2, 'dates,': 1, 'leaving': 1, 'time': 32, 'better': 13, 'editing.': 1, 'note:': 1, 'neither': 5, 'list': 5, 'nor': 22, 'its': 3, 'contents': 1, 'final': 1, 'till': 12, 'midnight': 2, 'last': 12, 'day': 14, 'such': 49, 'announcement.': 1, 'date': 4, 'Midnight,': 1, 'Central': 1, 'Time,': 1, 'stated': 1, 'month.': 2, 'A': 81, 'preliminary': 1, 'version': 1, 'may': 72, 'often': 4, 'posted': 1, 'suggestion,': 1, 'comment': 2, 'editing': 1, 'those': 22, 'who': 20, 'wish': 5, 'so.': 11, 'have': 162, 'up': 27, 'first': 14, 'edition': 1, '[xxxxx10x.xxx]': 1, 'please': 12, 'sizes': 1, 'week': 1, 'ftp': 2, 'program': 2, 'bug': 1, 'it': 283, 'that': 235, 'scrambles': 1, '[tried': 1, 'fix': 1, 'failed]': 1, 'size': 1, 'will': 137, 'do,': 13, 'but': 146, 'try': 5, 'see': 32, 'copy': 5, 'least': 1, 'byte': 1, 'more': 75, 'less.': 1, 'about': 17, '(one': 1, 'page)': 1, 'produce': 2, 'two': 17, 'million': 4, 'dollars': 2, 'each': 11, 'hour': 7, 'work.': 2, 'takes': 7, 'us,': 16, 'rather': 5, 'conservative': 1, 'estimate,': 1, 'fifty': 1, 'hours': 2, 'selected,': 1, 'entered,': 1, 'proofread,': 1, 'edited,': 1, 'searched': 1, 'analyzed,': 1, 'letters': 7, 'written,': 1, 'etc.': 1, 'projected': 1, 'audience': 4, 'hundred': 3, 'If': 49, 'value': 1, 'per': 3, 'text': 2, 'nominally': 1, 'estimated': 1, 'dollar': 1, 'then': 20, '$2': 1, 'year': 2, 'as': 149, 'thirty-six': 1, 'files': 1, 'month,': 2, '432': 1, '1999': 1, 'total': 3, '2000+': 1, 'reach': 3, 'just': 3, '10%': 1, 'computerized': 1, 'population,': 1, '200': 1, 'billion': 1, 'given': 10, 'away': 11, 'year.': 2, 'Goal': 1, 'Give': 21, 'Away': 1, 'One': 6, 'Trillion': 1, 'Files': 1, 'December': 1, '31,': 1, '2001.': 1, '[10,000': 1, 'x': 1, '100,000,000': 1, '=': 2, '1': 37, 'Trillion]': 1, 'ten': 5, 'thousand': 11, 'titles': 1, 'readers,': 1, 'only': 10, '~5%': 1, 'present': 5, 'number': 1, 'computer': 3, 'users.': 1, 'At': 12, 'revised': 1, 'rates': 1, 'production,': 1, 'one-third': 1, 'goal': 1, 'end': 11, '2001,': 1, '3,333': 1, 'manage': 1, 'some': 53, 'real': 1, 'funding;': 1, 'currently': 1, 'funding': 1, 'mostly': 1, 'Michael': 3, \"Hart's\": 1, 'salary': 2, 'Carnegie-Mellon': 3, 'University,': 1, 'assortment': 1, 'sporadic': 1, 'gifts;': 2, 'good': 68, 'few': 3, 'years,': 1, 'so': 110, 'looking': 1, 'something': 12, 'replace': 1, 'it,': 37, \"don't\": 2, 'want': 4, 'dependent': 1, 'person.': 1, 'donations': 2, 'than': 41, 'ever!': 1, 'All': 10, 'made': 27, '\"Project': 3, 'Gutenberg/CMU\":': 1, 'tax': 3, 'deductible': 1, 'extent': 2, 'allowable': 1, 'law.': 2, '(CMU': 1, 'Carnegie-': 1, 'Mellon': 1, 'University).': 1, 'For': 64, 'other': 27, 'matters,': 1, 'mail': 2, 'to:': 1, 'P.': 10, 'O.': 1, 'Box': 1, '2782': 1, 'Champaign,': 1, 'IL': 1, '61825': 1, 'When': 26, 'email': 2, 'fails.': 1, '.': 5, '.try': 1, 'Executive': 1, 'Director:': 1, 'S.': 2, 'Hart': 2, '<hart@pobox.com>': 1, 'hart@pobox.com': 1, 'forwards': 1, 'hart@prairienet.org': 1, 'archive.org': 1, 'if': 77, 'bounces': 2, 'archive.org,': 1, 'I': 511, 'still': 10, 'prairienet.org,': 1, 'resend': 1, 'later': 1, 'on.': 7, 'would': 64, 'prefer': 1, 'send': 5, 'email.': 1, '******': 1, 'access': 2, 'etexts,': 4, 'use': 17, 'Web': 2, 'browser': 2, 'view': 2, 'http://promo.net/pg.': 1, 'site': 1, 'lists': 1, 'author': 4, 'title,': 1, 'includes': 1, 'how': 30, 'involved': 1, 'Gutenberg.': 1, 'You': 55, 'could': 26, 'also': 4, 'download': 1, 'past': 1, 'Newsletters,': 1, 'subscribe': 1, 'here.': 2, 'major': 1, 'sites,': 1, 'hart@pobox.com,': 1, 'complete': 2, 'various': 1, 'sites.': 1, 'go': 36, 'directly': 3, 'collections,': 1, 'FTP': 2, 'visit': 5, 'mirror': 2, '(mirror': 1, 'sites': 1, 'available': 1, '7': 1, 'continents;': 1, 'mirrors': 1, 'listed': 1, 'http://promo.net/pg).': 1, 'Mac': 1, 'users,': 1, 'NOT': 3, 'point': 6, 'click,': 1, 'typing': 1, 'works': 1, 'better.': 1, 'Example': 1, 'session:': 1, 'sunsite.unc.edu': 1, 'login:': 1, 'anonymous': 1, 'password:': 1, 'your@login': 1, 'cd': 2, 'pub/docs/books/gutenberg': 1, 'etext90': 1, 'through': 10, 'etext99': 1, 'dir': 1, '[to': 5, 'files]': 2, 'mget': 1, 'files.': 1, '.set': 1, 'bin': 1, 'zip': 1, 'GET': 2, 'GUTINDEX.??': 1, \"year's\": 1, 'listing': 2, 'books,': 2, 'e.g.,': 1, 'GUTINDEX.99]': 1, 'GUTINDEX.ALL': 1, 'ALL': 1, 'books]': 1, '***': 1, '**Information': 1, 'legal': 4, 'advisor**': 1, '(Three': 1, 'Pages)': 1, '***START**THE': 1, 'SMALL': 2, 'PRINT!**FOR': 1, 'PUBLIC': 2, 'DOMAIN': 2, 'ETEXTS**START***': 1, 'Why': 19, '\"Small': 5, 'Print!\"': 5, 'statement': 2, 'here?': 3, 'know:': 1, 'lawyers.': 1, 'They': 18, 'tell': 37, 'us': 48, 'might': 28, 'sue': 1, 'there': 40, 'wrong': 5, 'etext,': 6, 'even': 15, 'got': 4, 'free': 10, 'someone': 1, \"what's\": 7, 'fault.': 1, 'So,': 6, 'among': 1, 'things,': 4, 'disclaims': 2, 'most': 73, 'liability': 2, 'you.': 23, 'It': 56, 'tells': 2, 'can': 34, 'distribute': 5, 'copies': 3, 'to.': 4, '*BEFORE!*': 1, 'YOU': 7, 'USE': 1, 'OR': 10, 'READ': 1, 'THIS': 2, 'ETEXT': 3, 'using': 2, 'reading': 1, 'part': 19, 'PROJECT': 5, 'GUTENBERG-tm': 3, 'indicate': 2, 'understand,': 1, 'agree': 2, 'accept': 1, 'statement.': 3, 'not,': 19, 'receive': 11, 'refund': 3, 'money': 4, '(if': 2, 'any)': 2, 'paid': 4, 'sending': 3, 'request': 2, 'within': 14, '30': 1, 'days': 8, 'receiving': 2, 'person': 6, 'from.': 3, 'received': 5, 'physical': 2, 'medium': 3, '(such': 1, 'disk),': 1, 'must': 56, 'return': 5, 'request.': 2, 'ABOUT': 1, 'GUTENBERG-TM': 1, 'ETEXTS': 1, 'like': 69, 'GUTENBERG-': 1, 'tm': 1, '\"public': 1, 'domain\"': 1, 'work': 6, 'distributed': 1, 'Professor': 1, 'Association': 2, 'University': 1, '(the': 1, '\"Project\").': 1, 'Among': 4, 'means': 14, 'no': 94, 'owns': 1, 'States': 2, 'work,': 3, '(and': 2, 'you!)': 1, 'without': 15, 'permission': 1, 'paying': 1, 'royalties.': 1, 'Special': 1, 'rules,': 1, 'set': 21, 'forth': 5, 'below,': 2, 'apply': 2, 'under': 3, \"Project's\": 2, '\"PROJECT': 2, 'GUTENBERG\"': 1, 'trademark.': 1, 'create': 1, 'expends': 1, 'considerable': 1, 'efforts': 1, 'identify,': 1, 'transcribe': 1, 'proofread': 1, 'public': 3, 'domain': 2, 'works.': 1, 'Despite': 1, 'efforts,': 1, 'they': 77, 'contain': 2, '\"Defects\".': 1, 'Defects': 1, 'form': 14, 'incomplete,': 1, 'inaccurate': 1, 'corrupt': 1, 'data,': 1, 'transcription': 1, 'errors,': 1, 'intellectual': 1, 'property': 5, 'infringement,': 1, 'defective': 2, 'damaged': 1, 'disk': 1, 'medium,': 2, 'virus,': 1, 'codes': 1, 'damage': 1, 'cannot': 25, 'read': 2, 'equipment.': 1, 'LIMITED': 3, 'WARRANTY;': 1, 'DISCLAIMER': 1, 'OF': 7, 'DAMAGES': 1, 'But': 85, '\"Right': 1, 'Replacement': 1, 'Refund\"': 1, 'described': 1, '[1]': 3, 'party': 2, 'etext)': 1, 'damages,': 2, 'costs': 1, 'expenses,': 1, 'including': 3, 'fees,': 2, '[2]': 3, 'HAVE': 2, 'NO': 2, 'REMEDIES': 1, 'FOR': 4, 'NEGLIGENCE': 1, 'UNDER': 2, 'STRICT': 1, 'LIABILITY,': 1, 'BREACH': 1, 'WARRANTY': 1, 'CONTRACT,': 1, 'INCLUDING': 2, 'BUT': 2, 'TO': 6, 'INDIRECT,': 1, 'CONSEQUENTIAL,': 1, 'PUNITIVE': 1, 'INCIDENTAL': 1, 'DAMAGES,': 1, 'EVEN': 2, 'IF': 3, 'GIVE': 1, 'NOTICE': 1, 'THE': 2, 'POSSIBILITY': 1, 'SUCH': 1, 'DAMAGES.': 1, 'discover': 1, 'Defect': 1, '90': 1, 'explanatory': 1, 'note': 6, 'note,': 1, 'choose': 6, 'alternatively': 2, 'give': 41, 'replacement': 2, 'copy.': 1, 'electronically,': 2, 'second': 10, 'opportunity': 1, 'electronically.': 1, 'IS': 1, 'OTHERWISE': 1, 'PROVIDED': 1, '\"AS-IS\".': 1, 'OTHER': 1, 'WARRANTIES': 2, 'ANY': 2, 'KIND,': 1, 'EXPRESS': 1, 'IMPLIED,': 1, 'ARE': 1, 'MADE': 1, 'AS': 1, 'MEDIUM': 1, 'IT': 1, 'MAY': 1, 'BE': 1, 'ON,': 1, 'MERCHANTABILITY': 1, 'FITNESS': 1, 'PARTICULAR': 1, 'PURPOSE.': 1, 'Some': 3, 'states': 1, 'allow': 1, 'disclaimers': 2, 'implied': 1, 'warranties': 1, 'exclusion': 1, 'limitation': 1, 'consequential': 1, 'above': 3, 'exclusions': 1, 'you,': 65, 'rights.': 1, 'INDEMNITY': 1, 'indemnify': 1, 'hold': 22, 'Project,': 1, 'directors,': 1, 'officers,': 1, 'members': 1, 'agents': 1, 'harmless': 1, 'liability,': 1, 'cost': 3, 'expense,': 2, 'arise': 1, 'indirectly': 1, 'following': 2, 'cause:': 2, 'distribution': 1, 'alteration,': 1, 'modification,': 1, 'addition': 2, '[3]': 2, 'Defect.': 1, 'DISTRIBUTION': 1, 'GUTENBERG-tm\"': 1, 'book': 2, 'either': 7, 'delete': 1, 'references': 1, 'Gutenberg,': 1, 'or:': 1, 'Only': 1, 'exact': 2, 'it.': 25, 'requires': 1, 'remove,': 2, 'alter': 1, 'modify': 1, '\"small': 1, 'print!\"': 1, 'however,': 1, 'wish,': 1, 'machine': 2, 'readable': 1, 'binary,': 1, 'compressed,': 1, 'mark-up,': 1, 'proprietary': 2, 'form,': 3, 'resulting': 1, 'conversion': 1, 'word': 8, 'pro-': 1, 'cessing': 1, 'hypertext': 2, 'software,': 2, 'long': 11, '*EITHER*:': 1, '[*]': 3, 'when': 30, 'displayed,': 1, 'clearly': 2, 'readable,': 1, 'does': 23, '*not*': 1, 'characters': 3, 'intended': 2, 'although': 1, 'tilde': 1, '(~),': 1, 'asterisk': 1, '(*)': 1, 'underline': 1, '(_)': 1, 'used': 2, 'convey': 2, 'punctuation': 1, 'author,': 1, 'additional': 2, 'links;': 1, 'readily': 1, 'converted': 2, 'reader': 1, 'expense': 1, 'into': 28, 'plain': 4, 'ASCII,': 1, 'EBCDIC': 2, 'equivalent': 3, 'displays': 1, '(as': 1, 'case,': 2, 'instance,': 1, 'processors);': 1, 'provide,': 1, 'provide': 1, 'cost,': 1, 'fee': 2, 'original': 1, 'ASCII': 1, '(or': 3, 'form).': 1, 'Honor': 1, 'provisions': 1, 'Pay': 1, 'trademark': 1, 'license': 1, '20%': 1, 'net': 1, 'profits': 1, 'derive': 2, 'calculated': 1, 'method': 2, 'already': 3, 'calculate': 1, 'applicable': 1, 'taxes.': 1, 'profits,': 1, 'royalty': 2, 'due.': 1, 'Royalties': 1, 'payable': 1, 'Association/Carnegie-Mellon': 1, 'University\"': 1, '60': 1, 'prepare': 4, 'were': 25, 'legally': 1, 'required': 1, 'prepare)': 1, 'annual': 2, 'periodic)': 1, 'return.': 2, 'WHAT': 1, '*WANT*': 1, 'SEND': 1, 'MONEY': 1, \"DON'T\": 1, 'TO?': 1, 'gratefully': 1, 'accepts': 2, 'contributions': 1, 'money,': 1, 'time,': 6, 'scanning': 1, 'machines,': 1, 'OCR': 1, 'licenses,': 1, 'every': 9, 'sort': 3, 'contribution': 1, 'think': 39, 'of.': 2, 'Money': 1, '/': 1, 'University\".': 1, '*END*THE': 1, 'PRINT!': 1, 'ETEXTS*Ver.04.29.93*END*': 1, 'HAMLET,': 1, 'PRINCE': 1, 'DENMARK': 1, 'PERSONS': 1, 'REPRESENTED.': 1, 'Claudius,': 1, 'King': 14, 'Denmark.': 5, 'Son': 2, 'former,': 1, 'Nephew': 1, 'King.': 108, 'Polonius,': 6, 'Lord': 11, 'Chamberlain.': 1, 'Horatio,': 16, 'Friend': 1, 'Hamlet.': 12, 'Laertes,': 18, 'Polonius.': 3, 'Voltimand,': 4, 'Courtier.': 6, 'Cornelius,': 3, 'Rosencrantz,': 8, 'Guildenstern,': 6, 'Osric,': 3, 'Gentleman,': 1, 'Priest.': 3, 'Marcellus,': 4, 'Officer.': 2, 'Bernardo,': 2, 'Francisco,': 1, 'Soldier': 1, 'Reynaldo,': 2, 'Servant': 1, 'Players.': 1, 'Two': 3, 'Clowns,': 2, 'Grave-diggers.': 1, 'Fortinbras,': 7, 'Norway.': 1, 'Captain.': 1, 'English': 2, 'Ambassadors.': 1, 'Ghost': 3, \"Hamlet's\": 9, 'Father.': 1, 'Gertrude,': 9, 'Queen': 9, 'Denmark,': 3, 'Mother': 1, 'Ophelia,': 12, 'Daughter': 1, 'Lords,': 3, 'Ladies,': 1, 'Officers,': 1, 'Soldiers,': 1, 'Sailors,': 3, 'Messengers,': 1, 'Attendants.': 1, 'SCENE.': 1, 'Elsinore.': 6, 'ACT': 4, 'I.': 8, 'Scene': 20, 'platform': 2, 'Castle.': 14, '[Francisco': 1, 'his': 278, 'post.': 1, 'Enter': 2, 'him': 122, 'Bernardo.]': 3, 'Ber.': 21, \"Who's\": 1, 'there?': 4, 'Fran.': 8, 'Nay,': 22, 'answer': 8, 'me:': 10, 'stand,': 1, 'unfold': 2, 'yourself.': 3, 'Long': 2, 'live': 12, 'king!': 3, 'Bernardo?': 1, 'He.': 1, 'come': 48, 'carefully': 1, 'upon': 38, 'hour.': 1, \"'Tis\": 25, 'struck': 4, 'twelve.': 2, 'Get': 5, 'thee': 34, 'bed,': 3, 'Francisco.': 1, 'relief': 1, 'much': 43, 'thanks:': 2, \"'tis\": 45, 'bitter': 2, 'cold,': 2, 'And': 247, 'am': 50, 'sick': 4, 'heart.': 2, 'Have': 15, 'had': 37, 'quiet': 4, 'guard?': 1, 'Not': 15, 'mouse': 1, 'stirring.': 1, 'Well,': 7, 'night.': 3, 'meet': 3, 'Horatio': 7, 'rivals': 1, 'my': 444, 'watch,': 4, 'bid': 5, 'them': 44, 'make': 44, 'haste.': 3, 'hear': 22, 'them.--Stand,': 1, 'ho!': 6, 'Who': 13, '[Enter': 61, 'Marcellus.]': 3, 'Hor.': 110, 'Friends': 2, 'ground.': 2, 'Mar.': 35, 'liegemen': 1, 'Dane.': 2, 'good-night.': 2, 'O,': 57, 'farewell,': 1, 'honest': 6, 'soldier;': 1, 'hath': 54, \"reliev'd\": 1, 'you?': 13, 'Bernardo': 2, 'place.': 2, '[Exit.]': 19, 'Holla!': 1, 'Bernardo!': 1, 'Say.': 1, 'What,': 12, 'piece': 5, 'him.': 22, 'Welcome,': 3, 'Horatio:--Welcome,': 1, 'Marcellus.': 1, 'thing': 13, \"appear'd\": 3, 'again': 9, 'to-night?': 2, 'seen': 17, 'nothing.': 2, 'says': 7, 'fantasy,': 1, 'let': 58, 'belief': 1, 'Touching': 2, 'dreaded': 1, 'sight,': 3, 'twice': 4, 'us:': 1, 'Therefore': 4, 'entreated': 1, 'along': 2, 'With': 42, 'watch': 7, 'minutes': 1, 'night;': 1, 'That,': 11, 'apparition': 2, 'He': 40, 'approve': 2, 'eyes': 9, 'speak': 36, 'Tush,': 1, 'tush,': 1, \"'twill\": 2, 'appear.': 1, 'Sit': 1, 'down': 11, 'awhile,': 6, 'once': 10, 'assail': 1, 'ears,': 2, 'That': 112, 'fortified': 1, 'against': 18, 'story,': 1, 'What': 75, 'nights': 3, 'seen.': 1, 'sit': 7, 'down,': 7, 'Last': 1, 'night': 11, 'all,': 7, 'yond': 1, 'same': 10, 'star': 3, \"that's\": 10, 'westward': 1, 'pole': 1, 'Had': 7, 'course': 4, 'illume': 1, 'heaven': 16, 'Where': 23, 'burns,': 2, 'Marcellus': 2, 'myself,': 2, 'bell': 2, 'beating': 2, 'one,--': 1, 'Peace,': 1, 'break': 4, 'off;': 1, 'where': 26, 'comes': 18, 'again!': 4, 'Ghost,': 1, 'armed.]': 1, 'In': 36, 'figure,': 1, 'king': 26, 'dead.': 3, 'Thou': 13, 'art': 13, 'scholar;': 1, 'Horatio.': 4, 'Looks': 1, 'King?': 2, 'mark': 6, 'like:--it': 1, 'harrows': 1, 'me': 142, 'fear': 11, 'wonder.': 1, 'spoke': 2, 'Question': 1, 'thou,': 5, \"usurp'st\": 1, 'night,': 13, 'Together': 3, 'fair': 15, 'warlike': 5, 'majesty': 10, 'buried': 5, 'Did': 13, 'sometimes': 3, 'march?': 1, 'charge': 4, 'thee,': 9, 'speak!': 5, 'offended.': 3, 'See,': 1, 'stalks': 1, 'away!': 4, 'Stay!': 1, 'speak,': 5, '[Exit': 19, 'Ghost.]': 6, 'gone,': 6, 'answer.': 2, 'How': 56, 'now,': 22, 'Horatio!': 4, 'tremble': 2, 'pale:': 1, 'Is': 24, 'fantasy?': 1, \"on't?\": 3, 'Before': 4, 'God,': 6, 'believe': 15, 'Without': 4, 'sensible': 1, 'true': 14, 'avouch': 1, 'Of': 41, 'mine': 23, 'eyes.': 2, 'As': 72, 'thou': 82, 'thyself:': 1, 'Such': 5, 'very': 57, 'armour': 2, 'he': 162, 'ambitious': 2, 'Norway': 2, 'combated;': 1, 'So': 38, \"frown'd\": 1, 'when,': 1, 'angry': 1, 'parle,': 1, 'smote': 1, 'sledded': 1, 'Polacks': 1, 'ice.': 1, 'strange.': 2, 'Thus': 8, 'before,': 3, 'jump': 2, 'dead': 17, 'hour,': 2, 'martial': 1, 'stalk': 1, 'gone': 3, 'watch.': 1, 'what': 108, 'thought': 7, 'know': 56, 'not;': 4, 'But,': 22, 'gross': 3, 'scope': 2, 'opinion,': 1, 'bodes': 1, 'strange': 4, 'eruption': 1, 'state.': 3, 'Good': 21, 'me,': 33, 'knows,': 2, 'strict': 2, 'observant': 1, 'nightly': 1, 'toils': 1, 'subject': 2, 'land;': 1, 'why': 11, 'daily': 1, 'cast': 6, 'brazen': 1, 'cannon,': 1, 'foreign': 1, 'mart': 1, 'implements': 1, 'war;': 1, 'impress': 1, 'shipwrights,': 1, 'whose': 22, 'sore': 3, 'task': 1, 'Does': 3, 'divide': 2, 'Sunday': 1, 'week;': 1, 'toward,': 1, 'sweaty': 1, 'haste': 9, 'Doth': 4, 'joint-labourer': 1, 'day:': 1, \"is't\": 7, 'inform': 2, 'me?': 8, 'I;': 2, 'least,': 2, 'whisper': 2, 'goes': 8, 'Our': 12, 'king,': 11, 'Whose': 9, 'image': 3, 'Was,': 1, 'know,': 12, 'Fortinbras': 2, 'Norway,': 7, 'Thereto': 1, \"prick'd\": 1, 'emulate': 1, 'pride,': 1, \"Dar'd\": 1, 'combat;': 1, 'valiant': 2, 'Hamlet,--': 2, 'side': 1, 'known': 5, 'world': 17, \"esteem'd\": 1, 'him,--': 2, 'slay': 1, 'Fortinbras;': 2, 'who,': 5, \"seal'd\": 4, 'compact,': 1, 'Well': 4, 'ratified': 1, 'law': 3, 'heraldry,': 1, 'forfeit,': 1, 'life,': 11, 'lands,': 1, 'Which': 19, 'stood': 3, \"seiz'd\": 1, 'of,': 1, 'conqueror:': 1, 'Against': 4, 'which,': 6, 'moiety': 1, 'competent': 1, 'Was': 6, 'gaged': 1, 'king;': 3, \"return'd\": 2, 'inheritance': 1, 'been': 25, 'vanquisher;': 1, \"cov'nant,\": 1, 'carriage': 1, 'article': 1, \"design'd,\": 1, 'His': 17, 'fell': 6, 'Now,': 10, 'sir,': 27, 'young': 14, 'unimproved': 1, 'mettle': 1, 'hot': 5, 'full,': 2, 'Hath': 8, 'skirts': 1, 'here': 26, 'there,': 4, \"Shark'd\": 1, 'lawless': 2, 'resolutes,': 1, 'food': 1, 'diet,': 1, 'enterprise': 1, 'stomach': 1, \"in't;\": 1, 'other,--': 1, 'doth': 23, 'well': 26, 'appear': 2, 'unto': 4, 'state,--': 1, 'recover': 3, 'strong': 3, 'hand,': 4, 'terms': 3, 'compulsatory,': 1, 'foresaid': 1, 'lands': 3, 'father': 26, 'lost:': 1, 'this,': 16, 'main': 3, 'motive': 2, 'preparations,': 1, 'source': 2, 'chief': 3, 'head': 17, 'post-haste': 1, 'romage': 1, 'land.': 1, \"e'en\": 9, 'so:': 8, 'sort,': 1, 'portentous': 1, 'figure': 2, 'Comes': 1, 'armed': 1, 'watch;': 2, 'question': 8, 'wars.': 1, 'mote': 1, 'trouble': 2, \"mind's\": 2, 'eye.': 3, 'high': 2, 'palmy': 1, 'state': 6, 'Rome,': 1, 'little': 15, 'ere': 10, 'mightiest': 1, 'Julius': 2, 'fell,': 1, 'graves': 2, 'tenantless,': 1, 'sheeted': 1, 'squeak': 1, 'gibber': 1, 'Roman': 2, 'streets;': 1, 'As,': 1, 'stars': 2, 'trains': 1, 'fire': 2, 'dews': 1, 'blood,': 4, 'Disasters': 1, 'sun;': 1, 'moist': 1, 'star,': 1, 'Upon': 15, 'influence': 1, \"Neptune's\": 2, 'empire': 2, 'stands,': 2, 'almost': 8, 'doomsday': 2, 'eclipse:': 1, 'precurse': 1, 'fierce': 1, 'events,--': 1, 'harbingers': 1, 'preceding': 1, 'fates,': 1, 'prologue': 2, 'omen': 1, 'coming': 5, 'on,--': 3, 'earth': 12, 'together': 6, 'demonstrated': 1, 'Unto': 4, 'climature': 1, 'countrymen.--': 1, 'soft,': 1, 'behold!': 1, 'lo,': 2, '[Re-enter': 6, \"I'll\": 56, 'cross': 1, 'though': 16, 'blast': 2, 'me.--Stay,': 1, 'illusion!': 1, 'hast': 13, 'sound,': 3, 'voice,': 4, 'Speak': 6, 'done,': 8, 'ease,': 3, 'and,': 12, 'race': 1, 'privy': 1, 'thy': 81, \"country's\": 1, 'fate,': 1, 'Which,': 2, 'happily,': 1, 'foreknowing': 1, 'avoid,': 1, 'Or': 31, 'uphoarded': 1, 'life': 13, 'Extorted': 1, 'treasure': 4, 'womb': 1, 'earth,': 6, 'say,': 12, 'spirits': 3, 'oft': 10, 'walk': 8, 'death,': 11, '[The': 5, 'cock': 3, 'crows.]': 1, 'it:--stay,': 1, 'speak!--Stop': 1, 'Marcellus!': 1, 'Shall': 5, 'strike': 1, 'partisan?': 1, 'Do,': 1, 'stand.': 1, 'here!': 2, 'gone!': 1, 'wrong,': 2, 'being': 8, 'majestical,': 1, 'offer': 2, 'show': 19, 'violence;': 1, 'is,': 9, 'air,': 5, 'invulnerable,': 1, 'vain': 1, 'blows': 2, 'malicious': 2, 'mockery.': 1, 'crew.': 1, 'started,': 1, 'guilty': 3, 'fearful': 1, 'summons.': 1, 'heard': 9, 'cock,': 2, 'trumpet': 4, 'morn,': 2, 'lofty': 1, 'shrill-sounding': 1, 'throat': 3, 'Awake': 1, 'god': 2, 'day;': 1, 'warning,': 1, 'Whether': 4, 'sea': 4, 'fire,': 3, 'extravagant': 1, 'erring': 1, 'spirit': 7, 'hies': 1, 'confine:': 1, 'truth': 4, 'herein': 3, 'object': 1, 'probation.': 1, 'faded': 1, 'crowing': 1, 'cock.': 1, 'say': 30, 'ever': 11, \"'gainst\": 4, 'season': 4, 'Wherein': 6, \"Saviour's\": 1, 'birth': 1, 'celebrated,': 1, 'bird': 1, 'dawning': 1, 'singeth': 1, 'long;': 1, 'then,': 15, 'dare': 5, 'stir': 4, 'abroad;': 1, 'wholesome;': 1, 'planets': 1, 'strike,': 1, 'No': 17, 'fairy': 1, 'takes,': 2, 'witch': 1, 'power': 7, 'charm;': 1, \"hallow'd\": 1, 'gracious': 4, 'time.': 5, 'heard,': 5, 'look,': 2, 'russet': 1, 'mantle': 1, 'clad,': 1, 'Walks': 1, \"o'er\": 11, 'dew': 2, 'yon': 1, 'eastward': 1, 'hill:': 2, 'Break': 3, 'up:': 1, 'advice,': 2, 'Let': 34, 'impart': 4, 'to-night': 3, 'Hamlet;': 4, 'for,': 5, 'spirit,': 3, 'dumb': 3, 'him:': 9, 'consent': 1, 'shall': 101, 'acquaint': 1, 'needful': 2, 'loves,': 2, 'fitting': 1, 'duty?': 1, \"Let's\": 4, \"do't,\": 3, 'pray;': 1, 'morning': 4, 'find': 17, 'conveniently.': 1, '[Exeunt.]': 13, 'II.': 6, 'room': 14, 'King,': 10, 'Queen,': 8, 'Attendant.]': 1, 'Though': 6, 'yet': 25, 'dear': 26, \"brother's\": 7, 'death': 15, 'memory': 7, 'green,': 1, 'befitted': 1, 'bear': 13, 'hearts': 1, 'grief,': 3, 'whole': 7, 'kingdom': 2, 'contracted': 1, 'brow': 2, 'woe;': 2, 'Yet': 10, 'far': 10, 'discretion': 2, 'fought': 1, 'nature': 14, 'wisest': 3, 'sorrow': 4, 'him,': 25, 'remembrance': 2, 'ourselves.': 2, 'sometime': 3, 'sister,': 3, 'queen,': 7, \"Th'\": 2, 'imperial': 1, 'jointress': 1, 'state,': 3, 'we,': 2, \"'twere\": 5, 'defeated': 1, 'joy,--': 2, 'auspicious': 1, 'dropping': 1, 'eye,': 6, 'mirth': 1, 'funeral,': 1, 'dirge': 1, 'marriage,': 1, 'equal': 2, 'scale': 2, 'weighing': 1, 'delight': 3, 'dole,--': 1, 'Taken': 1, 'wife;': 3, \"barr'd\": 1, 'Your': 17, 'wisdoms,': 1, 'freely': 2, 'affair': 2, 'along:--or': 1, 'thanks.': 1, 'Now': 13, 'follows,': 2, 'Holding': 1, 'weak': 2, 'supposal': 1, 'worth,': 2, 'thinking': 4, 'late': 5, 'disjoint': 1, 'out': 39, 'frame,': 3, 'Colleagued': 1, 'dream': 4, 'advantage,': 1, \"fail'd\": 1, 'pester': 1, 'message,': 1, 'Importing': 3, 'surrender': 1, 'Lost': 1, 'father,': 6, 'bonds': 1, 'law,': 1, 'brother.': 4, 'ourself': 2, 'meeting:': 1, 'business': 8, 'is:--we': 1, 'writ': 5, 'uncle': 4, 'Fortinbras,--': 1, 'Who,': 4, 'impotent': 1, 'bed-rid,': 1, 'scarcely': 2, 'hears': 3, \"nephew's\": 2, 'purpose,--to': 1, 'suppress': 2, 'gait': 2, 'herein;': 1, 'levies,': 1, 'lists,': 1, 'full': 8, 'proportions': 1, 'Out': 4, 'subject:--and': 1, 'dispatch': 1, 'You,': 2, 'bearers': 2, 'greeting': 1, 'old': 18, 'Norway;': 2, 'Giving': 2, 'personal': 1, 'dilated': 1, 'articles': 1, 'allow.': 1, 'Farewell;': 1, 'commend': 4, 'duty.': 2, 'Cor.': 1, 'Volt.': 2, 'things': 10, 'doubt': 7, 'nothing:': 2, 'heartily': 1, 'farewell.': 4, '[Exeunt': 22, 'Voltimand': 3, 'Cornelius.]': 3, 'news': 6, 'told': 5, 'suit;': 1, \"is't,\": 5, 'Laertes?': 5, 'reason': 8, 'Dane,': 2, 'lose': 6, 'voice:': 2, 'wouldst': 5, 'beg,': 2, 'offer,': 1, 'asking?': 1, 'native': 4, 'heart,': 6, 'hand': 12, 'instrumental': 1, 'mouth,': 4, 'Than': 13, 'throne': 1, 'father.': 6, 'have,': 3, 'Laer.': 62, 'Dread': 1, 'lord,': 79, 'leave': 18, 'favour': 3, 'France;': 2, 'From': 11, 'whence': 1, 'willingly': 2, 'came': 8, 'duty': 9, 'coronation;': 1, 'confess,': 1, 'My': 68, 'thoughts': 12, 'wishes': 1, 'bend': 3, 'toward': 5, 'France,': 1, 'bow': 2, 'pardon.': 1, \"father's\": 18, 'leave?': 2, 'Polonius?': 3, 'Pol.': 86, 'hath,': 2, 'wrung': 1, 'slow': 3, 'laboursome': 1, 'petition;': 1, 'hard': 4, 'consent:': 1, 'beseech': 7, 'go.': 6, 'Take': 9, 'Laertes;': 3, 'thine,': 2, 'best': 9, 'graces': 1, 'spend': 1, 'will!--': 1, 'cousin': 2, 'son--': 1, 'Ham.': 358, '[Aside.]': 9, 'kin,': 1, 'less': 6, 'kind!': 1, 'clouds': 2, 'hang': 3, 'so,': 11, 'lord;': 14, 'too': 32, \"i'\": 22, 'sun.': 1, 'Queen.': 74, 'nighted': 1, 'colour': 2, 'off,': 3, 'thine': 9, 'eye': 4, 'friend': 3, 'vailed': 1, 'lids': 1, 'Seek': 1, 'noble': 17, 'dust:': 1, \"know'st\": 2, 'common,--all': 1, 'lives': 3, 'die,': 2, 'Passing': 1, 'eternity.': 1, 'Ay,': 34, 'madam,': 2, 'common.': 1, 'be,': 9, 'seems': 5, 'thee?': 2, 'Seems,': 1, 'madam!': 2, 'is;': 3, 'seems.': 1, 'alone': 6, 'inky': 1, 'cloak,': 1, 'mother,': 9, 'Nor': 16, 'customary': 1, 'suits': 2, 'solemn': 3, 'black,': 3, 'windy': 1, 'suspiration': 1, \"forc'd\": 2, 'breath,': 2, 'No,': 24, 'fruitful': 1, 'river': 1, 'dejected': 1, \"'havior\": 1, 'visage,': 2, 'forms,': 2, 'moods,': 1, 'shows': 8, 'denote': 1, 'truly:': 1, 'these,': 3, 'indeed,': 12, 'seem;': 1, 'actions': 2, 'man': 32, 'play;': 2, 'passeth': 1, 'show;': 1, 'These': 8, 'trappings': 1, 'woe.': 1, 'sweet': 18, 'commendable': 1, 'nature,': 8, 'mourning': 1, 'duties': 1, 'father;': 7, 'lost': 3, 'lost,': 2, 'his;': 1, 'survivor': 1, 'bound,': 3, 'filial': 1, 'obligation,': 1, 'term': 2, 'obsequious': 1, 'sorrow:': 1, 'persevere': 1, 'obstinate': 1, 'condolement': 1, 'impious': 1, 'stubbornness;': 1, 'unmanly': 1, 'grief;': 2, 'incorrect': 1, 'heaven;': 7, 'heart': 10, 'unfortified,': 1, 'mind': 7, 'impatient;': 1, 'An': 6, 'understanding': 2, 'simple': 1, \"unschool'd;\": 1, 'common': 5, 'vulgar': 1, 'sense,': 2, 'peevish': 1, 'opposition,': 1, 'heart?': 2, 'Fie!': 1, 'fault': 4, 'heaven,': 8, 'dead,': 6, 'absurd;': 1, 'theme': 2, 'fathers,': 2, 'cried,': 1, 'corse': 2, 'died': 2, 'to-day,': 1, \"'This\": 2, \"so.'\": 1, 'pray': 19, 'throw': 4, 'unprevailing': 1, 'father:': 1, 'immediate': 2, 'throne;': 1, 'nobility': 1, 'love': 41, 'dearest': 2, 'bears': 1, 'son': 9, 'intent': 1, 'going': 2, 'back': 6, 'school': 1, 'Wittenberg,': 2, 'retrograde': 1, 'desire:': 1, 'remain': 2, 'Here': 7, 'cheer': 3, 'comfort': 1, 'chiefest': 1, 'courtier,': 2, 'cousin,': 1, 'son.': 2, 'mother': 12, 'her': 70, 'prayers,': 2, 'Hamlet:': 5, 'stay': 7, 'us;': 1, 'Wittenberg.': 1, 'obey': 4, 'madam.': 1, 'Why,': 26, 'loving': 3, 'reply:': 1, 'Be': 15, 'Denmark.--Madam,': 1, 'come;': 7, 'gentle': 5, \"unforc'd\": 1, 'accord': 1, 'Sits': 1, 'smiling': 2, 'heart:': 3, 'grace': 9, 'whereof,': 1, 'jocund': 1, 'health': 4, 'drinks': 2, 'to-day': 1, 'great': 24, 'cannon': 4, 'tell;': 1, \"king's\": 7, 'rouse': 1, 'bruit': 1, 'again,': 7, 'Re-speaking': 1, 'earthly': 1, 'thunder.': 1, 'Come': 6, 'away.': 4, 'Hamlet.]': 9, 'O': 46, 'solid': 1, 'flesh': 4, 'melt,': 1, 'Thaw,': 1, 'resolve': 1, 'itself': 20, 'dew!': 1, 'Everlasting': 1, \"fix'd\": 2, 'canon': 1, 'self-slaughter!': 1, 'God!': 4, 'weary,': 1, 'stale,': 1, 'flat,': 1, 'unprofitable': 1, 'Seem': 1, 'uses': 3, 'world!': 2, 'Fie': 2, \"on't!\": 1, 'fie!': 1, 'unweeded': 1, 'garden,': 1, 'grows': 3, 'seed;': 1, 'rank': 5, 'Possess': 1, 'merely.': 1, 'this!': 3, 'months': 3, 'dead!--nay,': 1, 'much,': 3, 'two:': 1, 'excellent': 8, 'was,': 4, 'Hyperion': 1, 'satyr;': 1, 'beteem': 1, 'winds': 3, 'Visit': 1, 'face': 6, 'roughly.': 1, 'Heaven': 4, 'earth!': 2, 'Must': 4, 'remember?': 1, 'she': 34, 'increase': 1, 'appetite': 1, 'grown': 4, 'fed': 2, 'on:': 2, 'yet,': 4, 'month,--': 1, \"on't,--Frailty,\": 1, 'name': 6, 'woman!--': 1, 'month;': 2, 'shoes': 1, 'followed': 1, 'poor': 20, 'body': 11, 'Like': 7, 'Niobe,': 1, 'tears;--why': 1, 'she,': 3, 'she,--': 1, 'beast': 2, 'wants': 2, 'discourse': 4, 'reason,': 3, 'Would': 11, \"mourn'd\": 1, 'longer,--married': 1, 'uncle,': 2, 'brother;': 1, 'Hercules:': 1, 'Ere': 2, 'salt': 2, 'unrighteous': 1, 'tears': 5, 'left': 2, 'flushing': 1, 'galled': 1, 'eyes,': 5, 'She': 9, 'married:--': 1, 'wicked': 6, 'speed,': 1, 'post': 1, 'dexterity': 1, 'incestuous': 2, 'sheets!': 1, 'good;': 2, 'heart,--for': 1, 'tongue!': 1, 'Hail': 1, 'lordship!': 1, 'glad': 4, 'well:': 5, 'Horatio,--or': 1, 'forget': 3, 'myself.': 2, 'same,': 1, 'servant': 1, 'ever.': 1, 'Sir,': 11, 'friend;': 3, 'change': 3, 'you:': 12, 'Horatio?--': 1, 'Marcellus?': 1, 'lord,--': 5, 'you.--Good': 1, 'even,': 2, 'sir.--': 1, 'what,': 3, 'faith,': 6, 'Wittenberg?': 1, 'truant': 1, 'disposition,': 1, 'lord.': 57, 'enemy': 1, 'so;': 5, 'ear': 10, 'violence,': 1, 'truster': 1, 'report': 5, 'yourself:': 1, 'truant.': 1, 'Elsinore?': 2, \"We'll\": 7, 'teach': 5, 'drink': 5, 'deep': 4, 'depart.': 1, 'funeral.': 1, 'prithee': 1, 'mock': 4, 'fellow-student.': 1, \"mother's\": 6, 'wedding.': 1, 'Indeed,': 6, \"follow'd\": 1, 'upon.': 1, 'Thrift,': 1, 'thrift,': 2, 'funeral': 1, \"bak'd\": 1, 'meats': 1, 'coldly': 2, 'furnish': 1, 'marriage': 2, 'tables.': 1, 'met': 1, 'foe': 1, 'day,': 5, 'Horatio!--': 1, 'father,--methinks': 1, 'Where,': 2, 'lord?': 27, 'saw': 11, 'once;': 2, 'goodly': 3, 'king.': 5, 'man,': 9, 'again.': 4, 'yesternight.': 1, 'Saw': 1, 'who?': 2, 'father!': 2, 'Season': 1, 'admiration': 1, 'awhile': 3, 'attent': 1, 'ear,': 3, 'deliver,': 1, 'witness': 1, 'gentlemen,': 6, 'marvel': 1, \"God's\": 2, 'hear.': 6, 'their': 54, 'vast': 1, 'middle': 2, 'Been': 2, 'thus': 21, \"encounter'd.\": 1, 'Armed': 1, 'exactly,': 1, 'cap-a-pe,': 1, 'Appears': 1, 'march': 2, 'Goes': 2, 'stately': 1, 'them:': 4, 'thrice': 4, \"walk'd\": 1, \"oppress'd\": 1, 'fear-surprised': 1, 'Within': 3, \"truncheon's\": 1, 'length;': 1, 'whilst': 4, 'they,': 1, \"distill'd\": 1, 'Almost': 1, 'jelly': 1, 'act': 7, 'fear,': 3, 'Stand': 1, 'dumb,': 1, 'dreadful': 3, 'secrecy': 2, 'did;': 4, 'third': 2, 'kept': 4, 'watch:': 1, \"deliver'd,\": 1, 'both': 18, 'Form': 1, 'thing,': 2, 'good,': 2, 'comes:': 1, 'knew': 5, 'hands': 6, 'like.': 2, 'this?': 10, \"watch'd.\": 1, 'it?': 4, 'none:': 1, 'methought': 3, 'lifted': 1, 'head,': 2, 'did': 46, 'address': 1, 'Itself': 1, 'motion,': 2, 'speak:': 1, 'crew': 1, 'loud,': 2, 'sound': 3, 'shrunk': 1, 'away,': 2, \"vanish'd\": 1, 'sight.': 1, 'live,': 1, \"honour'd\": 3, 'true;': 4, 'sirs,': 1, 'troubles': 1, 'me.': 21, 'Hold': 3, \"Arm'd,\": 2, 'Both.': 2, 'top': 6, 'toe?': 1, 'foot.': 1, 'Then': 18, 'face?': 2, 'yes,': 2, 'lord:': 4, 'wore': 1, 'beaver': 1, 'up.': 2, \"look'd\": 3, 'frowningly?': 1, 'countenance': 4, 'anger.': 1, 'Pale': 2, 'red?': 1, 'pale.': 1, 'constantly.': 1, 'there.': 6, \"amaz'd\": 1, 'Very': 7, 'like,': 2, \"Stay'd\": 1, 'long?': 2, 'While': 1, 'moderate': 1, 'hundred.': 1, 'Longer,': 1, 'longer.': 1, \"saw't.\": 1, 'beard': 5, 'grizzled,--no?': 1, 'sable': 2, \"silver'd.\": 1, 'to-night;': 2, 'Perchance': 1, \"warr'nt\": 1, 'will.': 7, 'assume': 3, 'person,': 1, 'hell': 4, 'gape': 1, 'peace.': 3, 'hitherto': 2, \"conceal'd\": 1, 'tenable': 1, 'silence': 4, 'still;': 2, 'whatsoever': 1, 'else': 11, 'hap': 1, 'to-night,': 1, 'understanding,': 1, 'tongue:': 2, 'requite': 1, 'loves.': 2, 'fare': 2, 'ye': 2, 'platform,': 1, \"'twixt\": 2, 'eleven': 1, 'twelve,': 1, 'All.': 3, 'honour.': 3, 'arms!': 1, 'well;': 4, 'foul': 9, 'play:': 1, 'come!': 1, 'Till': 9, 'still,': 4, 'soul:': 1, 'deeds': 1, 'rise,': 1, \"o'erwhelm\": 1, 'them,': 8, \"men's\": 3, 'III.': 4, \"Polonius's\": 2, 'house.': 3, 'Laertes': 6, 'Ophelia.]': 5, 'necessaries': 1, \"embark'd:\": 1, 'farewell:': 1, 'And,': 16, 'benefit': 1, 'convoy': 1, 'assistant,': 1, 'sleep,': 1, 'Oph.': 58, 'that?': 6, 'trifling': 1, 'favour,': 1, 'fashion,': 1, 'toy': 2, 'blood:': 1, 'violet': 1, 'youth': 11, 'primy': 1, 'Forward,': 1, 'permanent,': 1, 'sweet,': 3, 'lasting;': 1, 'perfume': 2, 'suppliance': 1, 'minute;': 1, 'more.': 5, 'so?': 7, 'Think': 1, 'more:': 4, 'crescent,': 1, 'grow': 7, 'thews': 1, 'bulk;': 1, 'temple': 1, 'waxes,': 1, 'inward': 3, 'service': 4, 'soul': 17, 'Grows': 1, 'wide': 2, 'withal.': 3, 'Perhaps': 1, 'loves': 3, 'now;': 4, 'soil': 1, 'cautel': 1, 'besmirch': 1, 'virtue': 8, 'will:': 3, 'greatness': 1, \"weigh'd,\": 2, 'own;': 1, 'himself': 9, 'birth:': 1, \"unvalu'd\": 1, 'persons': 1, 'Carve': 1, 'himself;': 5, 'choice': 5, 'depends': 1, 'safety': 3, 'state;': 1, 'therefore': 10, \"circumscrib'd\": 1, 'voice': 5, 'yielding': 1, 'Whereof': 1, 'head.': 4, 'fits': 2, 'wisdom': 5, 'place': 4, 'May': 7, 'saying': 1, 'deed;': 1, 'weigh': 1, 'loss': 1, 'honour': 5, 'sustain': 1, 'credent': 1, 'songs,': 1, 'chaste': 3, \"unmaster'd\": 1, 'importunity.': 1, 'Fear': 2, 'sister;': 1, 'rear': 1, 'affection,': 2, 'shot': 7, 'danger': 2, 'desire.': 1, 'chariest': 1, 'maid': 3, 'prodigal': 2, 'enough': 5, 'unmask': 1, 'beauty': 4, 'moon:': 2, 'Virtue': 2, 'scopes': 1, 'calumnious': 1, 'strokes:': 1, 'canker': 2, 'galls': 2, 'infants': 1, 'spring': 2, 'Too': 3, 'buttons': 1, \"disclos'd:\": 1, 'morn': 1, 'liquid': 1, 'Contagious': 1, 'blastments': 1, 'imminent.': 1, 'wary': 2, 'then;': 5, 'lies': 6, 'fear:': 2, 'Youth': 1, 'rebels,': 1, 'none': 7, 'near.': 1, \"th'\": 3, 'effect': 4, 'lesson': 1, 'watchman': 1, 'brother,': 1, 'ungracious': 1, 'pastors': 1, 'Show': 1, 'steep': 1, 'thorny': 1, 'way': 8, 'Whilst,': 1, \"puff'd\": 1, 'reckless': 1, 'libertine,': 1, 'Himself': 1, 'primrose': 1, 'dalliance': 1, 'treads': 1, 'recks': 1, 'read.': 1, 'not.': 8, 'long:--but': 1, 'comes.': 2, 'Polonius.]': 19, 'double': 6, 'blessing': 4, 'grace;': 1, 'Occasion': 1, 'smiles': 1, 'leave.': 4, 'here,': 9, 'Laertes!': 1, 'aboard,': 2, 'shame!': 3, 'wind': 9, 'sits': 2, 'shoulder': 2, 'sail,': 2, \"stay'd\": 2, 'for.': 4, 'There,--my': 1, 'thee!': 4, '[Laying': 1, \"Laertes's\": 1, 'head.]': 1, 'precepts': 2, 'Look': 10, 'character.': 1, 'tongue,': 3, \"unproportion'd\": 1, 'act.': 2, 'familiar,': 1, 'vulgar.': 1, 'Those': 1, 'friends': 5, 'hast,': 2, 'adoption': 1, 'tried,': 1, 'Grapple': 1, 'hoops': 1, 'steel;': 1, 'dull': 5, 'palm': 2, 'entertainment': 4, \"new-hatch'd,\": 1, \"unfledg'd\": 1, 'comrade.': 1, 'Beware': 1, 'entrance': 1, 'quarrel;': 1, 'but,': 8, 'in,': 2, \"Bear't\": 1, 'opposed': 1, 'beware': 1, 'thee.': 5, \"man's\": 5, 'censure,': 1, 'reserve': 1, 'judgment.': 1, 'Costly': 1, 'habit': 3, 'purse': 2, 'buy,': 1, \"express'd\": 1, 'fancy;': 1, 'rich,': 1, 'gaudy:': 1, 'apparel': 1, 'proclaims': 2, 'man;': 3, 'France': 2, 'station': 2, 'Are': 9, 'select': 1, 'generous': 2, 'that.': 5, 'Neither': 1, 'borrower': 1, 'lender': 1, 'be:': 1, 'loan': 1, 'loses': 1, 'borrowing': 1, 'dulls': 1, 'edge': 1, 'husbandry.': 1, 'all,--to': 1, 'self': 1, 'follow,': 2, 'canst': 3, 'false': 6, 'man.': 5, 'Farewell:': 1, 'humbly': 5, 'leave,': 1, 'invites': 1, 'you;': 9, 'go,': 7, 'servants': 1, 'tend.': 1, 'Farewell,': 2, 'Ophelia;': 2, 'remember': 4, 'said': 8, \"lock'd,\": 1, 'yourself': 7, 'key': 1, 'Farewell.': 4, 'touching': 1, 'Marry,': 7, 'bethought:': 1, 'Given': 1, 'private': 1, 'bounteous;': 1, 'so,--as': 1, 'put': 22, 'caution,--I': 1, 'understand': 7, 'behooves': 1, 'daughter': 6, 'between': 13, 'truth.': 1, 'many': 17, 'tenders': 2, 'affection': 1, 'Affection!': 1, 'pooh!': 1, 'green': 2, 'girl,': 1, 'Unsifted': 1, 'perilous': 1, 'circumstance.': 1, 'tenders,': 1, 'call': 21, 'them?': 3, 'think.': 2, 'baby;': 1, \"ta'en\": 3, 'pay,': 1, 'sterling.': 1, 'Tender': 1, 'dearly;': 1, 'Or,--not': 1, 'crack': 1, 'phrase,': 3, 'Wronging': 1, \"thus,--you'll\": 1, 'tender': 2, 'fool.': 1, \"importun'd\": 1, 'honourable': 2, 'fashion.': 1, 'fashion': 5, 'it;': 5, 'to,': 2, 'speech,': 5, 'holy': 2, 'vows': 1, 'heaven.': 3, 'springes': 1, 'catch': 2, 'woodcocks.': 1, 'blood': 8, 'Lends': 1, 'tongue': 6, 'vows:': 1, 'blazes,': 1, 'daughter,': 2, 'light': 6, 'heat,--extinct': 1, 'both,': 2, 'Even': 8, 'promise,': 1, 'a-making,--': 1, 'fire.': 1, 'scanter': 1, 'maiden': 2, 'presence;': 1, 'Set': 2, 'entreatments': 1, 'higher': 1, 'rate': 1, 'command': 4, 'parley.': 1, 'Believe': 3, 'young;': 1, 'larger': 1, 'tether': 1, 'few,': 1, 'vows;': 1, 'brokers,--': 1, 'dye': 1, 'investments': 1, 'show,': 2, 'mere': 3, 'implorators': 1, 'unholy': 1, 'suits,': 1, 'Breathing': 1, 'sanctified': 1, 'pious': 3, 'bawds,': 1, 'beguile.': 1, 'all,--': 2, 'terms,': 1, 'slander': 1, 'moment': 1, 'leisure': 2, 'words': 13, 'talk': 2, \"to't,\": 1, 'ways.': 2, 'obey,': 3, 'IV.': 4, 'platform.': 1, 'air': 4, 'bites': 1, 'shrewdly;': 1, 'cold.': 1, 'nipping': 1, 'eager': 2, 'air.': 2, 'now?': 4, 'lacks': 1, 'struck.': 1, 'Indeed?': 1, 'not:': 4, 'draws': 2, 'near': 7, 'held': 2, 'wont': 3, 'walk.': 1, '[A': 4, 'flourish': 2, 'trumpets,': 1, 'ordnance': 3, 'off': 13, 'within.]': 7, 'mean,': 7, 'wake': 1, 'rouse,': 1, 'Keeps': 1, 'wassail,': 1, 'swaggering': 1, 'up-spring': 1, 'reels;': 1, 'drains': 1, 'draughts': 1, 'Rhenish': 2, 'kettle-drum': 1, 'bray': 1, 'triumph': 1, 'pledge.': 1, 'custom?': 1, 'marry,': 6, \"is't;\": 1, 'mind,--though': 1, 'manner': 1, 'born,--it': 1, 'custom': 6, 'More': 6, 'breach': 1, 'observance.': 1, 'heavy-headed': 1, 'revel': 1, 'east': 1, 'west': 1, 'Makes': 3, \"traduc'd\": 1, \"tax'd\": 1, 'nations:': 1, 'clepe': 1, 'drunkards,': 1, 'swinish': 1, 'phrase': 5, 'Soil': 1, 'addition;': 1, 'achievements,': 1, \"perform'd\": 1, 'height,': 1, 'pith': 3, 'marrow': 1, 'attribute.': 1, 'chances': 2, 'men': 8, 'vicious': 1, 'mole': 1, 'birth,--wherein': 1, 'guilty,': 3, 'origin,--': 1, \"o'ergrowth\": 1, 'complexion,': 1, 'Oft': 1, 'breaking': 1, 'pales': 1, 'forts': 1, 'reason;': 1, 'habit,': 1, \"o'er-leavens\": 1, 'plausive': 1, 'manners;--that': 1, 'men,--': 1, 'Carrying,': 1, 'stamp': 2, 'defect,': 2, 'Being': 3, \"nature's\": 2, 'livery,': 1, \"fortune's\": 2, 'star,--': 1, 'Their': 3, 'virtues': 2, 'else,--be': 1, 'pure': 2, 'grace,': 3, 'infinite': 4, 'undergo,--': 1, 'general': 6, 'censure': 3, 'corruption': 1, 'fault:': 1, 'dram': 1, 'eale': 1, 'substance': 2, 'scandal.': 1, 'Look,': 3, 'comes!': 1, 'Angels': 1, 'ministers': 1, 'defend': 3, 'us!--': 1, 'goblin': 1, \"damn'd,\": 1, 'Bring': 2, 'airs': 1, 'blasts': 1, 'hell,': 5, 'intents': 1, 'charitable,': 1, \"com'st\": 1, 'questionable': 1, 'shape': 3, 'thee:': 2, 'royal': 3, 'Dane;': 1, 'me!': 4, 'burst': 3, 'ignorance;': 1, \"canoniz'd\": 1, 'bones,': 3, 'hearsed': 1, 'cerements;': 1, 'sepulchre,': 1, 'quietly': 1, \"in-urn'd,\": 1, \"op'd\": 1, 'ponderous': 1, 'marble': 1, 'jaws': 1, 'corse,': 1, 'steel,': 2, \"Revisit'st\": 1, 'glimpses': 1, 'moon,': 2, 'Making': 1, 'hideous,': 1, 'fools': 1, 'horridly': 2, 'shake': 2, 'disposition': 3, 'beyond': 2, 'reaches': 1, 'souls?': 1, 'Say,': 2, 'wherefore?': 1, 'do?': 3, '[Ghost': 2, 'beckons': 2, 'impartment': 1, 'desire': 3, 'alone.': 2, 'courteous': 1, 'action': 7, 'waves': 3, 'removed': 1, 'ground:': 1, 'it!': 4, 'means.': 2, 'speak;': 2, 'follow': 10, 'fear?': 1, \"pin's\": 1, 'fee;': 2, 'soul,': 10, 'that,': 17, 'immortal': 1, 'itself?': 1, \"again;--I'll\": 1, 'tempt': 3, 'flood,': 1, 'summit': 2, 'cliff': 1, 'beetles': 1, 'base': 3, 'sea,': 2, 'horrible': 1, 'deprive': 1, 'sovereignty': 1, 'draw': 9, 'madness?': 1, 'it:': 12, 'puts': 4, 'toys': 1, 'desperation,': 1, 'motive,': 3, 'brain': 2, 'looks': 3, 'fadoms': 1, 'roar': 1, 'beneath.': 1, 'still.--': 1, 'Go': 13, 'on;': 3, 'hands.': 1, \"rul'd;\": 2, 'fate': 1, 'cries': 3, 'out,': 6, 'makes': 14, 'petty': 2, 'artery': 1, 'hardy': 1, 'Nemean': 1, \"lion's\": 1, 'nerve.--': 1, 'beckons.]': 1, 'Still': 4, \"call'd;--unhand\": 1, 'gentlemen;--': 1, '[Breaking': 1, 'them.]': 1, 'ghost': 2, 'lets': 3, 'me!--': 1, 'away!--Go': 1, 'waxes': 1, 'desperate': 6, 'imagination.': 1, 'follow;': 1, 'fit': 8, 'after.--To': 1, 'issue': 2, 'come?': 1, 'Something': 2, 'rotten': 2, 'direct': 4, \"let's\": 6, 'V.': 3, 'remote': 1, 'Whither': 1, 'wilt': 7, 'lead': 4, 'further.': 1, 'Ghost.': 14, 'Mark': 3, 'come,': 11, \"sulph'uous\": 1, 'tormenting': 1, 'flames': 2, 'render': 1, 'Alas,': 10, 'ghost!': 1, 'Pity': 1, 'lend': 4, 'serious': 1, 'hearing': 3, 'unfold.': 1, 'Speak;': 1, 'bound': 2, 'revenge,': 2, 'shalt': 5, 'What?': 1, 'spirit;': 1, \"Doom'd\": 1, 'certain': 4, \"confin'd\": 1, 'wastein': 1, 'fires,': 1, 'crimes': 3, 'done': 6, 'burnt': 1, \"purg'd\": 1, 'forbid': 2, 'secrets': 1, 'prison-house,': 1, 'tale': 4, 'lightest': 1, 'harrow': 1, 'soul;': 2, 'freeze': 1, 'blood;': 2, 'Make': 9, 'stars,': 2, 'start': 3, 'spheres;': 1, 'Thy': 5, 'knotted': 1, 'combined': 1, 'locks': 1, 'part,': 5, 'hair': 1, 'stand': 11, 'quills': 1, 'fretful': 1, 'porcupine:': 1, 'eternal': 2, 'blazon': 1, 'ears': 4, 'blood.--List,': 1, 'list,': 2, 'list!--': 1, 'didst': 3, 'love--': 1, 'Revenge': 2, 'unnatural': 2, 'murder.': 1, 'Murder!': 1, 'Murder': 2, 'foul,': 2, 'strange,': 1, 'unnatural.': 1, 'Haste': 1, \"know't,\": 1, 'I,': 17, 'wings': 1, 'swift': 2, 'meditation': 1, 'love,': 11, 'sweep': 2, 'revenge.': 3, 'apt;': 1, 'duller': 1, 'shouldst': 2, 'fat': 5, 'weed': 1, 'rots': 1, 'ease': 1, 'Lethe': 1, 'wharf,': 1, 'Wouldst': 1, 'sleeping': 2, 'orchard,': 2, 'serpent': 2, 'stung': 1, 'me;': 8, 'forged': 1, 'process': 1, 'Rankly': 1, \"abus'd;\": 1, 'youth,': 3, 'sting': 2, 'wears': 2, 'crown.': 1, 'prophetic': 1, 'soul!': 3, 'Mine': 2, 'uncle!': 1, 'incestuous,': 2, 'adulterate': 1, 'beast,': 2, 'witchcraft': 2, 'wit,': 3, 'traitorous': 1, 'gifts,--': 1, 'wit': 2, 'gifts,': 1, 'seduce!--won': 1, 'shameful': 1, 'lust': 1, 'seeming-virtuous': 1, 'queen:': 1, 'falling-off': 1, 'there!': 2, 'dignity': 1, 'went': 5, 'vow': 2, 'marriage;': 1, 'decline': 1, 'wretch': 3, 'natural': 4, 'gifts': 2, 'mine!': 1, 'virtue,': 2, 'never': 16, \"mov'd,\": 1, 'lewdness': 1, 'court': 4, 'lust,': 1, 'radiant': 1, 'angel': 3, \"link'd,\": 1, 'Will': 17, 'sate': 1, 'celestial': 1, 'bed': 2, 'prey': 1, 'garbage.': 1, 'soft!': 3, 'methinks': 1, 'scent': 1, 'air;': 1, 'Brief': 1, 'be.--Sleeping': 1, 'always': 1, 'afternoon,': 1, 'secure': 2, 'stole,': 1, 'juice': 1, 'cursed': 4, 'hebenon': 1, 'vial,': 1, 'porches': 1, 'pour': 1, 'leperous': 1, 'distilment;': 1, 'Holds': 1, 'enmity': 1, 'quicksilver,': 1, 'courses': 1, 'gates': 1, 'alleys': 1, 'body;': 1, 'sudden': 5, 'vigour': 1, 'posset': 1, 'curd,': 1, 'droppings': 1, 'milk,': 1, 'thin': 1, 'wholesome': 6, 'mine;': 2, 'instant': 4, 'tetter': 1, \"bark'd\": 1, 'about,': 1, 'lazar-like,': 1, 'vile': 6, 'loathsome': 1, 'crust': 1, 'smooth': 2, 'body.': 4, 'sleeping,': 1, 'crown,': 4, \"dispatch'd:\": 1, 'Cut': 1, 'blossoms': 1, 'sin,': 1, \"Unhous'led,\": 1, 'disappointed,': 1, \"unanel'd;\": 1, 'reckoning': 1, 'made,': 2, 'sent': 12, 'account': 1, 'imperfections': 1, 'head:': 1, 'horrible!': 3, 'couch': 1, 'luxury': 1, 'damned': 6, 'incest.': 1, 'howsoever': 1, \"pursu'st\": 1, 'act,': 4, 'Taint': 1, 'mind,': 2, 'contrive': 2, 'aught:': 1, 'thorns': 1, 'bosom': 2, 'lodge,': 1, 'prick': 1, 'her.': 5, 'Fare': 4, 'once!': 1, 'glowworm': 1, 'matin': 1, 'near,': 1, \"'gins\": 1, 'pale': 4, 'uneffectual': 1, 'fire:': 2, 'Adieu,': 1, 'adieu!': 2, 'host': 1, 'heaven!': 1, 'else?': 3, 'couple': 1, 'hell?': 1, 'fie!--Hold,': 1, 'heart;': 4, 'sinews,': 1, 'old,': 1, 'stiffly': 1, 'up.--Remember': 1, 'ghost,': 3, 'while': 6, 'holds': 3, 'seat': 1, 'distracted': 2, 'globe.': 1, 'Remember': 2, 'Yea,': 3, 'table': 2, 'wipe': 2, 'trivial': 1, 'fond': 1, 'records,': 1, 'saws': 1, 'pressures': 1, 'past,': 1, 'observation': 1, 'copied': 1, 'there;': 4, 'commandment': 3, 'volume': 1, 'brain,': 2, \"Unmix'd\": 1, 'baser': 2, 'matter:': 3, 'heaven!--': 1, 'pernicious': 1, 'woman!': 1, 'villain,': 2, 'smiling,': 1, 'villain!': 3, 'tables,--meet': 1, 'smile,': 2, 'villain;': 2, 'sure,': 5, 'Denmark:': 2, '[Writing.]': 1, 'are.': 2, 'word;': 1, \"'Adieu,\": 1, \"me:'\": 1, \"sworn't.\": 1, '[Within.]': 6, 'him!': 5, 'Illo,': 1, 'ho,': 5, 'lord!': 12, 'Hillo,': 1, 'boy!': 2, 'Come,': 17, 'bird,': 1, 'come.': 5, 'news,': 1, 'wonderful!': 1, 'No;': 1, \"you'll\": 3, 'reveal': 1, 'it?--': 1, 'secret?': 1, \"There's\": 12, \"ne'er\": 3, 'villain': 3, 'dwelling': 1, \"he's\": 8, 'arrant': 2, 'knave.': 2, 'There': 11, 'needs': 7, 'grave': 5, 'right;': 2, 'circumstance': 2, 'part:': 1, 'desires': 3, 'you,--': 2, 'desire,': 1, 'is;--and': 1, 'pray.': 2, 'wild': 1, 'whirling': 1, 'words,': 2, \"I'm\": 1, 'sorry': 2, 'offend': 1, 'heartily;': 1, 'Yes,': 3, 'heartily.': 1, 'offence,': 1, 'Saint': 3, 'Patrick,': 1, 'offence': 5, 'too.': 5, 'vision': 1, 'here,--': 1, \"O'ermaster't\": 1, 'may.': 2, 'friends,': 5, 'scholars,': 1, 'soldiers,': 2, 'Never': 8, 'to-night.': 1, \"swear't.\": 1, 'faith.': 2, 'sword.': 4, 'sworn,': 1, 'already.': 2, 'sword,': 7, 'indeed.': 6, '[Beneath.]': 4, 'Swear.': 5, 'Ha,': 2, 'ha': 1, \"say'st\": 1, 'truepenny?--': 1, 'on!--you': 1, 'fellow': 6, 'cellarage,--': 1, 'Consent': 1, 'swear.': 1, 'Propose': 1, 'oath,': 2, 'seen,': 3, 'Swear': 2, 'Hic': 1, 'et': 1, 'ubique?': 1, \"we'll\": 6, 'shift': 1, 'ground.--': 1, 'hither,': 5, 'lay': 7, 'sword:': 1, 'said,': 3, 'mole!': 1, 'fast?': 2, 'worthy': 1, 'pioner!--Once': 1, 'friends.': 2, 'wondrous': 3, 'strange!': 1, 'stranger': 1, 'welcome.': 3, 'dreamt': 1, 'philosophy.': 1, 'come;--': 1, 'Here,': 4, 'never,': 2, 'help': 4, 'mercy,': 1, 'odd': 2, \"soe'er\": 1, 'myself,--': 2, 'perchance,': 2, 'hereafter': 1, 'antic': 1, 'times': 7, 'seeing': 2, 'shall,': 7, 'arms': 3, \"encumber'd\": 1, 'thus,': 4, 'head-shake,': 1, 'pronouncing': 1, 'doubtful': 1, \"'Well,\": 1, 'well,': 14, \"know';\": 1, \"'We\": 1, 'could,': 2, \"would';--\": 1, \"'If\": 1, \"speak';\": 1, \"'There\": 1, \"might';--\": 1, 'ambiguous': 1, 'giving': 1, 'aught': 5, 'me:--this': 1, 'mercy': 3, 'Rest,': 1, 'rest,': 1, 'perturbed': 1, 'spirit!--So,': 1, 'express': 3, 'friending': 1, 'God': 13, 'willing,': 2, 'lack.': 1, 'together;': 1, 'fingers': 3, 'lips,': 1, 'joint:--O': 1, 'spite,': 1, 'born': 1, 'right!--': 1, 'together.': 1, 'Act': 1, 'Polonius': 3, 'Reynaldo.]': 2, 'notes,': 1, 'Reynaldo.': 1, 'Rey.': 13, 'will,': 9, 'marvellous': 2, 'wisely,': 1, 'inquiry': 1, 'behaviour.': 1, 'intend': 1, 'said;': 2, 'said.': 2, 'Enquire': 1, 'Danskers': 1, 'Paris;': 1, 'how,': 1, 'means,': 5, 'keep,': 1, 'company,': 1, 'expense;': 1, 'finding,': 1, 'encompassment': 1, 'drift': 3, 'question,': 3, 'son,': 5, 'nearer': 2, 'demands': 1, 'touch': 4, \"'twere,\": 2, 'distant': 1, 'knowledge': 1, 'him;': 6, \"'I\": 2, 'him;--do': 1, 'Reynaldo?': 1, \"'And\": 1, \"him;--but,'\": 1, \"'not\": 1, \"if't\": 2, 'wild;': 1, 'Addicted': 1, \"so;'\": 1, 'forgeries': 1, 'please;': 2, 'dishonour': 2, 'heed': 2, 'that;': 2, 'wanton,': 1, 'wild,': 1, 'usual': 1, 'slips': 1, 'companions': 1, 'noted': 1, 'liberty.': 1, 'gaming,': 2, 'drinking,': 1, 'fencing,': 1, 'swearing,': 1, 'quarrelling,': 1, 'Drabbing:--you': 1, 'far.': 1, 'Faith,': 6, 'no;': 1, 'charge.': 1, 'another': 5, 'scandal': 1, 'incontinency;': 1, \"That's\": 6, 'meaning:': 1, 'breathe': 3, 'faults': 2, 'quaintly': 1, 'seem': 8, 'taints': 1, 'liberty;': 1, 'flash': 1, 'outbreak': 1, 'fiery': 3, 'mind;': 1, 'savageness': 1, 'unreclaimed': 1, 'assault.': 1, 'Wherefore': 1, \"here's\": 4, 'drift;': 1, 'fetch': 2, 'warrant:': 1, 'laying': 2, 'slight': 1, 'sullies': 1, \"soil'd\": 1, 'working,': 1, 'converse,': 1, 'Having': 1, 'prenominate': 1, \"assur'd\": 1, 'closes': 2, 'consequence;': 1, \"'Good\": 2, \"sir,'\": 1, \"'friend,'\": 1, \"'gentleman'--\": 1, 'According': 1, 'country.': 1, 'this,--he': 1, 'does--What': 1, 'say?--': 1, 'mass,': 3, 'something:--Where': 1, \"'closes\": 1, \"consequence,'\": 1, \"'friend\": 1, \"so,'\": 2, \"gentleman.'\": 1, 'At--closes': 1, \"consequence'--ay,\": 1, 'marry!': 1, \"thus:--'I\": 1, 'gentleman;': 1, 'yesterday,': 1, \"t'other\": 1, 'such,': 1, 'such;': 1, 'gaming;': 1, \"o'ertook\": 1, \"in's\": 5, 'rouse;': 1, 'falling': 1, \"tennis':\": 1, 'enter': 3, 'house': 2, \"sale,'--\": 1, 'Videlicet,': 1, 'brothel,--or': 1, 'forth.--': 1, 'See': 2, 'bait': 1, 'falsehood': 1, 'carp': 1, 'truth:': 1, 'reach,': 1, 'windlaces,': 1, 'assays': 1, 'bias,': 1, 'indirections': 1, 'directions': 1, 'out:': 1, 'former': 2, 'lecture': 1, 'not?': 5, 'have.': 1, \"b'\": 4, \"wi'\": 4, 'well.': 9, 'Observe': 2, 'inclination': 2, 'ply': 1, 'music.': 2, 'Farewell!': 1, 'Ophelia!': 3, 'matter?': 3, 'affrighted!': 1, 'God?': 2, 'sewing': 1, 'chamber,': 2, 'Hamlet,--with': 1, 'doublet': 1, \"unbrac'd;\": 1, 'hat': 1, 'head;': 1, 'stockings': 1, \"foul'd,\": 1, \"Ungart'red,\": 1, 'down-gyved': 1, 'ankle;': 1, 'shirt;': 1, 'knees': 1, 'knocking': 1, 'other;': 3, 'piteous': 3, 'purport': 1, 'loosed': 1, 'horrors,--he': 1, 'Mad': 4, 'love?': 2, 'know;': 3, 'truly': 3, 'he?': 2, 'took': 4, 'wrist,': 1, 'hard;': 1, 'length': 2, 'arm;': 1, 'brow,': 1, 'falls': 3, 'perusal': 1, 'last,--a': 1, 'shaking': 1, 'arm,': 2, 'waving': 1, 'down,--': 1, \"rais'd\": 1, 'sigh': 2, 'profound': 2, 'shatter': 1, 'bulk': 1, 'being:': 1, 'go:': 2, \"turn'd\": 4, \"seem'd\": 2, 'eyes;': 2, \"o'\": 11, 'doors': 3, 'help,': 5, 'bended': 1, 'seek': 8, 'ecstasy': 2, 'love;': 4, 'violent': 4, 'fordoes': 1, 'itself,': 2, 'leads': 1, 'undertakings,': 1, 'passion': 6, 'afflict': 1, 'natures.': 1, 'sorry,--': 1, 'late?': 1, 'command,': 1, 'repel': 1, 'denied': 1, 'mad.': 2, 'judgment': 4, 'quoted': 1, \"fear'd\": 1, 'trifle,': 1, 'meant': 3, 'wreck': 1, 'thee;': 1, 'beshrew': 1, 'jealousy!': 1, 'proper': 2, 'age': 7, 'ourselves': 9, 'opinions': 1, 'younger': 1, 'lack': 5, 'discretion.': 2, 'king:': 4, 'known;': 1, 'close,': 1, 'move': 5, 'grief': 7, 'hide': 3, 'hate': 1, 'utter': 1, 'love.': 5, 'Attendants.]': 4, 'Rosencrantz': 15, 'Guildenstern!': 3, 'Moreover': 1, 'provoke': 1, 'hasty': 1, 'sending.': 1, 'transformation;': 1, 'exterior': 1, 'Resembles': 1, 'was.': 1, 'himself,': 2, 'of:': 1, 'entreat': 3, 'brought': 5, 'since': 8, \"neighbour'd\": 1, 'humour,': 1, 'vouchsafe': 3, 'rest': 10, 'time:': 1, 'companies': 1, 'pleasures,': 1, 'gather,': 2, 'occasion': 1, 'glean,': 1, 'aught,': 2, 'unknown,': 2, 'afflicts': 1, \"open'd,\": 1, 'remedy.': 1, \"talk'd\": 2, 'living': 2, 'whom': 5, 'adheres.': 1, 'gentry': 1, 'good-will': 1, 'expend': 1, 'supply': 1, 'profit': 2, 'hope,': 2, 'visitation': 2, 'thanks': 2, 'remembrance.': 1, 'Ros.': 51, 'majesties': 2, 'Might,': 1, 'sovereign': 3, 'Put': 2, 'dread': 4, 'pleasures': 1, 'entreaty.': 1, 'Guil.': 32, 'ourselves,': 1, 'bent,': 1, 'feet,': 1, 'commanded.': 1, 'Thanks,': 3, 'Guildenstern.': 1, 'Guildenstern': 4, 'Rosencrantz:': 1, 'instantly': 1, 'too-much-changed': 1, 'son.--Go,': 1, 'bring': 10, 'gentlemen': 2, 'is.': 3, 'Heavens': 1, 'presence': 2, 'practices': 1, 'Pleasant': 1, 'helpful': 1, 'amen!': 1, 'Attendants].': 1, 'ambassadors': 2, 'joyfully': 1, \"return'd.\": 1, 'news.': 1, 'Assure': 1, 'liege,': 2, 'duty,': 1, 'think,--or': 1, 'Hunts': 1, 'trail': 2, 'policy': 1, \"us'd\": 1, 'do,--that': 1, 'found': 4, 'cause': 11, 'lunacy.': 1, 'admittance': 1, 'ambassadors;': 1, 'fruit': 2, 'feast.': 1, 'Thyself': 1, 'in.': 8, \"son's\": 1, 'distemper.': 1, 'main,--': 1, \"o'erhasty\": 1, 'marriage.': 1, 'sift': 1, 'friends!': 3, 'brother': 3, 'Norway?': 1, 'greetings': 1, 'desires.': 1, 'first,': 1, 'levies;': 1, 'preparation': 1, 'Polack;': 1, 'into,': 1, 'highness;': 1, 'whereat': 1, \"griev'd,--\": 1, 'sickness,': 1, 'age,': 2, 'impotence': 1, 'falsely': 1, 'borne': 3, 'hand,--sends': 1, 'arrests': 1, 'On': 8, 'he,': 7, 'brief,': 2, 'obeys;': 1, 'Receives': 1, 'rebuke': 1, 'fine,': 3, 'assay': 2, 'majesty.': 3, 'Whereon': 4, 'overcome': 1, 'joy,': 1, 'Gives': 1, 'three': 8, 'crowns': 1, 'commission': 2, 'employ': 1, 'levied': 1, 'Polack:': 1, 'entreaty,': 1, 'shown,': 1, '[Gives': 1, 'paper.]': 1, 'pass': 5, 'Through': 1, 'dominions': 1, 'enterprise,': 1, 'regards': 1, 'allowance': 1, 'therein': 1, 'down.': 3, 'likes': 3, \"consider'd\": 1, 'read,': 3, 'Answer,': 1, 'business.': 2, 'Meantime': 1, 'thank': 9, 'well-took': 1, 'labour:': 1, 'rest;': 1, 'feast': 2, 'together:': 1, 'welcome': 5, 'home!': 1, 'ended.--': 1, 'madam,--to': 1, 'expostulate': 1, 'Were': 3, 'nothing': 17, 'waste': 1, 'brevity': 1, 'tediousness': 1, 'limbs': 1, 'outward': 2, 'flourishes,': 1, 'brief:--your': 1, 'mad:': 2, 'define': 1, 'madness,': 5, 'mad?': 2, 'matter,': 3, 'art.': 2, 'Madam,': 4, 'swear': 1, 'all.': 3, 'mad,': 3, 'true:': 2, 'pity;': 1, 'pity': 2, 'foolish': 3, 'figure;': 1, 'farewell': 1, 'grant': 1, 'then:': 1, 'remains': 2, 'effect;': 1, 'remains,': 1, 'remainder': 1, 'thus.': 2, 'Perpend.': 1, 'daughter,--have': 1, 'mine,--': 1, 'obedience,': 2, 'mark,': 1, 'this:': 2, 'surmise.': 1, '[Reads.]': 4, \"'To\": 1, 'celestial,': 1, \"soul's\": 1, 'idol,': 1, 'beautified': 1, \"Ophelia,'--\": 1, 'ill': 5, 'phrase;': 1, \"'beautified'\": 1, 'phrase:': 1, 'Thus:': 1, \"'In\": 1, 'white': 3, 'bosom,': 1, \"&c.'\": 1, 'Came': 1, 'her?': 3, 'awhile;': 2, 'faithful.': 1, \"'Doubt\": 1, 'fire;': 2, 'Doubt': 2, 'sun': 4, 'move;': 1, 'liar;': 1, \"'O\": 1, 'numbers;': 1, 'reckon': 1, 'groans:': 1, 'best,': 2, 'Adieu.': 1, \"'Thine\": 1, 'evermore,': 1, 'lady,': 6, \"HAMLET.'\": 3, 'This,': 1, \"show'd\": 1, 'above,': 1, 'solicitings,': 1, 'place,': 3, 'ear.': 3, \"Receiv'd\": 1, 'faithful': 2, 'honourable.': 1, 'fain': 4, 'prove': 2, 'think,': 4, 'wing,--': 1, \"perceiv'd\": 1, 'me,--': 1, 'queen': 10, \"play'd\": 2, 'desk': 1, 'table-book,': 1, 'winking,': 1, 'mute': 1, 'dumb;': 2, 'idle': 2, 'sight;--': 1, 'think?': 1, 'round': 6, 'mistress': 2, 'bespeak:': 1, \"'Lord\": 1, 'prince,': 2, 'sphere;': 1, \"be:'\": 1, 'gave': 8, 'her,': 7, 'lock': 2, 'herself': 5, 'resort,': 1, 'Admit': 1, 'messengers,': 1, 'tokens.': 1, 'fruits': 1, 'advice;': 1, 'repulsed,--a': 1, 'short': 3, 'make,--': 1, 'Fell': 2, 'sadness;': 1, 'fast;': 1, 'Thence': 2, 'thence': 1, 'weakness;': 1, 'lightness;': 1, 'declension,': 1, 'Into': 4, 'madness': 10, 'wherein': 1, 'raves,': 1, 'wail': 1, 'likely.': 1, \"time,--I'd\": 1, 'that--': 1, 'positively': 1, \"''Tis\": 1, \"prov'd\": 2, 'otherwise?': 1, 'know.': 2, 'otherwise:': 1, '[Points': 1, 'shoulder.]': 1, 'circumstances': 1, 'hid,': 1, 'hid': 1, 'indeed': 4, 'centre.': 1, 'further?': 1, 'walks': 1, 'lobby.': 2, 'loose': 1, 'behind': 3, 'arras': 3, 'encounter:': 1, \"fall'n\": 1, 'thereon': 1, 'assistant': 1, 'farm': 2, 'carters.': 1, 'sadly': 1, 'reading.': 1, 'Away,': 1, 'board': 1, 'presently:--O,': 1, 'reading.]': 1, 'Hamlet?': 4, 'God-a-mercy.': 1, 'Excellent': 1, \"you're\": 1, 'fishmonger.': 1, 'Honest,': 1, 'sir;': 7, 'honest,': 1, 'goes,': 2, 'picked': 2, 'thousand.': 1, 'true,': 1, 'breed': 1, 'maggots': 1, 'dog,': 1, 'god-kissing': 1, 'carrion,--Have': 1, 'daughter?': 1, 'sun:': 1, 'conception': 1, 'blessing,': 1, 'conceive:--friend,': 1, \"to't.\": 2, 'that?--[Aside.]': 1, 'harping': 1, 'daughter:--yet': 1, 'first;': 2, 'fishmonger:': 1, 'gone:': 1, 'suffered': 1, 'extremity': 1, 'again.--What': 1, 'Words,': 1, 'words.': 1, 'Between': 2, 'matter': 12, 'Slanders,': 1, 'sir:': 5, 'satirical': 1, 'slave': 4, 'grey': 1, 'beards;': 1, 'faces': 1, 'wrinkled;': 1, 'purging': 2, 'thick': 1, 'amber': 1, 'plum-tree': 1, 'gum;': 1, 'plentiful': 1, 'hams:': 1, 'powerfully': 1, 'potently': 1, 'believe,': 1, 'honesty': 4, 'down;': 3, 'yourself,': 3, 'am,': 2, 'if,': 1, 'crab,': 1, 'backward.': 1, \"in't.--\": 1, 'grave?': 2, 'pregnant': 2, 'replies': 1, 'are!': 1, 'happiness': 1, 'hits': 1, 'on,': 4, 'sanity': 1, 'prosperously': 1, 'delivered': 1, 'suddenly': 1, 'meeting': 1, 'daughter.--My': 1, 'cannot,': 1, 'anything': 3, 'withal,--except': 1, 'except': 2, 'life.': 4, 'tedious': 2, 'fools!': 1, 'Guildenstern.]': 14, '[To': 9, 'save': 3, 'sir!': 2, 'honoured': 1, 'dost': 9, 'Guildenstern?': 1, 'Ah,': 3, 'Rosencrantz!': 1, 'lads,': 1, 'both?': 1, 'indifferent': 3, 'children': 1, 'earth.': 1, 'Happy': 1, 'over-happy;': 1, 'cap': 2, 'button.': 1, 'soles': 1, 'shoe?': 1, 'Neither,': 1, 'waist,': 1, 'favours?': 1, 'privates': 1, 'we.': 1, 'secret': 2, 'parts': 3, 'fortune?': 1, 'strumpet.': 1, \"What's\": 6, 'news?': 2, 'None,': 1, \"world's\": 2, 'honest.': 1, 'near;': 1, 'true.': 1, 'particular:': 1, 'deserved': 1, 'fortune,': 4, 'sends': 3, 'prison': 2, 'hither?': 2, 'Prison,': 1, \"Denmark's\": 3, 'prison.': 2, 'one.': 2, 'one;': 3, 'confines,': 1, 'wards,': 1, 'dungeons,': 1, 'worst.': 1, 'bad': 5, 'ambition': 4, 'narrow': 1, 'mind.': 1, 'bounded': 1, 'nutshell,': 1, 'count': 3, 'myself': 4, 'space,': 1, 'dreams.': 1, 'dreams,': 1, 'ambition;': 1, 'merely': 1, 'shadow': 1, 'dream.': 1, 'shadow.': 2, 'Truly,': 1, 'airy': 1, 'quality': 3, \"shadow's\": 1, 'beggars': 1, 'bodies,': 1, 'monarchs': 1, \"outstretch'd\": 1, 'heroes': 1, \"beggars'\": 1, 'shadows.': 1, 'court?': 1, 'fay,': 1, 'reason.': 1, 'Guild.': 1, 'wait': 2, 'servants;': 1, 'dreadfully': 1, 'attended.': 1, 'beaten': 1, 'friendship,': 1, 'occasion.': 1, 'Beggar': 1, 'thanks;': 1, 'halfpenny.': 1, 'for?': 2, 'inclining?': 1, 'visitation?': 1, 'deal': 1, 'justly': 3, 'nay,': 2, 'speak.': 4, 'anything--but': 1, 'purpose.': 2, 'for;': 1, 'kind': 10, 'confession': 3, 'looks,': 2, 'modesties': 1, 'craft': 1, 'colour:': 1, 'end,': 2, 'conjure': 1, 'rights': 2, 'fellowship,': 1, 'consonancy': 1, 'obligation': 1, 'ever-preserved': 1, 'proposer': 1, 'withal,': 1, 'whether': 3, 'no.': 1, 'you.--If': 1, 'off.': 2, 'why;': 1, 'anticipation': 1, 'prevent': 1, 'discovery,': 1, 'moult': 1, 'feather.': 1, 'late,--but': 1, 'wherefore': 1, 'not,--lost': 1, 'mirth,': 1, 'forgone': 1, 'exercises;': 1, 'heavily': 1, 'sterile': 1, 'promontory;': 1, 'canopy,': 1, 'brave': 2, \"o'erhanging\": 1, 'firmament,': 1, 'majestical': 1, 'roof': 1, 'fretted': 1, 'golden': 3, 'fire,--why,': 1, 'appears': 1, 'pestilent': 2, 'congregation': 1, 'vapours.': 1, 'man!': 1, 'reason!': 1, 'faculties!': 1, 'moving,': 1, 'admirable!': 1, 'angel!': 1, 'apprehension,': 2, 'god!': 1, 'paragon': 1, 'animals!': 1, 'quintessence': 1, 'dust?': 1, 'Man': 1, 'delights': 2, 'no,': 3, 'woman': 3, 'neither,': 2, 'stuff': 2, 'thoughts.': 2, 'laugh': 4, \"'Man\": 1, \"me'?\": 1, 'lenten': 1, 'players': 10, 'coted': 1, 'way;': 1, 'hither': 1, 'service.': 3, 'plays': 1, 'welcome,--his': 1, 'tribute': 1, 'adventurous': 1, 'knight': 1, 'foil': 1, 'target;': 1, 'lover': 1, 'gratis;': 1, 'humorous': 1, 'peace;': 1, 'clown': 1, 'lungs': 1, 'tickle': 1, 'sere;': 1, 'lady': 3, 'freely,': 1, 'blank': 1, 'verse': 1, 'halt': 1, \"for't.\": 1, 'they?': 1, 'in,--the': 1, 'tragedians': 1, 'city.': 1, 'travel?': 1, 'residence,': 1, 'reputation': 1, 'profit,': 1, 'inhibition': 1, 'innovation.': 1, 'estimation': 1, 'city?': 1, 'followed?': 1, 'rusty?': 1, 'endeavour': 1, 'keeps': 4, 'wonted': 2, 'pace:': 1, 'aery': 1, 'children,': 1, 'eyases,': 1, 'cry': 3, 'tyrannically': 1, 'clapped': 1, \"for't:\": 1, 'fashion;': 1, 'berattle': 1, 'stages,--so': 1, 'them,--that': 1, 'wearing': 1, 'rapiers': 2, 'afraid': 1, 'goose-quills': 1, 'scarce': 2, 'thither.': 1, 'children?': 1, 'maintains': 1, \"'em?\": 2, 'escoted?': 1, 'pursue': 2, 'longer': 3, 'sing?': 1, 'afterwards,': 1, 'themselves': 5, 'players,--as': 1, 'better,--their': 1, 'writers': 1, 'exclaim': 1, 'succession?': 1, 'sides;': 1, 'nation': 2, 'sin': 1, 'tarre': 1, 'controversy:': 1, 'argument': 2, 'poet': 1, 'player': 2, 'cuffs': 1, 'question.': 2, \"Is't\": 3, 'possible?': 2, 'throwing': 1, 'brains.': 1, 'boys': 1, 'carry': 3, 'away?': 1, 'Hercules': 2, 'load': 1, 'strange;': 1, 'mouths': 2, 'lived,': 1, 'twenty,': 1, 'forty,': 1, 'fifty,': 1, 'ducats': 2, 'a-piece': 1, 'picture': 1, 'little.': 2, \"'Sblood,\": 2, 'natural,': 1, 'philosophy': 1, 'out.': 2, '[Flourish': 1, 'trumpets': 1, 'players.': 1, 'Gentlemen,': 1, 'hands,': 4, 'come:': 2, 'appurtenance': 1, 'ceremony:': 1, 'comply': 2, 'garb;': 1, 'lest': 3, 'players,': 2, 'fairly': 1, 'outward,': 1, 'yours.': 2, 'welcome:': 1, 'uncle-father': 1, 'aunt-mother': 1, 'deceived.': 2, 'mad': 7, 'north-north-west:': 1, 'southerly': 1, 'hawk': 1, 'handsaw.': 1, 'gentlemen!': 1, 'Hark': 1, 'Guildenstern;--and': 1, 'too;--at': 1, 'hearer:': 1, 'baby': 1, 'swaddling': 1, 'clouts.': 1, 'Happily': 1, 'them;': 2, 'child.': 1, 'prophesy': 2, 'players;': 1, 'it.--You': 1, 'right,': 2, 'Monday': 1, 'morning;': 1, \"'twas\": 5, 'Roscius': 1, 'actor': 2, 'Rome,--': 1, 'actors': 2, 'Buzz,': 1, 'buzz!': 1, 'honour,--': 1, 'ass,--': 1, 'tragedy,': 2, 'comedy,': 2, 'history,': 1, 'pastoral,': 1, 'pastoral-comical,': 1, 'historical-pastoral,': 1, 'tragical-historical,': 1, 'tragical-comical-historical-pastoral,': 1, 'scene': 3, 'individable,': 1, 'poem': 1, 'unlimited:': 1, 'Seneca': 1, 'heavy': 5, 'Plautus': 1, 'light.': 1, 'liberty,': 1, 'men.': 1, 'Jephthah,': 2, 'judge': 2, 'Israel,': 1, 'hadst': 2, 'thou!': 1, 'Why--': 2, \"'One\": 1, 'more,': 7, 'loved': 2, 'passing': 2, \"well.'\": 1, 'daughter.': 3, 'Am': 2, 'Jephthah?': 1, 'follows': 1, \"'As\": 1, 'lot,': 1, \"wot,'\": 1, \"'It\": 1, 'pass,': 1, \"was--'\": 1, 'row': 1, 'chanson': 1, 'more;': 3, 'abridgment': 1, 'four': 4, 'five': 2, 'Players.]': 4, 'welcome,': 2, 'masters;': 1, 'all:--I': 1, 'well.--welcome,': 1, 'friends.--O,': 1, 'friend!': 1, \"valanc'd\": 1, 'last;': 1, 'comest': 1, 'Denmark?--What,': 1, 'mistress!': 1, \"By'r\": 1, 'ladyship': 1, 'last,': 1, 'altitude': 1, 'chopine.': 1, 'Pray': 4, 'uncurrent': 1, 'gold,': 1, 'cracked': 1, 'ring.--Masters,': 1, \"to't\": 2, 'French': 4, 'falconers,': 1, 'fly': 4, 'see:': 2, 'speech': 8, 'straight:': 2, 'taste': 1, 'quality:': 1, 'passionate': 2, 'speech.': 1, 'Play.': 6, 'once,--but': 1, 'acted;': 1, 'play,': 4, 'remember,': 2, 'pleased': 1, 'million,': 1, 'caviare': 1, 'general;': 1, 'was,--as': 1, 'others,': 1, 'judgments': 2, 'matters': 1, 'cried': 2, 'mine,--an': 1, 'digested': 1, 'scenes,': 1, 'modesty': 3, 'cunning.': 1, 'sallets': 1, 'lines': 2, 'savoury,': 1, 'indite': 1, 'affectation;': 1, 'called': 1, 'method,': 1, 'handsome': 1, 'fine.': 1, 'chiefly': 1, 'loved:': 1, \"AEneas'\": 1, 'Dido,': 1, 'thereabout': 1, 'especially': 1, 'speaks': 4, \"Priam's\": 1, 'slaughter:': 1, 'memory,': 2, 'begin': 1, 'line;--let': 1, 'see,': 3, 'see:--': 2, 'rugged': 2, 'Pyrrhus,': 1, 'Hyrcanian': 1, 'beast,--': 1, 'so:--': 1, 'begins': 1, 'Pyrrhus:--': 1, \"'The\": 3, 'Pyrrhus,--he': 1, 'arms,': 1, 'Black': 1, 'purpose,': 3, 'resemble': 1, 'couched': 1, 'ominous': 1, 'horse,--': 1, 'black': 4, 'complexion': 1, \"smear'd\": 1, 'heraldry': 1, 'dismal;': 2, 'foot': 1, 'gules;': 1, \"trick'd\": 1, 'mothers,': 1, 'daughters,': 1, 'sons,': 1, \"Bak'd\": 1, 'impasted': 1, 'parching': 1, 'streets,': 1, 'tyrannous': 1, 'murders:': 1, 'roasted': 1, 'wrath': 1, \"o'ersized\": 1, 'coagulate': 1, 'gore,': 1, 'carbuncles,': 1, 'hellish': 1, 'Pyrrhus': 4, 'Old': 1, 'grandsire': 1, 'Priam': 2, \"seeks.'\": 1, 'proceed': 1, \"'Fore\": 1, 'spoken,': 1, 'accent': 2, 'Anon': 2, 'finds': 3, 'Striking': 1, 'Greeks:': 1, 'antique': 2, 'Rebellious': 2, 'falls,': 2, 'Repugnant': 1, 'command:': 1, 'unequal': 1, \"match'd,\": 1, 'drives;': 1, 'rage': 1, 'strikes': 1, 'wide;': 2, 'whiff': 1, 'sword': 4, 'unnerved': 1, 'falls.': 1, 'senseless': 2, 'Ilium,': 1, 'Seeming': 1, 'feel': 1, 'blow,': 1, 'flaming': 2, 'Stoops': 1, 'base;': 1, 'hideous': 1, 'crash': 1, 'Takes': 1, 'prisoner': 1, \"Pyrrhus'\": 3, 'ear:': 1, 'lo!': 1, 'declining': 1, 'milky': 1, 'reverend': 1, 'Priam,': 1, 'stick:': 1, 'painted': 2, 'tyrant,': 1, 'stood;': 1, 'neutral': 1, 'storm,': 1, 'heavens,': 2, 'rack': 1, 'bold': 1, 'speechless,': 1, 'orb': 1, 'below': 2, 'hush': 1, 'anon': 2, 'thunder': 1, 'rend': 1, 'region;': 1, 'after': 8, 'pause,': 1, 'roused': 1, 'vengeance': 1, 'sets': 2, 'a-work;': 1, \"Cyclops'\": 1, 'hammers': 1, 'fall': 5, \"Mars's\": 1, 'armour,': 1, \"forg'd\": 1, 'proof': 3, 'eterne,': 1, 'remorse': 1, 'bleeding': 1, 'Priam.--': 1, 'Out,': 1, 'strumpet,': 1, 'Fortune!': 1, 'gods,': 1, 'synod,': 1, 'power;': 1, 'spokes': 2, 'fellies': 1, 'wheel,': 2, 'bowl': 1, 'nave': 1, 'hill': 1, 'low': 1, 'fiends!': 1, 'long.': 1, \"barber's,\": 1, \"beard.--Pr'ythee\": 1, 'on.--': 1, \"He's\": 3, 'jig': 1, 'bawdry,': 1, 'sleeps:--say': 1, 'Hecuba.': 1, 'mobled': 2, 'queen,--': 1, \"queen'?\": 1, 'good!': 1, \"'Mobled\": 1, \"queen'\": 1, 'good.': 2, 'Run': 1, 'barefoot': 1, 'threatening': 1, 'bisson': 1, 'rheum;': 1, 'clout': 1, 'diadem': 2, 'stood,': 1, 'robe,': 1, 'About': 2, 'lank': 1, \"o'erteemed\": 1, 'loins,': 1, 'blanket,': 1, 'alarm': 1, 'caught': 2, 'up;--': 1, 'venom': 1, \"steep'd,\": 1, \"'Gainst\": 1, \"Fortune's\": 3, 'treason': 3, \"pronounc'd:\": 1, 'gods': 1, 'sport': 2, 'mincing': 1, \"husband's\": 2, 'limbs,': 1, 'clamour': 1, 'made,--': 1, 'Unless': 1, 'mortal': 5, 'milch': 1, 'burning': 2, 'gods.': 1, 'colour,': 1, 'eyes.--Pray': 1, 'more!': 1, 'soon.--': 1, 'bestowed?': 1, 'hear?': 3, 'used;': 1, 'abstracts': 1, 'brief': 1, 'chronicles': 1, 'time;': 1, 'epitaph': 2, 'live.': 1, 'according': 1, 'desert.': 1, \"Odd's\": 1, 'bodikin,': 1, 'better:': 2, 'desert,': 1, 'scape': 2, 'whipping?': 1, 'Use': 1, 'dignity:': 1, 'deserve,': 1, 'merit': 2, 'bounty.': 1, 'sirs.': 1, 'Follow': 4, 'friends:': 1, 'play': 16, 'to-morrow.': 1, 'Players': 1, 'First.]': 1, 'Dost': 4, 'friend?': 1, 'Can': 3, \"Gonzago'?\": 1, \"ha't\": 1, 'to-morrow': 1, 'need,': 1, 'study': 1, 'dozen': 3, 'sixteen': 1, 'insert': 1, \"in't?\": 3, 'well.--Follow': 1, 'First': 1, 'Player.]': 1, '--My': 1, 'Guild.],': 1, 'night:': 2, 'ye!': 1, 'rogue': 1, 'peasant': 2, 'I!': 2, 'monstrous': 1, 'fiction,': 1, 'passion,': 4, 'Could': 5, 'force': 2, 'conceit': 1, 'working': 1, 'visage': 3, \"wan'd;\": 1, 'Tears': 1, 'distraction': 1, 'aspect,': 1, 'broken': 1, 'function': 1, 'suiting': 1, 'forms': 1, 'conceit?': 1, 'nothing!': 1, 'Hecuba?': 1, 'Hecuba': 1, 'Hecuba,': 1, 'weep': 1, 'cue': 1, 'have?': 2, 'drown': 5, 'stage': 2, 'cleave': 1, 'horrid': 2, 'speech;': 2, 'appal': 1, 'free;': 1, 'Confound': 1, 'ignorant,': 1, 'amaze,': 1, 'faculties': 1, 'ears.': 1, 'muddy-mettled': 1, 'rascal,': 1, 'peak,': 1, 'John-a-dreams,': 1, 'unpregnant': 1, 'cause,': 4, 'nothing;': 2, \"damn'd\": 4, 'defeat': 2, 'made.': 1, 'coward?': 1, 'calls': 3, 'villain?': 1, 'breaks': 1, 'pate': 4, 'across?': 1, 'Plucks': 1, 'Tweaks': 1, 'nose?': 1, 'gives': 5, 'lie': 8, 'lungs?': 1, 'ha?': 2, \"'Swounds,\": 2, \"pigeon-liver'd,\": 1, 'gall': 2, 'oppression': 1, 'bitter;': 1, 'fatted': 1, 'region': 1, 'kites': 1, \"slave's\": 1, 'offal:': 1, 'bloody,': 2, 'bawdy': 1, 'Remorseless,': 1, 'treacherous,': 1, 'lecherous,': 1, 'kindless': 1, 'vengeance!': 1, 'ass': 3, 'brave,': 1, \"murder'd,\": 1, 'Prompted': 1, 'revenge': 3, 'Must,': 1, 'whore,': 1, 'unpack': 1, 'a-cursing': 1, 'drab,': 1, 'scullion!': 1, \"upon't!\": 1, 'foh!--About,': 1, 'brain!': 1, 'creatures,': 2, 'sitting': 1, 'cunning': 3, 'presently': 2, \"proclaim'd\": 1, 'malefactions;': 1, 'murder,': 1, 'miraculous': 1, 'organ,': 2, 'Play': 1, 'murder': 4, 'uncle:': 2, 'observe': 1, 'looks;': 2, 'tent': 1, 'quick:': 1, 'blench,': 1, 'course.': 1, 'devil:': 1, 'devil': 4, 'pleasing': 1, 'shape;': 1, 'yea,': 1, 'perhaps': 3, 'weakness': 1, 'melancholy,--': 1, 'potent': 2, 'spirits,--': 1, 'Abuses': 1, 'damn': 1, 'grounds': 1, 'relative': 1, 'this.--the': 1, \"play's\": 1, 'conscience': 4, 'circumstance,': 2, 'confusion,': 1, 'Grating': 1, 'harshly': 1, 'turbulent': 1, 'dangerous': 3, 'lunacy?': 1, 'confess': 3, 'feels': 1, 'distracted,': 1, 'forward': 1, 'sounded,': 1, 'crafty': 1, 'aloof': 1, 'well?': 2, 'gentleman.': 3, 'forcing': 1, 'disposition.': 1, 'Niggard': 1, 'question;': 1, 'demands,': 1, 'reply.': 1, 'pastime?': 1, \"o'er-raught\": 1, 'way:': 1, 'joy': 5, 'court,': 1, 'order': 2, \"beseech'd\": 1, 'matter.': 4, 'content': 2, \"inclin'd.--\": 1, 'edge,': 1, 'drive': 2, 'purpose': 5, 'delights.': 1, 'Sweet': 2, 'too;': 3, 'closely': 1, 'accident,': 1, 'Affront': 1, 'Ophelia:': 1, 'Her': 6, 'myself,--lawful': 1, 'espials,--': 1, 'bestow': 3, 'seeing,': 1, 'unseen,': 1, 'encounter': 1, 'frankly': 2, 'judge;': 1, 'gather': 1, \"behav'd,\": 1, \"If't\": 1, 'affliction': 2, 'suffers': 3, 'you:--': 2, 'beauties': 1, 'happy': 2, 'wildness:': 1, 'hope': 5, 'honours.': 1, 'Queen.]': 3, 'here.--Gracious,': 1, 'ourselves.--[To': 1, 'Read': 1, 'book;': 1, 'exercise': 2, 'loneliness.--We': 1, 'blame': 1, 'this,--': 4, \"prov'd,--that\": 1, \"devotion's\": 1, 'sugar': 1, 'Devil': 1, 'himself.': 3, 'true!': 1, 'smart': 1, 'lash': 1, 'conscience!': 1, \"harlot's\": 1, 'cheek,': 1, 'beautied': 1, 'plastering': 1, 'art,': 1, 'ugly': 1, 'helps': 1, 'deed': 7, 'word:': 1, 'burden!': 1, 'coming:': 1, 'withdraw,': 1, 'be,--that': 1, 'question:--': 1, 'nobler': 1, 'suffer': 3, 'slings': 1, 'arrows': 1, 'outrageous': 1, 'fortune': 3, 'troubles,': 1, 'opposing': 1, 'them?--To': 1, 'die,--to': 2, 'sleep,--': 1, 'sleep': 3, 'heartache,': 1, 'shocks': 1, 'heir': 1, \"to,--'tis\": 1, 'consummation': 1, 'Devoutly': 1, \"wish'd.\": 1, 'sleep;--': 1, 'sleep!': 1, 'perchance': 2, 'dream:--ay,': 1, \"there's\": 4, 'rub;': 1, 'dreams': 1, 'shuffled': 1, 'coil,': 1, 'pause:': 2, 'respect': 2, 'calamity': 1, 'life;': 2, 'whips': 1, 'scorns': 1, \"oppressor's\": 1, 'proud': 2, 'contumely,': 1, 'pangs': 1, \"despis'd\": 1, \"law's\": 1, 'delay,': 1, 'insolence': 1, 'office,': 1, 'spurns': 1, 'patient': 2, 'unworthy': 2, 'quietus': 1, 'bare': 1, 'bodkin?': 1, 'fardels': 1, 'bear,': 1, 'grunt': 1, 'sweat': 2, 'weary': 1, 'death,--': 1, \"undiscover'd\": 1, 'country,': 1, 'bourn': 1, 'traveller': 1, 'returns,--puzzles': 1, 'ills': 1, 'others': 2, 'of?': 1, 'cowards': 1, 'all;': 4, 'hue': 1, 'resolution': 1, 'sicklied': 1, 'thought;': 1, 'enterprises': 1, 'moment,': 1, 'regard,': 2, 'currents': 2, 'turn': 5, 'awry,': 1, 'action.--Soft': 1, 'now!': 6, 'Ophelia!--Nymph,': 1, 'orisons': 1, 'sins': 1, \"remember'd.\": 1, 'day?': 1, 'remembrances': 1, 'yours': 1, 'longed': 1, 're-deliver.': 1, 'them.': 10, 'aught.': 1, 'right': 4, 'breath': 4, \"compos'd\": 1, 'rich;': 1, 'again;': 2, 'Rich': 1, 'wax': 1, 'givers': 1, 'unkind.': 1, 'There,': 2, 'ha!': 1, 'honest?': 1, 'fair?': 1, 'lordship?': 1, 'fair,': 4, 'admit': 1, 'beauty.': 1, 'beauty,': 1, 'commerce': 1, 'honesty?': 1, 'truly;': 1, 'sooner': 2, 'transform': 1, 'bawd': 1, 'translate': 1, 'likeness:': 1, 'paradox,': 1, 'proof.': 2, 'once.': 2, \"believ'd\": 1, 'inoculate': 1, 'stock': 1, 'relish': 2, 'nunnery:': 1, 'breeder': 1, 'sinners?': 1, 'honest;': 1, 'accuse': 1, 'proud,': 1, 'revengeful,': 1, 'ambitious;': 1, 'offences': 1, 'beck': 1, 'imagination': 3, 'shape,': 1, 'fellows': 3, 'crawling': 1, 'heaven?': 2, 'knaves,': 1, 'us.': 5, 'ways': 1, 'nunnery.': 1, \"Where's\": 1, 'father?': 2, 'home,': 1, 'shut': 1, 'fool': 4, 'nowhere': 1, 'heavens!': 3, 'plague': 1, 'dowry,--': 1, 'ice,': 1, 'snow,': 3, 'escape': 2, 'calumny.': 1, 'nunnery,': 3, 'Or,': 1, 'marry': 2, 'fool;': 1, 'wise': 1, 'monsters': 1, 'go;': 2, 'quickly': 1, 'heavenly': 2, 'powers,': 1, 'restore': 1, 'paintings': 1, 'too,': 5, 'enough;': 1, 'face,': 1, 'yourselves': 1, 'another:': 2, 'jig,': 1, 'amble,': 1, 'lisp,': 1, 'nickname': 1, 'wantonness': 1, 'ignorance.': 1, \"on't;\": 1, 'marriages:': 1, 'married': 1, 'already,': 1, 'one,': 3, 'live;': 1, \"o'erthrown!\": 1, \"courtier's,\": 1, \"scholar's,\": 1, \"soldier's,\": 1, 'expectancy': 1, 'rose': 4, 'glass': 2, 'mould': 1, \"observ'd\": 1, 'observers,--quite,': 1, 'quite': 3, 'down!': 1, 'ladies': 1, 'deject': 1, 'wretched': 2, \"suck'd\": 2, 'honey': 1, 'music': 2, 'vows,': 2, 'bells': 1, 'jangled,': 1, 'tune': 2, 'harsh;': 1, \"unmatch'd\": 1, 'feature': 1, 'blown': 1, 'Blasted': 1, 'ecstasy:': 1, 'woe': 5, 'see!': 1, 'Love!': 1, 'affections': 1, 'tend;': 1, 'spake,': 1, \"lack'd\": 1, 'little,': 1, 'madness.': 2, \"O'er\": 2, 'melancholy': 1, 'brood;': 1, 'hatch': 1, 'disclose': 1, 'danger:': 1, 'prevent,': 1, 'quick': 6, 'determination': 1, 'down:--he': 1, 'speed': 2, 'England': 7, 'demand': 2, 'neglected': 2, 'tribute:': 1, 'Haply': 1, 'seas,': 1, 'countries': 1, 'different,': 1, 'variable': 2, 'objects,': 1, 'expel': 2, 'something-settled': 1, 'brains': 2, 'origin': 1, 'commencement': 1, 'Sprung': 1, 'love.--How': 1, 'all.--My': 1, 'fit,': 2, 'grief:': 1, \"plac'd,\": 1, 'conference.': 1, 'confine': 1, 'Madness': 1, 'ones': 2, \"unwatch'd\": 1, 'hall': 2, 'pronounced': 1, 'trippingly': 1, 'mouth': 2, 'lief': 1, 'town': 1, 'crier': 1, 'lines.': 1, 'gently:': 1, 'torrent,': 1, 'tempest,': 1, 'whirlwind': 1, 'acquire': 1, 'beget': 1, 'temperance': 1, 'smoothness.': 1, 'offends': 1, 'robustious': 1, 'periwig-pated': 1, 'tear': 2, 'tatters,': 1, 'rags,': 1, 'split': 1, 'groundlings,': 1, 'capable': 1, 'inexplicable': 1, 'noise:': 1, 'whipped': 1, \"o'erdoing\": 1, 'Termagant;': 1, 'out-herods': 1, 'Herod:': 1, 'avoid': 2, 'Player.': 2, 'warrant': 3, 'tame': 1, 'neither;': 1, 'tutor:': 1, 'suit': 2, 'word,': 2, 'action;': 1, 'special': 3, 'observance,': 1, \"o'erstep\": 1, 'nature:': 1, 'overdone': 1, 'playing,': 2, 'hold,': 1, 'nature;': 3, 'image,': 2, 'scorn': 1, 'pressure.': 1, 'overdone,': 1, 'tardy': 2, 'unskilful': 1, 'laugh,': 2, 'judicious': 1, 'grieve;': 1, 'allowance,': 1, \"o'erweigh\": 1, 'theatre': 1, 'others.': 1, 'play,--and': 1, 'praise,': 1, 'highly,--not': 1, 'profanely,': 1, 'having': 1, 'Christians,': 1, 'Christian,': 1, 'pagan,': 1, 'strutted': 1, 'bellowed': 1, 'journeymen': 1, 'men,': 1, 'imitated': 1, 'humanity': 1, 'abominably.': 1, \"reform'd\": 1, 'indifferently': 1, 'sir.': 12, 'reform': 1, 'altogether.': 1, 'clowns': 1, 'quantity': 3, 'barren': 1, 'spectators': 1, 'meantime': 1, 'necessary': 2, 'considered:': 1, 'villanous': 1, 'pitiful': 1, 'ready.': 1, 'work?': 1, 'presently.': 2, 'Bid': 1, 'hasten': 1, 'Guil.]': 2, 'Horatio.]': 8, \"e'er\": 1, 'conversation': 1, \"cop'd\": 1, 'flatter;': 1, 'advancement': 1, 'revenue': 1, 'spirits,': 1, 'feed': 4, 'clothe': 1, \"flatter'd?\": 1, 'candied': 1, 'lick': 1, 'absurd': 1, 'pomp;': 1, 'crook': 1, 'hinges': 1, 'knee': 1, 'thrift': 1, 'fawning.': 1, 'choice,': 1, 'distinguish,': 1, 'election': 3, 'herself:': 1, 'suffering': 1, 'buffets': 1, 'rewards': 1, 'Hast': 1, \"bles'd\": 1, 'commingled': 1, 'pipe': 1, 'finger': 2, 'stop': 3, 'please.': 1, \"passion's\": 1, 'slave,': 1, 'wear': 4, \"heart's\": 1, 'core,': 1, 'ay,': 1, 'thee.--Something': 1, 'this.--': 1, 'death:': 1, \"pr'ythee,\": 2, \"see'st\": 1, 'a-foot,': 1, 'occulted': 1, 'guilt': 2, 'unkennel': 1, 'seen;': 1, 'imaginations': 1, \"Vulcan's\": 1, 'stithy.': 1, 'heedful': 1, 'note;': 1, 'rivet': 1, 'face;': 1, 'after,': 2, 'join': 2, 'seeming.': 1, 'steal': 1, 'detecting,': 1, 'pay': 3, 'theft.': 1, 'play.': 5, 'idle:': 1, '[Danish': 1, 'march.': 1, 'flourish.': 1, 'others.]': 2, 'fares': 2, 'Excellent,': 1, 'faith;': 2, \"chameleon's\": 1, 'dish:': 1, 'eat': 4, 'promise-crammed:': 1, 'capons': 1, 'answer,': 2, 'mine.': 2, 'now.': 3, 'university,': 1, 'say?': 1, 'accounted': 1, 'actor.': 1, 'enact?': 1, 'enact': 1, 'Caesar;': 1, \"kill'd\": 4, 'Capitol;': 1, 'Brutus': 1, 'killed': 1, 'brute': 1, 'kill': 4, 'capital': 2, 'calf': 1, 'there.--Be': 1, 'ready?': 1, 'patience.': 1, 'metal': 1, 'attractive.': 1, 'King.]': 3, 'Lady,': 1, 'lap?': 2, '[Lying': 1, \"Ophelia's\": 1, 'feet.]': 1, 'matters?': 1, 'nothing,': 2, \"maids'\": 1, 'legs.': 1, 'Nothing.': 1, 'merry,': 1, 'I?': 1, 'jig-maker!': 1, 'merry?': 1, 'cheerfully': 2, \"'s\": 1, 'hours.': 1, 'months,': 1, 'Nay': 1, 'sables.': 1, 'die': 2, 'ago,': 1, 'forgotten': 1, 'yet?': 1, 'outlive': 1, 'half': 3, 'year:': 2, \"by'r\": 1, 'build': 1, 'churches': 1, 'hobby-horse,': 1, \"'For,\": 1, 'hobby-horse': 1, \"forgot!'\": 1, '[Trumpets': 2, 'sound.': 1, 'enters.]': 1, 'lovingly;': 1, 'embracing': 1, 'kneels,': 1, 'protestation': 1, 'up,': 2, 'declines': 1, 'neck:': 1, 'lays': 1, 'bank': 1, 'flowers:': 1, 'asleep,': 1, 'leaves': 2, 'fellow,': 1, 'kisses': 2, 'pours': 1, 'poison': 6, 'exit.': 1, 'returns,': 1, 'action.': 1, 'Poisoner': 2, 'Mutes,': 1, 'seeming': 1, 'lament': 1, 'carried': 1, 'wooes': 1, 'loth': 1, 'unwilling': 1, 'love.]': 1, 'miching': 1, 'mallecho;': 1, 'mischief.': 1, 'Belike': 1, 'imports': 4, 'Prologue.]': 1, 'fellow:': 1, 'counsel;': 1, \"they'll\": 1, 'meant?': 1, 'ashamed': 1, \"he'll\": 1, 'shame': 4, 'naught,': 1, 'naught:': 1, 'Pro.': 1, 'stooping': 1, 'clemency,': 1, 'beg': 5, 'patiently.': 1, 'prologue,': 1, 'posy': 1, 'ring?': 1, \"woman's\": 1, 'Full': 1, 'thirty': 3, \"Phoebus'\": 1, 'cart': 1, 'wash': 2, \"Tellus'\": 1, 'orbed': 1, 'ground,': 2, 'moons': 1, \"borrow'd\": 1, 'sheen': 1, 'twelve': 2, 'thirties': 1, 'been,': 1, 'hearts,': 1, 'Hymen': 1, 'Unite': 1, 'commutual': 1, 'sacred': 1, 'bands.': 1, 'journeys': 1, 'moon': 1, 'done!': 1, 'late,': 1, 'distrust': 1, 'Yet,': 1, 'distrust,': 1, 'Discomfort': 1, 'must:': 1, \"women's\": 1, 'quantity;': 1, 'extremity.': 1, \"siz'd,\": 1, 'great,': 2, 'littlest': 1, 'doubts': 1, 'fear;': 1, 'fears': 2, 'shortly': 4, 'operant': 1, 'powers': 2, 'functions': 1, 'do:': 3, 'behind,': 1, \"Honour'd,\": 1, \"belov'd,\": 1, 'haply': 2, 'husband': 6, 'thou,--': 1, 'confound': 1, 'rest!': 2, 'breast:': 1, 'accurst!': 1, 'None': 2, 'wed': 1, 'first.': 1, 'Wormwood,': 1, 'wormwood!': 1, 'instances': 1, 'respects': 1, 'bed.': 3, 'determine': 1, 'break.': 1, 'Purpose': 1, 'memory;': 1, 'birth,': 1, 'validity:': 1, 'unripe,': 1, 'sticks': 1, 'tree;': 1, 'unshaken': 1, 'mellow': 1, 'be.': 3, 'debt:': 1, 'propose,': 1, 'ending,': 1, 'lose.': 1, 'violence': 1, 'enactures': 1, 'destroy:': 1, 'revels,': 1, 'lament;': 1, 'Grief': 1, 'joys,': 1, 'grieves,': 1, 'slender': 1, 'accident.': 2, 'aye;': 1, 'fortunes': 2, 'change;': 1, 'prove,': 1, 'favourite': 1, 'flies,': 1, \"advanc'd\": 1, 'enemies;': 1, 'tend:': 1, 'hollow': 1, 'try,': 1, 'Directly': 1, 'seasons': 1, 'enemy.': 2, 'orderly': 1, 'begun,--': 1, 'wills': 1, 'fates': 1, 'contrary': 1, 'run': 1, 'devices': 1, 'overthrown;': 1, 'ours,': 2, 'ends': 1, 'own:': 1, 'wed;': 1, 'lord': 5, 'food,': 1, 'light!': 1, 'Sport': 1, 'repose': 1, 'night!': 1, 'desperation': 1, 'trust': 2, 'hope!': 1, \"anchor's\": 1, 'scope!': 1, 'Each': 3, 'opposite': 1, 'blanks': 1, 'Meet': 1, 'destroy!': 1, 'hence': 3, 'lasting': 1, 'strife,': 1, 'If,': 1, 'widow,': 1, 'wife!': 1, 'deeply': 1, 'sworn.': 1, 'Sweet,': 1, 'dull,': 1, 'beguile': 1, 'sleep.': 1, '[Sleeps.]': 1, 'Sleep': 1, 'rock': 1, 'mischance': 2, 'twain!': 1, 'play?': 2, 'protests': 1, 'methinks.': 1, \"she'll\": 2, 'word.': 1, 'argument?': 1, 'no!': 2, 'jest,': 2, 'jest;': 1, 'world.': 1, 'Mouse-trap.': 1, 'how?': 1, 'Tropically.': 1, 'Vienna:': 1, 'Gonzago': 1, \"duke's\": 1, 'name;': 1, 'wife,': 2, 'Baptista:': 1, 'anon;': 1, 'knavish': 2, 'work:': 1, 'majesty,': 2, 'souls,': 2, 'touches': 1, \"gall'd\": 1, 'jade': 1, 'wince;': 1, 'withers': 1, 'unwrung.': 1, 'Lucianus.]': 1, 'Lucianus,': 1, 'nephew': 2, 'chorus,': 1, 'interpret': 1, 'puppets': 1, 'dallying.': 1, 'keen,': 1, 'keen.': 1, 'groaning': 1, 'edge.': 1, 'better,': 1, 'worse.': 1, 'husbands.--Begin,': 1, 'murderer;': 1, 'pox,': 1, 'damnable': 1, 'faces,': 1, 'begin.': 1, \"Come:--'The\": 1, 'croaking': 1, 'raven': 1, 'bellow': 1, \"revenge.'\": 1, 'Luc.': 1, 'Thoughts': 1, 'apt,': 1, 'drugs': 1, 'agreeing;': 1, 'Confederate': 1, 'season,': 1, 'creature': 2, 'seeing;': 1, 'mixture': 1, 'rank,': 2, 'weeds': 2, 'collected,': 1, \"Hecate's\": 1, 'ban': 1, 'blasted,': 1, 'infected,': 1, 'magic': 1, 'dire': 1, 'usurp': 1, 'immediately.': 1, '[Pours': 1, \"sleeper's\": 1, 'ears.]': 1, 'poisons': 1, 'garden': 1, \"for's\": 2, 'estate.': 2, \"name's\": 1, 'Gonzago:': 1, 'story': 1, 'extant,': 1, 'written': 1, 'Italian;': 1, 'murderer': 2, 'gets': 1, \"Gonzago's\": 1, 'wife.': 1, 'rises.': 1, 'frighted': 1, 'fire!': 1, 'light:--away!': 1, 'Lights,': 1, 'lights,': 1, 'lights!': 1, 'strucken': 1, 'deer': 1, 'weep,': 2, 'hart': 1, 'ungalled': 1, 'sleep:': 2, 'runs': 2, 'away.--': 1, 'forest': 1, 'feathers--if': 1, 'Turk': 1, 'me,--with': 1, 'Provincial': 1, 'roses': 1, 'razed': 1, 'shoes,': 1, 'fellowship': 1, 'sir?': 5, 'Half': 1, 'share.': 1, 'Damon': 1, 'dear,': 1, 'realm': 1, 'dismantled': 1, 'Jove': 2, 'reigns': 1, 'very,': 1, 'very--pajock.': 1, 'rhymed.': 1, \"ghost's\": 1, 'pound!': 1, 'Didst': 1, 'perceive?': 1, 'poisoning?--': 1, 'ha!--Come,': 1, 'music!': 2, 'recorders!--': 1, 'belike': 1, 'perdy.': 1, 'history.': 1, 'sir--': 1, 'him?': 1, 'Is,': 1, 'retirement,': 1, 'distempered.': 1, 'drink,': 5, 'choler.': 2, 'richer': 1, 'signify': 2, 'doctor;': 1, 'purgation': 1, 'plunge': 1, 'wildly': 2, 'affair.': 1, 'tame,': 2, 'sir:--pronounce.': 1, 'courtesy': 1, 'breed.': 1, 'commandment:': 1, 'pardon': 4, 'cannot.': 3, 'answer;': 1, \"wit's\": 1, 'diseased:': 1, 'make,': 1, 'command;': 2, 'rather,': 1, 'mother:': 2, 'say,--': 1, 'says:': 1, 'behaviour': 1, 'amazement': 2, 'admiration.': 1, 'wonderful': 1, 'stonish': 1, 'mother!--But': 1, 'sequel': 1, 'heels': 3, 'admiration?': 1, 'closet': 2, 'mother.': 6, 'trade': 2, 'us?': 1, 'pickers': 1, 'stealers.': 1, 'distemper?': 1, 'surely,': 1, 'bar': 1, 'door': 2, 'liberty': 2, 'deny': 2, 'griefs': 1, 'friend.': 1, 'advancement.': 1, 'succession': 1, 'Denmark?': 2, \"'While\": 1, 'grass': 2, \"grows'--the\": 1, 'proverb': 1, 'musty.': 1, 'Players,': 1, 'recorders.]': 1, 'recorders:--let': 1, 'one.--To': 1, 'withdraw': 1, 'you:--why': 1, 'toil?': 1, 'bold,': 2, 'unmannerly.': 1, 'pipe?': 2, 'easy': 1, 'lying:': 1, 'govern': 1, 'ventages': 1, 'thumb,': 1, 'eloquent': 1, 'stops.': 1, 'utterance': 1, 'harmony;': 1, 'skill.': 1, 'stops;': 1, 'pluck': 2, 'mystery;': 1, 'lowest': 1, 'compass;': 1, 'music,': 1, 'easier': 1, 'played': 1, 'Call': 1, 'instrument': 2, 'fret': 1, 'bless': 3, 'yonder': 2, 'cloud': 1, 'camel?': 1, 'camel': 1, 'Methinks': 2, 'weasel.': 2, 'backed': 1, 'whale.': 2, 'by.--They': 1, 'bent.--I': 1, 'by.': 1, 'By-and-by': 1, 'easily': 1, '--Leave': 1, 'Ros,': 1, 'Guil.,': 1, 'Hor.,': 1, 'witching': 1, 'churchyards': 1, 'yawn,': 1, 'breathes': 1, 'Contagion': 1, 'world:': 2, 'quake': 1, 'Soft!': 2, 'mother.--': 1, 'Nero': 1, 'firm': 1, 'bosom:': 1, 'cruel,': 2, 'unnatural;': 1, 'daggers': 2, 'none;': 1, 'hypocrites,--': 1, 'somever': 1, 'shent,': 1, 'seals': 1, 'consent!': 1, 'stands': 2, 'safe': 2, 'range.': 1, 'forthwith': 1, 'dispatch,': 1, 'estate': 1, 'endure': 1, 'Hazard': 1, 'hourly': 1, 'lunacies.': 1, 'provide:': 1, 'religious': 1, 'bodies': 3, 'single': 2, 'peculiar': 1, 'strength': 1, \"'noyance;\": 1, 'weal': 1, 'depend': 1, 'many.': 1, 'cease': 2, 'Dies': 2, 'alone;': 1, 'gulf': 1, 'massy': 1, \"Fix'd\": 1, 'highest': 1, 'mount,': 1, 'huge': 1, 'lesser': 1, \"mortis'd\": 1, \"adjoin'd;\": 1, 'small': 1, 'annexment,': 1, 'consequence,': 1, 'Attends': 1, 'boisterous': 1, 'ruin.': 1, 'sigh,': 2, 'groan.': 1, 'Arm': 1, 'speedy': 1, 'voyage;': 1, 'fetters': 1, 'free-footed.': 1, 'Ros': 1, 'closet:': 1, 'Behind': 2, 'process;': 2, 'home:': 2, 'wisely': 1, 'partial,': 1, \"o'erhear\": 1, 'vantage.': 1, 'liege:': 1, 'smells': 1, 'primal': 1, 'eldest': 1, 'curse': 1, \"upon't,--\": 1, 'murder!--Pray': 1, 'sharp': 1, 'stronger': 4, 'defeats': 1, 'intent;': 1, 'pause': 1, 'begin,': 2, 'neglect.': 1, 'thicker': 1, 'blood,--': 1, 'rain': 1, 'heavens': 2, 'snow?': 1, 'Whereto': 1, 'serves': 2, 'confront': 1, 'offence?': 2, 'prayer': 2, 'twofold': 1, 'force,--': 1, 'forestalled': 1, 'fall,': 1, \"pardon'd\": 2, 'down?': 1, 'up;': 2, 'past.': 1, 'serve': 2, 'turn?': 1, 'Forgive': 2, 'murder!--': 1, 'be;': 1, \"possess'd\": 1, 'effects': 1, 'murder,--': 1, 'ambition,': 1, 'queen.': 2, 'retain': 1, 'corrupted': 1, \"Offence's\": 1, 'gilded': 1, 'shove': 1, 'justice;': 1, 'prize': 1, 'Buys': 1, 'law;': 1, 'above;': 1, 'shuffling;--there': 1, \"compell'd,\": 1, 'teeth': 1, 'forehead': 2, 'faults,': 1, 'evidence.': 1, 'then?': 4, 'rests?': 1, 'Try': 1, 'repentance': 1, 'can:': 1, 'repent?': 1, 'state!': 1, 'death!': 1, 'limed': 1, 'struggling': 1, 'free,': 1, 'Art': 1, \"engag'd!\": 1, 'Help,': 2, 'angels!': 1, 'assay:': 1, 'Bow,': 1, 'stubborn': 1, 'knees;': 1, 'strings': 1, 'soft': 2, 'sinews': 1, 'new-born': 1, 'babe!': 1, '[Retires': 1, 'kneels.]': 1, 'pat,': 1, 'praying;': 1, \"do't;--and\": 1, \"reveng'd.--that\": 1, \"scann'd:\": 1, 'kills': 2, 'sole': 1, 'hire': 1, 'salary,': 1, 'grossly,': 1, 'bread;': 1, 'broad': 2, 'blown,': 1, 'flush': 1, 'May;': 1, 'audit': 1, 'knows': 1, 'thought,': 2, \"reveng'd,\": 1, \"season'd\": 1, 'passage?': 1, 'No.': 2, 'Up,': 1, 'hent:': 1, 'drunk': 1, 'asleep;': 1, 'rage;': 1, 'pleasure': 2, 'bed;': 3, 'swearing;': 1, 'salvation': 1, \"in't;--\": 1, 'trip': 1, 'kick': 1, 'whereto': 3, 'goes.': 1, 'stays:': 1, 'physic': 1, 'prolongs': 1, 'sickly': 2, 'days.': 1, 'rises': 2, 'advances.]': 1, 'below:': 1, 'Words': 1, 'Another': 5, 'castle.': 1, 'straight.': 2, 'home': 2, 'Tell': 3, 'pranks': 1, 'with,': 1, \"screen'd\": 1, 'Much': 1, 'heat': 2, 'Mother,': 4, 'mother!': 1, 'not:--withdraw;': 1, 'coming.': 1, '[Polonius': 1, 'arras.]': 2, 'tongue.': 2, 'Go,': 4, 'Hamlet!': 6, 'forgot': 2, 'rood,': 1, 'And,--would': 1, 'so!--you': 1, 'budge;': 1, 'inmost': 1, 'me?--': 1, '[Behind.]': 2, 'help!': 1, 'rat?': 1, '[Draws.]': 1, 'Dead': 1, 'ducat,': 1, 'dead!': 1, '[Makes': 1, 'slain!': 1, '[Falls': 1, 'dies.]': 2, 'done?': 2, 'king?': 2, '[Draws': 1, 'rash': 1, 'bloody': 5, 'deed!--almost': 1, 'bad,': 1, 'word.--': 1, 'wretched,': 1, 'rash,': 2, 'intruding': 1, 'fool,': 1, 'farewell!': 1, 'fortune;': 1, \"find'st\": 1, 'busy': 1, 'danger.--': 1, 'Leave': 2, 'wringing': 1, 'hands:': 1, 'peace!': 1, 'wring': 1, 'penetrable': 1, 'stuff;': 1, \"braz'd\": 1, 'bulwark': 1, 'sense.': 2, \"dar'st\": 1, 'wag': 1, 'noise': 6, 'rude': 2, 'blurs': 1, 'blush': 1, 'modesty;': 1, 'Calls': 1, 'hypocrite;': 1, 'innocent': 1, 'blister': 1, 'marriage-vows': 1, \"dicers'\": 1, 'oaths:': 1, 'contraction': 1, 'plucks': 1, 'religion': 1, 'rhapsody': 1, 'words:': 1, \"heaven's\": 1, 'glow;': 1, 'solidity': 1, 'compound': 1, 'tristful': 1, 'doom,': 1, 'thought-sick': 1, 'Ah': 1, 'roars': 1, 'thunders': 1, 'index?': 1, 'picture,': 1, 'counterfeit': 1, 'presentment': 1, 'brothers.': 1, 'seated': 1, 'brow;': 1, \"Hyperion's\": 1, 'curls;': 1, 'front': 1, 'Mars,': 1, 'threaten': 1, 'herald': 1, 'Mercury': 1, 'New': 1, 'lighted': 1, 'heaven-kissing': 1, 'combination': 1, 'seal,': 2, 'assurance': 2, 'husband.--Look': 1, 'follows:': 1, 'husband,': 1, \"milldew'd\": 1, 'Blasting': 1, 'eyes?': 2, 'mountain': 3, 'feed,': 1, 'batten': 1, 'moor?': 1, 'Ha!': 1, 'hey-day': 1, \"it's\": 2, 'humble,': 1, 'waits': 1, 'judgment:': 1, 'step': 2, 'Sense,': 1, 'Else': 1, 'motion:': 1, 'sense': 7, \"apoplex'd;\": 1, 'err;': 1, 'ecstacy': 1, \"thrall'd\": 1, \"reserv'd\": 1, 'difference.': 1, \"was't\": 1, \"cozen'd\": 1, 'hoodman-blind?': 1, 'Eyes': 1, 'feeling,': 1, 'feeling': 2, 'Ears': 1, 'smelling': 1, 'sans': 1, 'mope.': 1, 'blush?': 1, 'mutine': 1, \"matron's\": 1, 'wax,': 1, 'melt': 1, 'proclaim': 2, 'compulsive': 1, 'ardour': 1, 'charge,': 2, 'frost': 1, 'actively': 1, 'burn,': 1, 'panders': 1, \"turn'st\": 1, 'grained': 1, 'spots': 1, 'tinct.': 1, 'enseamed': 1, \"Stew'd\": 1, 'corruption,': 2, 'honeying': 1, 'making': 2, 'Over': 2, 'nasty': 1, 'sty,--': 1, 'ears;': 1, 'twentieth': 1, 'tithe': 1, 'precedent': 2, 'vice': 3, 'kings;': 1, 'cutpurse': 1, 'rule,': 1, 'shelf': 1, 'precious': 2, 'stole': 2, 'pocket!': 1, 'shreds': 1, 'patches!--': 1, 'Save': 2, 'hover': 1, 'wings,': 1, 'guards!--What': 1, 'figure?': 1, 'mad!': 1, 'chide,': 1, \"laps'd\": 1, 'acting': 1, 'command?': 1, 'say!': 1, 'forget.': 1, 'whet': 1, 'blunted': 1, 'sits:': 1, 'fighting': 2, 'soul,--': 1, 'Conceit': 2, 'weakest': 1, 'strongest': 1, 'works,--': 1, 'lady?': 2, 'vacancy,': 1, 'incorporal': 1, 'discourse?': 1, 'Forth': 1, 'peep;': 1, 'soldiers': 2, 'alarm,': 1, 'bedded': 1, 'hairs,': 1, 'excrements,': 1, 'Start': 1, 'end.': 2, 'flame': 2, 'distemper': 1, 'Sprinkle': 1, 'cool': 1, 'patience!': 1, 'look?': 1, 'glares!': 1, \"conjoin'd,\": 1, 'preaching': 1, 'stones,': 1, 'capable.--Do': 1, 'Lest': 1, 'convert': 1, 'stern': 1, 'effects:': 1, 'colour;': 1, 'blood.': 2, 'Nothing': 2, 'see.': 3, 'steals': 1, \"liv'd!\": 1, 'portal!': 1, 'coinage': 1, 'brain:': 1, 'bodiless': 1, 'creation': 1, 'Ecstasy!': 1, 'pulse,': 1, 'yours,': 1, 'temperately': 1, 'healthful': 1, 'music:': 1, \"utter'd:\": 1, 'test,': 1, 're-word;': 1, 'gambol': 1, 'Lay': 2, 'flattering': 1, 'unction': 2, 'trespass,': 1, 'speaks:': 1, 'skin': 1, 'film': 1, 'ulcerous': 1, 'Whilst': 1, 'mining': 1, 'within,': 1, 'Infects': 1, 'unseen.': 1, 'Confess': 1, 'Repent': 1, 'past;': 1, 'spread': 2, 'compost': 1, 'weeds,': 2, 'ranker.': 1, 'virtue;': 1, 'fatness': 1, 'pursy': 1, 'curb': 2, 'woo': 1, 'cleft': 1, 'twain.': 1, 'worser': 1, 'purer': 1, 'half.': 1, \"uncle's\": 1, 'Assume': 1, 'monster': 1, 'custom,': 1, 'eat,': 1, 'habits': 1, 'evil,': 1, 'likewise': 1, 'frock': 1, 'livery': 2, 'aptly': 1, 'Refrain': 1, 'easiness': 1, 'abstinence:': 1, 'easy;': 1, 'devil,': 1, 'potency.': 1, 'Once': 1, 'good-night:': 1, 'desirous': 1, \"bles'd,\": 1, 'you.--For': 1, '[Pointing': 1, 'repent;': 1, \"pleas'd\": 1, 'punish': 1, 'scourge': 2, 'minister.': 1, 'good-night.--': 1, 'kind:': 1, 'begins,': 1, 'worse': 1, 'behind.--': 1, 'lady.': 1, 'bloat': 1, 'Pinch': 1, 'wanton': 2, 'cheek;': 1, 'mouse;': 1, 'pair': 2, 'reechy': 1, 'kisses,': 1, 'paddling': 1, 'neck': 2, 'fingers,': 1, 'ravel': 1, 'essentially': 1, 'craft.': 1, \"'Twere\": 4, 'sober,': 1, 'wise,': 1, 'paddock,': 1, 'bat,': 1, 'gib,': 1, 'concernings': 1, 'hide?': 1, 'despite': 1, 'secrecy,': 1, 'Unpeg': 1, 'basket': 2, \"house's\": 1, 'top,': 1, 'birds': 1, 'fly,': 1, 'famous': 1, 'ape,': 2, 'conclusions,': 1, 'creep': 1, \"assur'd,\": 1, 'England;': 4, 'Alack,': 3, 'forgot:': 1, 'concluded': 1, \"seal'd:\": 1, 'schoolfellows,--': 1, 'Whom': 1, 'adders': 1, \"fang'd,--\": 1, 'mandate;': 1, 'marshal': 1, 'knavery.': 1, 'work;': 1, 'enginer': 1, 'Hoist': 1, 'petard:': 1, \"'t\": 2, 'delve': 1, 'yard': 1, 'mines': 1, 'blow': 2, 'line': 1, 'crafts': 1, 'meet.--': 1, 'packing:': 1, 'lug': 1, 'guts': 2, 'neighbour': 1, 'room.--': 1, 'good-night.--Indeed,': 1, 'counsellor': 1, 'secret,': 1, 'grave,': 1, 'peating': 1, 'severally;': 1, 'dragging': 1, 'sighs.': 1, 'heaves': 1, 'translate:': 1, 'son?': 1, 'Bestow': 1, 'while.': 1, 'out.]': 1, 'to-night!': 1, 'Gertrude?': 1, 'wind,': 2, 'contend': 1, 'mightier:': 1, 'stir,': 1, 'Whips': 1, 'rapier,': 1, \"'A\": 1, 'rat,': 1, \"rat!'\": 1, 'brainish': 1, 'unseen': 1, 'deed!': 1, 'there:': 1, 'threats': 1, \"answer'd?\": 1, 'laid': 6, 'providence': 2, 'Should': 4, 'short,': 1, \"restrain'd,\": 1, 'haunt': 1, 'fit;': 1, 'owner': 1, 'disease,': 1, 'divulging,': 1, 'gone?': 1, 'apart': 1, \"kill'd:\": 1, 'ore': 1, 'mineral': 1, 'metals': 1, 'base,': 1, 'Shows': 1, 'pure:': 1, 'weeps': 1, 'done.': 2, 'mountains': 1, 'ship': 1, 'hence:': 1, 'skill': 2, 'excuse.--Ho,': 1, 'aid:': 1, 'slain,': 1, \"dragg'd\": 1, 'out;': 1, 'chapel.': 2, 'friends;': 1, 'mean': 2, 'untimely': 1, 'done:': 1, 'slander,--': 1, 'diameter,': 1, 'level': 2, 'blank,': 1, 'Transports': 1, \"poison'd\": 2, 'shot,--may': 1, 'miss': 1, 'name,': 3, 'hit': 2, 'woundless': 1, 'air.--O,': 1, 'discord': 1, 'dismay.': 1, 'Safely': 1, 'stowed.': 1, 'noise?': 1, 'body?': 1, 'Compounded': 1, 'dust,': 1, 'kin.': 1, \"'tis,\": 1, 'thence,': 1, 'what?': 1, 'counsel,': 1, 'own.': 1, 'Besides,': 1, 'demanded': 1, 'sponge!--what': 1, 'replication': 1, 'sponge,': 2, 'soaks': 1, \"King's\": 1, 'countenance,': 1, 'rewards,': 1, 'authorities.': 1, 'officers': 1, 'end:': 1, 'corner': 1, 'jaw;': 1, 'mouthed,': 1, 'swallowed:': 1, 'gleaned,': 1, 'squeezing': 1, 'dry': 2, 'sleeps': 2, 'thing,--': 1, 'Hide': 1, 'fox,': 1, 'after.': 1, 'King,attended.]': 1, 'loose!': 1, \"lov'd\": 4, 'multitude,': 1, 'judgment,': 2, \"offender's\": 1, 'offence.': 1, 'Deliberate': 1, 'diseases': 1, 'appliance': 1, \"reliev'd,\": 1, 'Rosencrantz.]': 1, \"befall'n?\": 1, \"bestow'd,\": 1, 'Without,': 1, 'guarded,': 1, 'pleasure.': 1, 'Ho,': 1, \"where's\": 1, 'supper.': 1, 'supper!': 1, 'where?': 2, 'eats,': 1, 'eaten:': 1, 'convocation': 1, 'politic': 1, 'worms': 1, 'worm': 2, 'emperor': 1, 'diet:': 1, 'creatures': 1, 'maggots:': 1, 'lean': 1, 'beggar': 1, 'service,--two': 1, 'dishes,': 1, 'table:': 1, 'alas!': 1, 'fish': 2, 'worm.': 1, 'progress': 1, 'beggar.': 1, 'heaven:': 1, 'thither': 2, 'messenger': 1, 'nose': 1, 'stairs': 1, 'deed,': 1, 'especial': 1, 'safety,--': 1, 'tender,': 1, 'dearly': 1, 'grieve': 1, 'done,--must': 1, 'quickness:': 1, 'thyself;': 1, 'bark': 1, 'ready,': 1, 'associates': 1, 'tend,': 1, 'everything': 2, 'bent': 1, 'England.': 2, 'England!': 2, 'Good.': 1, \"knew'st\": 1, 'purposes.': 1, 'cherub': 1, 'sees': 1, 'them.--But,': 1, 'England!--': 1, 'wife': 1, 'flesh;': 1, 'mother.--Come,': 1, 'foot;': 1, 'aboard;': 1, 'Delay': 1, 'to-night:': 1, 'Away!': 1, 'leans': 1, 'affair:': 1, 'England,': 2, \"hold'st\": 1, 'aught,--': 1, 'thereof': 1, 'cicatrice': 1, 'raw': 1, 'red': 1, 'After': 2, 'Danish': 4, 'awe': 2, 'Pays': 1, 'homage': 1, 'us,--thou': 1, 'mayst': 1, 'conjuring': 1, 'effect,': 2, 'hectic': 1, 'rages,': 1, 'cure': 1, \"Howe'er\": 1, 'haps,': 1, 'joys': 1, 'begun.': 1, 'Forces': 1, 'marching.]': 1, 'For.': 3, 'Captain,': 1, 'greet': 1, 'license,': 1, 'Craves': 1, 'conveyance': 1, \"promis'd\": 2, 'kingdom.': 2, 'rendezvous.': 1, 'eye;': 1, 'Capt.': 7, 'softly': 1, 'Forces.]': 1, '&c.]': 4, 'these?': 1, \"purpos'd,\": 1, 'Poland.': 1, 'commands': 1, 'Fortinbras.': 2, 'Poland,': 2, 'frontier?': 1, 'Truly': 2, 'addition,': 1, 'gain': 2, 'patch': 2, 'ground': 2, 'name.': 1, 'ducats,': 1, 'five,': 1, 'yield': 2, 'Pole': 1, 'ranker': 1, 'rate,': 1, 'sold': 1, 'fee.': 1, 'Polack': 2, \"garrison'd.\": 1, 'souls': 1, 'twenty': 2, 'debate': 1, 'straw:': 1, 'imposthume': 1, 'wealth': 1, 'peace,': 1, 'breaks,': 1, 'dies.--I': 1, \"Will't\": 1, 'before.': 1, 'occasions': 2, 'spur': 1, 'revenge!': 1, 'market': 1, 'feed?': 1, 'Sure': 1, 'large': 1, 'discourse,': 1, 'Looking': 1, 'capability': 1, 'godlike': 1, 'fust': 1, \"unus'd.\": 1, 'Bestial': 1, 'oblivion,': 1, 'craven': 1, 'scruple': 1, 'precisely': 1, 'event,--': 1, \"quarter'd,\": 1, 'coward,--I': 1, \"thing's\": 1, \"do;'\": 1, 'Sith': 2, 'strength,': 1, \"do't.\": 1, 'Examples,': 1, 'exhort': 1, 'Witness': 1, 'army,': 1, 'mass': 1, 'Led': 1, 'delicate': 2, 'prince;': 1, 'divine': 1, \"puff'd,\": 1, 'invisible': 1, 'event;': 1, 'Exposing': 1, 'unsure': 1, 'dare,': 1, 'egg-shell.': 1, 'Rightly': 1, 'argument,': 1, 'greatly': 1, 'quarrel': 1, 'straw': 1, \"honour's\": 1, 'stake.': 1, \"kill'd,\": 1, \"stain'd,\": 1, 'Excitements': 1, 'sleep?': 1, 'while,': 1, 'shame,': 1, 'imminent': 1, 'fantasy': 1, 'trick': 2, 'fame,': 1, 'beds;': 1, 'fight': 2, 'plot': 1, 'numbers': 1, 'tomb': 1, 'continent': 2, 'slain?--O,': 1, 'forth,': 1, 'worth!': 1, 'Gent.': 3, 'importunate;': 1, 'distract:': 1, 'mood': 1, 'pitied.': 1, 'tricks': 1, 'hems,': 1, 'beats': 1, 'Spurns': 1, 'enviously': 1, 'straws;': 1, 'doubt,': 1, 'sense:': 1, 'unshaped': 1, 'hearers': 1, 'collection;': 1, 'aim': 1, 'botch': 1, 'thoughts;': 1, 'winks,': 1, 'nods,': 1, 'gestures': 1, 'Indeed': 1, 'unhappily.': 1, 'spoken': 1, 'with;': 1, 'strew': 1, 'Dangerous': 1, 'conjectures': 1, 'ill-breeding': 1, 'minds.': 1, \"sin's\": 1, 'Prologue': 1, 'amiss:': 1, 'artless': 1, 'jealousy': 1, 'guilt,': 1, 'spills': 1, 'fearing': 1, 'spilt.': 1, 'beauteous': 1, 'Ophelia?': 2, '[Sings.]': 12, 'one?': 1, 'cockle': 1, 'bat': 1, \"and'\": 1, 'staff': 1, 'sandal': 1, 'shoon.': 1, 'song?': 1, 'Say': 2, 'mark.': 4, 'gone;': 2, 'turf,': 1, 'stone.': 1, 'Ophelia--': 1, 'White': 1, 'shroud': 1, 'Larded': 2, 'flowers;': 1, 'bewept': 1, 'true-love': 1, 'showers.': 1, 'pretty': 1, 'dild': 1, 'you!': 1, 'owl': 1, \"baker's\": 1, 'Lord,': 2, 'are,': 1, 'table!': 1, 'this;': 2, 'ask': 2, 'To-morrow': 2, \"Valentine's\": 1, 'bedtime,': 1, 'window,': 1, 'Valentine.': 1, \"donn'd\": 1, 'clothes,': 1, \"dupp'd\": 1, 'chamber': 1, 'door,': 1, 'maid,': 3, 'departed': 1, 'Pretty': 1, 'la,': 1, \"on't:\": 1, 'Gis': 1, 'Charity,': 1, 'fie': 1, 'Young': 2, \"do't\": 2, \"to't;\": 1, 'blame.': 2, 'Quoth': 1, 'tumbled': 1, 'wed.': 1, \"ha'\": 3, 'sun,': 1, 'thus?': 2, 'patient:': 1, 'cold': 2, 'counsel.--Come,': 1, 'coach!--Good': 1, 'ladies;': 2, 'close;': 1, 'springs': 1, 'death.': 6, 'sorrows': 1, 'spies,': 1, 'battalions!': 1, 'First,': 1, 'slain:': 1, 'Next,': 1, 'remove:': 1, 'people': 1, 'muddied,': 1, 'Thick': 1, 'unwholesome': 1, 'whispers': 1, \"Polonius'\": 1, 'death;': 2, 'greenly': 1, 'hugger-mugger': 1, 'inter': 1, 'Ophelia': 1, 'Divided': 1, 'pictures': 1, 'beasts:': 1, 'Last,': 1, 'containing': 1, 'Feeds': 1, 'wonder,': 2, 'clouds,': 2, 'buzzers': 1, 'infect': 1, 'speeches': 1, 'necessity,': 1, \"beggar'd,\": 1, 'stick': 1, 'arraign': 1, 'murdering': 1, 'piece,': 1, 'places': 1, 'Give,': 1, 'superfluous': 1, 'Switzers?': 1, 'guard': 1, 'door.': 1, 'Gentleman.]': 1, 'ocean,': 1, 'overpeering': 1, 'Eats': 1, 'flats': 1, 'impetuous': 1, 'riotous': 1, \"O'erbears\": 1, 'offices.': 1, 'rabble': 1, 'Antiquity': 1, 'forgot,': 1, 'known,': 1, 'ratifiers': 1, 'props': 1, \"'Choose\": 1, 'we!': 1, \"king!'\": 2, 'Caps,': 1, 'tongues': 2, 'applaud': 1, \"'Laertes\": 1, 'cry!': 1, 'counter,': 1, 'dogs!': 1, 'broke.': 1, 'armed;': 1, 'Danes': 1, 'following.]': 1, 'king?--Sirs,': 1, 'without.': 1, 'Danes.': 3, '[They': 5, 'retire': 1, 'door.]': 1, 'you:--keep': 1, 'door.--O': 1, 'Calmly,': 1, 'Laertes.': 3, 'drop': 1, 'calm': 2, 'bastard;': 1, 'Cries': 1, 'cuckold': 1, 'brands': 1, 'harlot': 1, 'unsmirched': 1, 'rebellion': 1, 'giant-like?--': 1, 'Gertrude;': 2, 'person:': 1, 'divinity': 2, 'hedge': 1, 'peep': 1, 'would,': 1, 'Acts': 1, 'will.--Tell': 1, \"incens'd.--Let\": 1, 'Gertrude:--': 1, 'Speak,': 1, 'Dead.': 1, 'fill.': 1, 'dead?': 1, 'juggled': 1, 'with:': 1, 'allegiance!': 1, 'blackest': 1, 'devil!': 1, 'Conscience': 1, 'profoundest': 1, 'pit!': 1, 'damnation:--to': 1, 'stand,--': 1, 'worlds,': 1, 'negligence,': 1, 'comes;': 1, \"reveng'd\": 1, 'throughly': 1, 'certainty': 1, 'sweepstake,': 1, 'foe,': 1, 'Winner': 1, 'loser?': 1, 'enemies.': 1, 'ope': 1, 'arms;': 1, 'life-rendering': 1, 'pelican,': 1, 'Repast': 1, 'child': 1, 'guiltless': 1, 'sensibly': 1, 'pierce': 1, '[Within]': 1, 'fantastically': 1, 'dressed': 1, 'straws': 1, 'flowers.]': 2, 'heat,': 1, 'brains!': 1, 'seven': 1, 'salt,': 1, 'Burn': 1, 'eye!--': 1, 'weight,': 1, 'beam.': 1, 'May!': 1, 'Dear': 1, 'Ophelia!--': 1, 'possible': 2, \"maid's\": 1, 'wits': 2, 'life?': 1, 'Nature': 1, 'fine': 6, 'instance': 1, 'bore': 4, \"barefac'd\": 1, 'bier': 1, 'Hey': 1, 'nonny,': 2, 'hey': 1, 'nonny': 1, \"rain'd\": 1, 'tear.--': 1, 'dove!': 1, 'Hadst': 1, 'wits,': 1, 'persuade': 1, 'sing': 4, \"'Down\": 1, 'a-down,': 1, \"a-down-a.'\": 1, 'wheel': 1, 'becomes': 2, 'steward,': 1, \"master's\": 1, \"nothing's\": 1, 'rosemary,': 1, 'remembrance;': 1, 'pray,': 1, 'remember:': 1, 'pansies,': 1, 'document': 1, 'madness,--thoughts': 1, 'fitted.': 1, 'fennel': 1, \"columbines:--there's\": 1, 'rue': 2, 'me:--we': 1, 'herb': 1, 'Sundays:--O,': 1, \"difference.--There's\": 1, 'daisy:--I': 1, 'violets,': 1, \"wither'd\": 1, 'died:--they': 1, 'end,--': 2, 'bonny': 1, 'Robin': 1, 'Thought': 1, 'affliction,': 1, 'turns': 1, 'prettiness.': 1, 'again?': 2, 'death-bed,': 1, 'flaxen': 1, 'poll:': 1, 'moan:': 1, 'Christian': 4, 'God.--God': 1, 'ye.': 1, 'commune': 1, 'right.': 2, 'apart,': 1, 'collateral': 1, \"touch'd,\": 1, 'give,': 1, 'satisfaction;': 1, 'patience': 3, 'jointly': 1, 'labour': 1, 'due': 1, 'content.': 1, 'obscure': 1, 'burial,--': 1, 'trophy,': 1, 'hatchment': 1, 'rite': 1, 'formal': 1, 'ostentation,--': 1, 'Cry': 1, \"call't\": 1, 'shall;': 1, 'axe': 1, 'fall.': 1, 'VI.': 1, 'Servant.]': 2, 'Servant.': 1, 'greeted,': 1, 'Sailors.]': 1, 'Sailor.': 2, \"an't\": 1, 'letter': 1, 'sir,--it': 1, 'ambassador': 1, \"'Horatio,\": 1, 'overlooked': 1, 'pirate': 1, 'appointment': 1, 'chase.': 1, 'Finding': 1, 'compelled': 1, 'valour,': 1, 'grapple': 1, 'boarded': 1, 'clear': 1, 'ship;': 1, 'became': 1, 'prisoner.': 1, 'dealt': 1, 'thieves': 1, 'mercy:': 1, 'sent;': 1, 'repair': 2, 'am.': 1, 'England:': 1, 'knowest': 1, 'letters;': 1, 'speedier,': 1, 'VII.': 1, 'Laertes.]': 2, 'acquittance': 1, 'friend,': 1, 'knowing': 1, 'slain': 1, \"Pursu'd\": 1, 'appears:--but': 1, 'proceeded': 1, 'feats,': 1, 'crimeful': 1, 'safety,': 1, 'wisdom,': 1, 'else,': 1, 'mainly': 1, \"stirr'd\": 1, 'reasons;': 1, 'perhaps,': 1, \"unsinew'd,\": 1, 'strong.': 1, 'Lives': 1, 'plague,': 1, 'which,--': 1, \"She's\": 1, 'conjunctive': 1, 'moves': 2, 'sphere,': 1, 'gender': 1, 'dipping': 1, 'Would,': 1, 'turneth': 1, 'wood': 1, 'stone,': 1, 'Convert': 1, 'gyves': 1, 'graces;': 1, 'arrows,': 1, 'slightly': 1, \"timber'd\": 1, 'loud': 1, 'reverted': 1, \"aim'd\": 1, 'lost;': 1, 'sister': 2, 'driven': 1, 'terms,--': 1, 'praises': 1, 'Stood': 1, 'challenger': 1, 'mount': 1, 'perfections:--but': 1, 'that:--you': 1, 'flat': 2, 'shook': 1, 'danger,': 1, 'pastime.': 1, 'ourself;': 1, 'imagine,--': 1, 'Messenger.]': 2, 'Mess.': 2, 'Letters,': 1, 'majesty;': 1, 'say;': 1, 'Claudio:--he': 1, \"receiv'd\": 1, \"[Reads]'High\": 1, 'mighty,--You': 1, 'naked': 1, 'kingly': 1, 'eyes:': 1, 'asking': 1, 'thereunto,': 1, 'recount': 1, 'mean?': 1, 'back?': 1, 'abuse,': 1, 'thing?': 1, 'Know': 1, 'hand?': 1, \"character:--'Naked!'--\": 1, 'postscript': 1, \"'alone.'\": 1, 'advise': 1, 'warms': 1, 'sickness': 1, 'teeth,': 1, \"'Thus\": 1, 'didest': 1, \"thou.'\": 1, 'Laertes,--': 1, 'otherwise?--': 1, \"rul'd\": 1, \"o'errule\": 1, \"return'd--\": 1, 'checking': 1, 'voyage,': 1, 'undertake': 2, 'it,--I': 1, 'exploit,': 1, 'ripe': 1, 'device,': 1, 'Under': 2, 'fall:': 1, 'breathe;': 1, 'uncharge': 1, 'practice': 2, 'devise': 1, 'organ.': 1, 'travel': 1, 'hearing,': 2, 'shine:': 1, 'sum': 1, 'envy': 2, 'unworthiest': 1, 'siege.': 1, 'riband': 1, 'careless': 1, 'settled': 1, 'sables': 1, 'graveness.--Two': 1, 'since,': 2, 'gentleman': 4, 'Normandy,--': 1, \"I've\": 1, \"serv'd\": 1, 'against,': 1, 'French,': 1, 'horseback:': 1, 'gallant': 1, \"in't:\": 1, 'grew': 1, 'seat;': 1, 'doing': 1, 'horse,': 1, \"incorps'd\": 1, \"demi-natur'd\": 1, 'beast:': 1, \"topp'd\": 1, 'forgery': 1, 'shapes': 2, 'tricks,': 1, 'did.': 1, 'Norman': 1, \"was't?\": 1, 'Norman.': 1, 'Lamond.': 1, 'same.': 1, 'brooch': 1, 'gem': 1, 'nation.': 1, 'masterly': 1, 'defence,': 1, 'rapier': 1, 'especially,': 1, \"'twould\": 1, 'sight': 3, 'match': 1, 'scrimers': 1, 'swore,': 1, 'guard,': 1, \"oppos'd\": 1, 'envenom': 1, \"o'er,\": 1, 'painting': 1, 'sorrow,': 1, 'begun': 2, 'passages': 1, 'proof,': 1, 'Time': 1, 'qualifies': 1, 'spark': 1, 'wick': 1, 'snuff': 1, 'abate': 1, 'goodness': 1, 'goodness,': 1, 'growing': 1, 'plurisy,': 1, 'much:': 1, 'would;': 1, \"'would'\": 1, 'changes,': 1, 'abatements': 1, 'delays': 1, 'tongues,': 1, 'accidents;': 1, \"'should'\": 1, 'spendthrift': 1, 'hurts': 1, 'easing.': 1, 'ulcer:--': 1, 'back:': 1, 'words?': 1, 'cut': 1, 'church.': 1, 'sanctuarize;': 1, 'bounds.': 1, 'close': 1, 'chamber.': 1, 'praise': 1, 'excellence': 2, 'varnish': 1, 'fame': 1, 'Frenchman': 1, 'wager': 4, 'heads:': 2, 'remiss,': 1, 'generous,': 1, 'contriving,': 1, 'peruse': 1, 'foils;': 2, 'shuffling,': 1, 'unbated,': 1, 'practice,': 1, 'Requite': 1, \"do't:\": 1, 'anoint': 1, 'bought': 1, 'mountebank,': 1, 'dip': 1, 'knife': 1, 'cataplasm': 1, 'rare,': 1, 'Collected': 1, 'simples': 1, \"scratch'd\": 1, 'withal:': 1, 'contagion,': 1, 'slightly,': 1, 'Weigh': 1, 'convenience': 1, 'shape:': 1, 'fail,': 1, 'performance.': 1, \"assay'd:\": 1, 'project': 1, 'second,': 1, 'cunnings,--': 1, \"ha't:\": 1, 'motion': 1, 'dry,--': 1, 'bouts': 1, \"prepar'd\": 1, 'chalice': 1, 'nonce;': 1, 'whereon': 1, 'sipping,': 1, 'chance': 1, \"venom'd\": 1, 'stuck,': 1, 'queen!': 1, 'tread': 1, \"another's\": 1, 'heel,': 1, 'fast': 1, 'follow:--your': 1, \"sister's\": 1, \"drown'd,\": 1, \"Drown'd!\": 1, 'willow': 1, 'aslant': 1, 'brook,': 1, 'hoar': 1, 'glassy': 1, 'stream;': 1, 'fantastic': 1, 'garlands': 1, 'crowflowers,': 1, 'nettles,': 1, 'daisies,': 1, 'purples,': 1, 'liberal': 3, 'shepherds': 1, 'grosser': 1, 'maids': 1, 'pendant': 1, 'boughs': 1, 'coronet': 1, \"Clamb'ring\": 1, 'hang,': 1, 'envious': 1, 'sliver': 1, 'broke;': 1, 'weedy': 1, 'trophies': 1, 'weeping': 1, 'brook.': 1, 'clothes': 1, 'mermaid-like,': 1, 'chaunted': 1, 'snatches': 1, 'tunes;': 1, 'incapable': 1, 'distress,': 1, \"indu'd\": 1, 'element:': 1, 'garments,': 1, \"Pull'd\": 1, 'melodious': 1, 'muddy': 1, \"drown'd?\": 1, \"Drown'd,\": 1, \"drown'd.\": 1, 'water': 5, 'tears:': 1, 'trick;': 1, 'holds,': 1, 'out.--Adieu,': 1, 'blaze,': 1, 'folly': 1, 'douts': 1, 'rage!': 1, 'follow.': 1, 'churchyard.': 1, 'spades,': 1, 'Clown.': 45, 'burial': 1, 'wilfully': 1, 'seeks': 1, 'salvation?': 1, '2': 12, 'crowner': 1, 'sat': 2, 'burial.': 3, 'drowned': 2, 'defence?': 1, 'se': 1, 'offendendo;': 1, 'else.': 1, 'point:': 1, 'wittingly,': 1, 'argues': 1, 'act:': 1, 'branches;': 1, 'perform:': 1, 'argal,': 3, 'wittingly.': 1, 'goodman': 1, 'delver,--': 1, 'water;': 1, 'good:': 2, 'nill': 1, 'goes,--mark': 1, 'that:': 2, 'drowns': 1, 'shortens': 1, 'law?': 1, \"is't--crowner's\": 1, 'quest': 1, 'gentlewoman,': 1, \"say'st:\": 1, 'folk': 1, 'Christian.--Come,': 1, 'spade.': 1, 'ancient': 1, 'gardeners,': 1, 'ditchers,': 1, 'grave-makers:': 1, \"Adam's\": 1, 'profession.': 1, 'gentleman?': 2, 'arms.': 1, 'none.': 1, 'heathen?': 1, 'Scripture?': 1, 'Scripture': 1, 'Adam': 1, \"digg'd:\": 1, 'dig': 2, 'arms?': 1, 'answerest': 1, 'thyself,--': 1, 'builds': 2, 'mason,': 2, 'shipwright,': 2, 'carpenter?': 2, 'gallows-maker;': 1, 'frame': 1, 'outlives': 1, 'tenants.': 1, 'faith:': 1, 'gallows': 3, 'ill:': 1, 'built': 1, 'church;': 1, \"To't\": 1, 'unyoke.': 1, 'tell.': 2, \"To't.\": 1, 'Mass,': 1, 'distance.]': 1, 'Cudgel': 1, 'mend': 1, 'pace': 1, 'beating;': 1, 'asked': 1, 'next,': 1, \"'a\": 2, \"grave-maker;'\": 1, 'houses': 1, 'doomsday.': 1, 'Yaughan;': 1, 'stoup': 1, 'liquor.': 1, 'Second': 1, 'Clown.]': 1, '[Digs': 1, 'sings.]': 1, 'Methought': 1, 'sweet;': 1, 'contract,': 1, 'ah,': 1, 'behove,': 1, 'meet.': 3, 'Has': 1, 'business,': 1, 'sings': 1, 'grave-making?': 1, 'Custom': 1, 'easiness.': 1, 'employment': 1, 'daintier': 1, 'stealing': 1, 'steps,': 1, \"claw'd\": 1, 'clutch,': 1, \"shipp'd\": 1, 'land,': 3, 'such.': 1, '[Throws': 3, 'skull.]': 3, 'skull': 4, 'once:': 1, 'knave': 3, 'jowls': 1, 'ground,as': 1, \"Cain's\": 1, 'jawbone,': 1, 'murder!': 1, 'politician,': 1, \"o'erreaches;\": 1, 'circumvent': 1, 'might,': 1, 'morrow,': 1, \"lord?'\": 1, 'such-a-one,': 1, 'praised': 1, \"such-a-one's\": 1, 'horse': 1, 'it,--might': 1, 'Lady': 1, \"Worm's;\": 1, 'chapless,': 1, 'knocked': 1, 'mazard': 1, \"sexton's\": 1, 'spade:': 1, 'revolution,': 1, \"see't.\": 1, 'bones': 1, 'breeding': 1, 'loggets': 1, 'ache': 1, \"on't.\": 1, 'pickaxe': 1, 'spade,': 2, 'shrouding': 1, 'sheet;': 1, 'pit': 2, 'clay': 2, 'guest': 2, 'skull].': 1, 'lawyer?': 1, 'quiddits': 1, 'quillets,': 1, 'cases,': 1, 'tenures,': 1, 'tricks?': 1, 'knock': 1, 'sconce': 1, 'dirty': 1, 'shovel,': 1, 'battery?': 1, 'Hum!': 1, 'buyer': 1, 'statutes,': 1, 'recognizances,': 1, 'fines,': 2, 'vouchers,': 1, 'recoveries:': 1, 'recovery': 1, 'recoveries,': 1, 'dirt?': 1, 'vouchers': 1, 'vouch': 1, 'purchases,': 1, 'breadth': 1, 'indentures?': 1, 'conveyances': 1, 'box;': 1, 'inheritor': 1, 'jot': 1, 'parchment': 1, 'sheep-skins?': 1, 'calf-skins': 1, 'sheep': 1, 'calves': 1, 'fellow.--Whose': 1, \"grave's\": 1, 'Mine,': 1, 'liest': 2, \"in't.\": 1, \"on't,\": 1, 'yours:': 1, \"in't,\": 2, \"in't\": 1, 'thine:': 1, 'quick;': 1, 'liest.': 1, 'lie,': 2, 'neither.': 1, 'woman,': 1, \"she's\": 1, 'absolute': 2, 'is!': 2, 'card,': 1, 'equivocation': 1, 'undo': 1, 'years': 1, 'taken': 1, 'toe': 1, 'heel': 1, 'courtier': 1, 'kibe.--How': 1, 'grave-maker?': 1, 'year,': 1, 'overcame': 1, 'since?': 1, 'Cannot': 1, 'born,--he': 1, 'England?': 1, 'because': 1, 'or,': 1, 'Why?': 1, \"'Twill\": 1, 'he.': 1, 'strangely,': 1, 'say.': 1, 'strangely?': 1, 'losing': 1, 'wits.': 1, 'ground?': 1, 'sexton': 1, 'boy,': 1, 'years.': 2, 'rot?': 1, 'die,--as': 1, 'pocky': 1, 'corses': 1, 'now-a-days': 1, 'in,--he': 1, 'eight': 1, 'nine': 2, 'tanner': 1, 'another?': 1, \"tann'd\": 1, 'while;': 1, 'decayer': 1, 'whoreson': 1, \"Here's\": 4, 'lain': 1, 'three-and-twenty': 1, 'whoreson,': 1, \"fellow's\": 1, 'was:': 1, 'was?': 1, 'pestilence': 1, 'rogue!': 1, \"pour'd\": 1, 'flagon': 1, 'skull,': 2, \"Yorick's\": 1, 'jester.': 1, 'This?': 1, \"E'en\": 3, '[Takes': 1, 'Yorick!--I': 1, 'Horatio;': 2, 'fancy:': 1, 'times;': 1, 'abhorred': 1, 'gorge': 1, 'hung': 1, 'lips': 1, \"kiss'd\": 1, 'oft.': 1, 'gibes': 1, 'gambols?': 1, 'songs?': 1, 'flashes': 1, 'merriment,': 1, 'roar?': 1, 'grinning?': 1, 'chap-fallen?': 1, \"lady's\": 1, 'paint': 1, 'inch': 1, 'thick,': 1, \"that.--Pr'ythee,\": 1, 'thing.': 1, 'Alexander': 5, 'looked': 1, 'earth?': 1, 'smelt': 1, 'Pah!': 1, 'return,': 1, 'trace': 2, 'dust': 3, 'stopping': 1, 'bung-hole?': 1, 'consider': 2, 'curiously': 1, 'jot;': 1, 'enough,': 1, 'likelihood': 1, 'thus:': 1, 'died,': 1, 'buried,': 1, 'returneth': 1, 'dust;': 1, 'earth;': 1, 'loam;': 1, 'loam': 1, 'beer-barrel?': 1, 'Imperious': 1, 'Caesar,': 1, 'clay,': 1, 'Might': 1, 'hole': 1, 'wall': 1, \"winter's\": 1, 'flaw!': 1, 'aside!--Here': 1, 'priests,': 1, '&c,': 1, 'procession;': 1, 'corpse': 1, 'Mourners': 1, 'following;': 1, 'Trains,': 1, 'courtiers:': 1, 'follow?': 1, 'maimed': 1, 'rites?': 1, 'betoken': 1, 'Fordo': 1, 'life:': 1, 'Couch': 1, '[Retiring': 1, 'ceremony': 2, 'youth:': 1, 'obsequies': 1, \"enlarg'd\": 1, 'warranties:': 1, 'doubtful;': 1, \"o'ersways\": 1, 'order,': 1, 'unsanctified': 1, \"lodg'd\": 1, 'trumpet;': 1, 'charitable': 1, 'Shards,': 1, 'flints,': 1, 'pebbles': 1, 'thrown': 1, 'allowed': 1, 'virgin': 1, 'rites,': 1, 'strewments,': 1, 'bringing': 1, 'done;': 1, 'profane': 1, 'requiem': 1, 'peace-parted': 1, 'souls.': 1, 'earth;--': 1, 'unpolluted': 1, 'violets': 1, 'spring!--I': 1, 'churlish': 1, 'priest,': 1, 'ministering': 1, 'howling.': 1, 'Sweets': 1, 'sweet:': 1, '[Scattering': 1, \"hop'd\": 1, 'bride-bed': 1, \"deck'd,\": 1, \"strew'd\": 1, 'grave.': 1, 'treble': 2, 'Fall': 1, 'ingenious': 1, \"Depriv'd\": 1, 'of!--Hold': 1, 'arms:': 1, '[Leaps': 2, 'grave.]': 3, 'pile': 1, \"o'ertop\": 1, 'Pelion': 1, 'skyish': 1, 'blue': 1, 'Olympus.': 1, '[Advancing.]': 1, 'Bears': 1, 'emphasis?': 1, 'Conjures': 1, 'wandering': 1, 'wonder-wounded': 1, 'hearers?': 1, '[Grappling': 1, 'him.]': 1, \"pray'st\": 1, 'throat;': 1, 'For,': 1, 'splenetive': 1, 'dangerous,': 1, 'wiseness': 1, 'hand!': 1, 'Pluck': 1, 'asunder.': 1, 'Gentlemen!--': 1, 'quiet.': 1, 'Attendants': 2, 'Until': 1, 'eyelids': 1, 'wag.': 1, 'theme?': 1, 'forty': 1, 'brothers': 1, 'sum.--What': 1, 'forbear': 1, \"thou'lt\": 2, \"Woul't\": 2, 'weep?': 1, \"woul't\": 3, 'fight?': 1, 'thyself?': 1, 'eisel?': 1, 'crocodile?': 1, \"do't.--Dost\": 1, 'whine?': 1, 'outface': 1, 'leaping': 1, 'I:': 1, 'prate': 1, 'mountains,': 1, 'Millions': 1, 'acres': 1, 'Singeing': 1, 'zone,': 1, 'Ossa': 1, 'wart!': 1, 'rant': 1, 'thou.': 1, 'madness:': 2, 'Anon,': 1, 'female': 1, 'dove,': 1, 'couplets': 1, \"disclos'd,\": 1, 'drooping.': 1, 'Hear': 1, 'ever:': 1, 'matter;': 1, 'may,': 1, 'cat': 1, 'mew,': 1, 'dog': 1, 'day.': 1, 'him.--': 2, 'Laertes]': 1, 'Strengthen': 1, \"night's\": 1, 'push.--': 1, 'son.--': 1, 'monument:': 1, 'see;': 1, 'proceeding': 1, 'circumstance?': 1, 'Worse': 1, 'mutinies': 1, 'bilboes.': 1, 'Rashly,': 1, \"prais'd\": 1, 'rashness': 1, 'it,--let': 1, 'indiscretion': 1, 'plots': 2, 'fail;': 1, 'ends,': 1, 'Rough-hew': 1, 'certain.': 1, 'Up': 1, 'cabin,': 1, 'sea-gown': 1, \"scarf'd\": 1, 'dark': 1, \"Grop'd\": 1, 'desire;': 1, \"Finger'd\": 1, 'packet;': 1, 'withdrew': 1, 'again:': 2, 'forgetting': 1, 'manners,': 1, 'unseal': 1, 'grand': 1, 'commission;': 2, 'found,': 1, 'knavery!': 1, 'command,--': 1, 'several': 1, 'sorts': 1, 'reasons,': 1, 'health,': 1, \"England's\": 1, 'With,': 1, 'bugs': 1, 'goblins': 1, 'life,--': 1, 'supervise,': 1, 'bated,': 1, 'grinding': 1, 'axe,': 1, 'commission:': 1, 'leisure.': 1, 'proceed?': 1, 'benetted': 1, 'villanies,--': 1, 'brains,': 1, 'play,--I': 1, \"Devis'd\": 1, 'wrote': 1, 'fair:': 1, 'statists': 1, 'baseness': 1, 'write': 1, \"labour'd\": 1, 'learning;': 1, \"yeoman's\": 1, 'Wilt': 1, 'wrote?': 1, 'earnest': 1, 'conjuration': 1, 'king,--': 1, 'tributary;': 1, 'flourish;': 1, 'peace': 2, 'wheaten': 1, 'garland': 1, 'comma': 1, \"'tween\": 1, 'amities;': 1, 'such-like': 1, \"as's\": 1, 'charge,--': 1, 'contents,': 1, 'debatement': 1, 'further,': 1, 'less,': 2, 'shriving-time': 1, \"allow'd.\": 1, \"seal'd?\": 1, 'ordinant.': 1, 'signet': 1, 'purse,': 1, 'model': 1, 'seal:': 1, 'Folded': 1, \"Subscrib'd\": 1, \"gave't\": 1, 'impression;': 1, \"plac'd\": 1, 'safely,': 1, 'changeling': 1, 'known.': 1, 'sea-fight;': 1, 'sequent': 1, 'employment;': 1, 'conscience;': 1, 'insinuation': 1, 'grow:': 1, 'incensed': 1, 'points': 1, 'mighty': 1, 'opposites.': 1, \"thinks't\": 1, 'upon,--': 1, \"whor'd\": 1, 'mother;': 1, \"Popp'd\": 1, 'hopes;': 1, 'Thrown': 1, 'angle': 1, \"cozenage--is't\": 1, 'perfect': 1, 'quit': 2, 'arm?': 1, 'evil?': 1, 'short:': 1, 'interim': 1, 'One.': 2, 'sorry,': 1, 'myself;': 1, 'portraiture': 1, 'his:': 1, 'favours:': 1, 'bravery': 1, 'towering': 1, 'passion.': 1, 'Peace;': 1, 'Osric.]': 2, 'Osr.': 25, 'lordship': 4, 'water-fly?': 1, 'gracious;': 1, 'fertile:': 1, 'beasts,': 1, 'crib': 1, 'mess;': 1, 'chough;': 1, 'spacious': 1, 'possession': 1, 'dirt.': 1, 'leisure,': 1, 'diligence': 1, 'spirit.': 1, 'bonnet': 1, 'use;': 1, 'lordship,': 1, \"t'is\": 1, 'hot.': 1, 'cold;': 1, 'northerly.': 1, 'sultry': 1, 'complexion.': 1, 'Exceedingly,': 1, 'sultry,--as': 1, \"'twere--I\": 1, 'how.': 1, 'bade': 1, 'matter,--': 1, 'remember,--': 1, '[Hamlet': 1, 'hat.]': 1, 'newly': 1, 'gentleman,': 1, 'differences,': 1, 'society': 1, 'showing:': 1, 'feelingly': 1, 'card': 1, 'calendar': 1, 'gentry;': 1, 'definement': 1, 'perdition': 1, 'you;--though,': 1, 'inventorially': 1, 'dizzy': 1, 'arithmetic': 1, 'yaw': 1, 'sail.': 1, 'verity': 1, 'extolment,': 1, 'article,': 1, 'infusion': 1, 'dearth': 1, 'rareness': 1, 'as,': 1, 'diction': 1, 'semblable': 1, 'mirror,': 1, 'umbrage,': 1, 'infallibly': 1, 'concernancy,': 1, 'wrap': 1, 'rawer': 1, 'breath?': 1, 'Sir?': 1, 'tongue?': 1, 'really.': 1, 'nomination': 1, 'empty': 1, 'already;': 1, \"all's\": 2, 'spent.': 1, 'ignorant,--': 1, 'did,': 2, 'me.--Well,': 1, 'ignorant': 1, 'is,--': 1, 'compare': 1, 'excellence;': 1, 'weapon;': 1, 'imputation': 1, 'meed': 1, 'unfellowed.': 1, 'weapon?': 1, 'Rapier': 1, 'dagger.': 1, 'weapons:--but': 1, \"wager'd\": 1, 'six': 4, 'Barbary': 2, 'horses:': 1, 'imponed,': 2, 'poniards,': 1, 'assigns,': 2, 'girdle,': 1, 'hangers,': 1, 'carriages,': 3, 'fancy,': 1, 'responsive': 1, 'hilts,': 1, 'conceit.': 1, 'carriages?': 1, 'edified': 1, 'margent': 1, 'hangers.': 1, 'german': 1, 'sides.': 1, 'hangers': 1, 'then.': 1, 'horses': 1, 'swords,': 1, 'conceited': 1, 'carriages:': 1, 'bet': 1, 'Danish:': 1, 'passes': 1, 'exceed': 1, 'hits:': 1, 'nine;': 1, 'trial': 1, 'no?': 1, 'opposition': 1, 'trial.': 1, 'hall:': 2, 'breathing': 1, 'foils': 3, 'brought,': 1, 'win': 2, 'can;': 1, 'hits.': 1, 're-deliver': 1, 'lordship.': 1, 'Yours,': 1, 'turn.': 1, 'lapwing': 1, 'shell': 1, 'dug': 1, 'he,--and': 1, 'bevy': 1, 'drossy': 1, 'dotes': 1, 'encounter;': 1, 'yesty': 1, 'collection,': 1, 'carries': 1, 'fanned': 1, 'winnowed': 1, 'opinions;': 1, 'trial,': 1, 'bubbles': 1, 'Lord.]': 2, 'Lord.': 3, 'commended': 1, 'brings': 1, 'attend': 1, 'constant': 1, 'purposes;': 1, 'pleasure:': 1, 'fitness': 1, 'speaks,': 1, 'ready;': 1, 'whensoever,': 1, 'provided': 1, 'able': 1, 'instructs': 1, 'wager,': 1, 'continual': 1, 'practice:': 1, 'odds.': 2, 'foolery;': 1, 'gain-giving': 1, 'woman.': 1, 'dislike': 1, 'anything,': 1, 'forestall': 1, 'fit.': 1, 'whit,': 1, 'defy': 1, 'augury:': 1, 'sparrow.': 1, 'readiness': 1, 'all:': 1, 'leaves,': 1, 'betimes?': 1, \"Laertes'\": 1, \"Hamlet's.]\": 1, 'pardon,': 1, 'wrong:': 1, \"pardon't,\": 1, \"punish'd\": 1, 'distraction.': 1, 'honour,': 1, 'exception': 1, 'Roughly': 1, 'awake,': 1, \"Was't\": 1, \"wrong'd\": 1, 'denies': 1, 'faction': 1, \"wrong'd;\": 1, 'audience,': 1, 'disclaiming': 1, \"purpos'd\": 1, 'evil': 1, 'arrow': 1, 'hurt': 1, 'satisfied': 1, 'aloof;': 1, 'reconcilement': 1, 'elder': 1, 'masters': 1, \"ungor'd.\": 1, \"offer'd\": 1, 'embrace': 2, 'freely;': 1, 'play.--': 1, 'foil,': 1, 'ignorance': 1, 'darkest': 1, 'Stick': 1, 'hand.': 1, 'foils,': 1, 'Osric.': 1, 'Cousin': 1, 'wager?': 1, 'odds': 1, 'weaker': 1, 'side.': 1, 'both;': 1, \"better'd,\": 1, 'heavy,': 1, 'another.': 1, 'length?': 1, 'play.]': 4, 'stoups': 1, 'wine': 1, 'table,--': 1, 'hit,': 2, 'exchange,': 1, 'battlements': 1, 'breath;': 1, 'cup': 1, 'union': 2, 'throw,': 1, 'Richer': 1, 'successive': 1, 'kings': 1, 'crown': 1, 'worn.': 1, 'cups;': 1, 'kettle': 1, 'cannoneer': 1, 'without,': 1, 'cannons': 1, \"'Now\": 1, \"Hamlet.'--Come,\": 1, 'begin:--': 1, 'judges,': 1, 'Judgment!': 1, 'palpable': 1, 'hit.': 1, 'Well;--again.': 1, 'Stay,': 1, 'drink.--Hamlet,': 1, 'pearl': 1, 'thine;': 1, 'health.--': 1, 'cup.': 1, 'bout': 1, 'awhile.--': 1, 'Come.--Another': 1, 'hit;': 1, 'touch,': 2, 'confess.': 1, 'win.': 1, 'fat,': 1, 'scant': 1, 'breath.--': 1, 'napkin,': 1, 'rub': 1, 'brows:': 1, 'carouses': 1, 'drink.': 1, 'cup;': 2, 'late.': 1, 'madam;': 1, 'by-and-by.': 1, 'face.': 1, \"think't.\": 1, 'conscience.': 1, 'third,': 1, 'Laertes:': 1, 'dally;': 1, 'violence:': 1, 'afeard': 1, 'Nothing,': 1, 'way.': 1, '[Laertes': 2, 'wounds': 2, 'scuffling,': 1, 'rapiers,': 1, 'Part': 1, \"incens'd.\": 1, 'falls.]': 2, 'bleed': 1, 'sides.--How': 1, 'woodcock': 1, 'springe,': 1, 'Osric;': 1, 'treachery.': 1, 'Queen?': 1, 'swoons': 1, 'bleed.': 1, 'drink!--O': 1, 'Hamlet!--': 1, 'drink!--I': 1, \"poison'd.\": 1, '[Dies.]': 3, 'villany!--Ho!': 1, \"lock'd:\": 1, 'Treachery!': 1, 'slain;': 1, 'medicine': 1, 'treacherous': 1, 'Unbated': 1, \"envenom'd:\": 1, 'rise': 1, \"poison'd:\": 1, 'more:--the': 1, \"envenom'd\": 1, 'too!--': 1, 'Then,': 1, 'venom,': 1, '[Stabs': 1, 'Osric': 1, 'Lords.': 1, 'Treason!': 1, 'treason!': 1, 'hurt.': 1, 'murderous,': 1, 'Drink': 1, 'potion.--Is': 1, '[King': 1, \"serv'd;\": 1, \"temper'd\": 1, 'himself.--': 1, 'Exchange': 1, 'forgiveness': 1, 'thee.--': 1, 'Horatio.--Wretched': 1, 'adieu!--': 1, 'chance,': 1, 'mutes': 1, 'time,--as': 1, 'sergeant,': 1, 'arrest,--O,': 1, 'be.--Horatio,': 1, 'dead;': 1, \"liv'st;\": 1, 'aright': 1, 'unsatisfied.': 1, 'Dane.--': 1, 'liquor': 1, 'left.': 1, \"thou'rt\": 1, \"have't.--\": 1, 'wounded': 1, 'Things': 1, 'standing': 1, 'Absent': 1, 'felicity': 1, 'harsh': 1, 'pain,': 1, 'story.--': 1, '[March': 2, 'afar': 1, 'conquest': 1, 'volley.': 1, \"o'er-crows\": 1, 'spirit:': 1, 'lights': 1, 'Fortinbras:': 1, 'dying': 1, 'voice;': 1, 'occurrents,': 1, 'solicited.--the': 1, 'silence.': 1, 'cracks': 1, 'heart.--Good': 1, 'flights': 1, 'angels': 1, 'drum': 1, 'Ambassadors,': 1, 'Fort.': 4, 'sight?': 1, 'see?': 1, 'search.': 1, 'quarry': 1, 'havoc.--O': 1, 'cell,': 1, 'princes': 1, 'bloodily': 1, 'struck?': 1, 'Ambassador.': 1, 'affairs': 1, 'late:': 1, \"fulfill'd\": 1, 'dead:': 1, 'thanks?': 1, 'ability': 1, 'wars,': 1, \"arriv'd,\": 1, 'High': 1, 'placed': 1, 'view;': 1, 'unknowing': 1, 'about:': 1, 'carnal,': 1, 'acts;': 1, 'accidental': 1, 'judgments,': 1, 'casual': 1, 'slaughters;': 1, 'deaths': 1, 'cause;': 1, 'upshot,': 1, 'purposes': 1, 'mistook': 1, \"Fall'n\": 1, \"inventors'\": 1, 'deliver.': 1, 'noblest': 1, 'audience.': 1, 'fortune:': 1, 'kingdom,': 1, 'claim': 1, 'vantage': 1, 'invite': 1, \"perform'd,\": 1, 'minds': 1, 'wild:': 1, 'errors': 1, 'happen.': 1, 'captains': 1, 'Bear': 1, 'soldier': 1, 'stage;': 1, 'likely,': 1, 'royally:': 1, 'passage,': 1, \"soldiers'\": 1, 'rites': 1, 'war': 1, 'loudly': 1, 'bodies.--Such': 1, 'Becomes': 1, 'field,': 1, 'amiss.': 1, 'shoot.': 1, 'march.]': 1, '[Exeunt,': 1, 'bearing': 1, 'bodies;': 1, 'peal': 1, 'off.]': 1, 'End': 1})\n"
          ]
        }
      ]
    },
    {
      "cell_type": "markdown",
      "metadata": {
        "id": "4LY4f9UwOl2W"
      },
      "source": [
        "### 1) Better splitting \n",
        "\n",
        "Currently our 'words' can contain punctuation, because only spaces are removed. A better way to split is using regular expressions  [Python's 're' package](https://docs.python.org/3.5/library/re.html?highlight=regular%20expressions). **`re.split('\\W+', 'my. test. string!')`** does a good job. Try it out below by fixing the line that starts with '>>>'."
      ]
    },
    {
      "cell_type": "code",
      "metadata": {
        "id": "wuQDbhOAOl2X",
        "colab": {
          "base_uri": "https://localhost:8080/"
        },
        "outputId": "0f599b40-88be-43f7-8c00-2b4763817fbd"
      },
      "source": [
        "import re\n",
        "wordRDD = lineRDD.flatMap(lambda x: re.split('\\W+', 'my. test. string!') ) # apply re.split('\\W+', string) here\n",
        "wordFilteredRDD = wordRDD.filter(lambda x: len(x)>0) # filtering\n",
        "wordFilteredRDD.take(3)"
      ],
      "execution_count": 22,
      "outputs": [
        {
          "output_type": "execute_result",
          "data": {
            "text/plain": [
              "['my', 'test', 'string']"
            ]
          },
          "metadata": {},
          "execution_count": 22
        }
      ]
    },
    {
      "cell_type": "markdown",
      "metadata": {
        "id": "ktBnkI5TOl2Y"
      },
      "source": [
        "### 2) Use lower case\n",
        "\n",
        "**Convert all strings** to lower case (using **`.lower()`** provided by the Python string class), so that 'Test' and 'test' count as the same word. Package it into one a tuple of the form (word,1) in the same call."
      ]
    },
    {
      "cell_type": "code",
      "metadata": {
        "id": "DBqa2EQjOl2Y",
        "colab": {
          "base_uri": "https://localhost:8080/"
        },
        "outputId": "56e640c1-c9d4-44a9-e915-a74880740089"
      },
      "source": [
        "wordLowerRDD = wordFilteredRDD.map(lambda x: x.lower())\n",
        "wordLowerRDD.take(3)"
      ],
      "execution_count": 28,
      "outputs": [
        {
          "output_type": "execute_result",
          "data": {
            "text/plain": [
              "['my', 'test', 'string']"
            ]
          },
          "metadata": {},
          "execution_count": 28
        }
      ]
    },
    {
      "cell_type": "code",
      "metadata": {
        "id": "WIVwV56lOl2a",
        "colab": {
          "base_uri": "https://localhost:8080/"
        },
        "outputId": "1af198b0-08ec-43fe-c1a9-45e5fd514e0f"
      },
      "source": [
        "word1LowerRDD = wordLowerRDD.map(lambda x: (x, 1))\n",
        "wordCountLowerRDD = word1LowerRDD.reduceByKey(lambda x,y: x+y) # we can now get better word count results\n",
        "wordCountLowerRDD.take(3)"
      ],
      "execution_count": 29,
      "outputs": [
        {
          "output_type": "execute_result",
          "data": {
            "text/plain": [
              "[('test', 7066), ('my', 7066), ('string', 7066)]"
            ]
          },
          "metadata": {},
          "execution_count": 29
        }
      ]
    },
    {
      "cell_type": "markdown",
      "metadata": {
        "id": "L7jgnYSVOl2b"
      },
      "source": [
        "### 3) Filter rare words\n",
        "\n",
        "Add a filtering step call **remove all words with less than 5 occurrences**. This can be useful to if you want to identify common topics in documents, where very rare words can be misleading. "
      ]
    },
    {
      "cell_type": "code",
      "metadata": {
        "id": "CTd9S_y6Ol2b",
        "colab": {
          "base_uri": "https://localhost:8080/"
        },
        "outputId": "26deea99-48fd-49d4-a002-818d49f4c229"
      },
      "source": [
        "# the trick here is to apply the lambda only to the second part of each item, i.e. x[1] \n",
        "freqWordsRDD = wordCountRDD.filter(lambda x: len(x)<5 ) # tip: filter keeps the elements for which the lambda function returns true\n",
        "freqWordsRDD.take(3)"
      ],
      "execution_count": 35,
      "outputs": [
        {
          "output_type": "execute_result",
          "data": {
            "text/plain": [
              "[('Project', 21), ('Etext', 4), ('of', 679)]"
            ]
          },
          "metadata": {},
          "execution_count": 35
        }
      ]
    },
    {
      "cell_type": "markdown",
      "metadata": {
        "id": "IypcO9SPOl2d"
      },
      "source": [
        "### 4) List only stopwords\n",
        "\n",
        "**Stopwords** are frequent words that are not topic-specifc (articles, pronouns, ...). Removing stopwords can be useful in recognising the topic of a document. Removing non-stopwords can be useful for recognising the style of an author. \n",
        "\n",
        "Below is a small list of stopwords. Filter so that you keep the tuples where the **first element is in the stopword list**."
      ]
    },
    {
      "cell_type": "code",
      "metadata": {
        "id": "T85Nx6ZuOl2e"
      },
      "source": [
        "stopWordList = ['the','a','in','of','on','at','for','by','I','you','me'] \n",
        "stopWordsRDD = freqWordsRDD.filter(lambda x: x[0] in stopWordList  ) # the 1st part of the tuple should be in the list "
      ],
      "execution_count": 36,
      "outputs": []
    },
    {
      "cell_type": "markdown",
      "metadata": {
        "id": "gKVS18B9Ol2f"
      },
      "source": [
        "We can now list the results (there are only a few words. "
      ]
    },
    {
      "cell_type": "code",
      "metadata": {
        "id": "JsX57MXHOl2g",
        "colab": {
          "base_uri": "https://localhost:8080/"
        },
        "outputId": "1627b44c-d266-44ba-a6dd-6ea2a0d826a3"
      },
      "source": [
        "output = stopWordsRDD.collect() \n",
        "for (word, count) in output:\n",
        "    print(\"%s: %i\" % (word, count))"
      ],
      "execution_count": 37,
      "outputs": [
        {
          "output_type": "stream",
          "name": "stdout",
          "text": [
            "of: 679\n",
            "at: 85\n",
            "in: 398\n",
            "by: 118\n",
            "the: 1044\n",
            "for: 185\n",
            "a: 478\n",
            "you: 401\n",
            "on: 111\n",
            "I: 511\n",
            "me: 142\n"
          ]
        }
      ]
    },
    {
      "cell_type": "markdown",
      "metadata": {
        "id": "OQcQSKw0Ol2k"
      },
      "source": [
        "## Reading\n",
        "\n",
        "Read chapter 1 of Lescovec et al (2019), \"Mining of Massive Datasets\", and work out the answers to exercise 1.2.1 on page 7 and 1.3.1 and 1.3.2 on page 15. If you have time, start reading chapter 2."
      ]
    },
    {
      "cell_type": "markdown",
      "metadata": {
        "id": "XBMQj71VOl2k"
      },
      "source": [
        "## Spark @home (optional)\n",
        "\n",
        "You can try and install Spark on your own laptop or desktop, using the instructions provided on Moodle."
      ]
    }
  ]
}